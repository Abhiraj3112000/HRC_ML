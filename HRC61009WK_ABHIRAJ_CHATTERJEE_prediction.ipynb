{
  "cells": [
    {
      "cell_type": "markdown",
      "id": "wcq6dWzy1ZR0",
      "metadata": {
        "id": "wcq6dWzy1ZR0"
      },
      "source": [
        "# Payment Date Prediction "
      ]
    },
    {
      "cell_type": "markdown",
      "id": "2778654e",
      "metadata": {
        "id": "2778654e"
      },
      "source": [
        "\n",
        "### Importing related Libraries "
      ]
    },
    {
      "cell_type": "code",
      "execution_count": 434,
      "id": "304c9e38",
      "metadata": {
        "id": "304c9e38"
      },
      "outputs": [],
      "source": [
        "import pandas as pd\n",
        "import numpy as np\n",
        "import matplotlib.pyplot as plt\n",
        "import seaborn as sns\n",
        "from sklearn.feature_selection import VarianceThreshold\n",
        "from sklearn.model_selection import train_test_split\n",
        "import pickle\n",
        "\n",
        "import warnings\n",
        "warnings.filterwarnings(\"ignore\")"
      ]
    },
    {
      "cell_type": "markdown",
      "id": "8724f5ee",
      "metadata": {
        "id": "8724f5ee"
      },
      "source": [
        "### Store the dataset into the Dataframe\n"
      ]
    },
    {
      "cell_type": "code",
      "execution_count": 435,
      "id": "415db50a",
      "metadata": {
        "id": "415db50a"
      },
      "outputs": [],
      "source": [
        "df = pd.read_csv('dataset.csv')"
      ]
    },
    {
      "cell_type": "markdown",
      "id": "42e37f05",
      "metadata": {
        "id": "42e37f05"
      },
      "source": [
        "### Check the shape of the dataframe\n"
      ]
    },
    {
      "cell_type": "code",
      "execution_count": 436,
      "id": "27cc0907",
      "metadata": {
        "colab": {
          "base_uri": "https://localhost:8080/"
        },
        "id": "27cc0907",
        "outputId": "47d710c1-9af3-4df0-ec8d-a544d055d3ef"
      },
      "outputs": [
        {
          "data": {
            "text/plain": [
              "(50099, 19)"
            ]
          },
          "execution_count": 436,
          "metadata": {},
          "output_type": "execute_result"
        }
      ],
      "source": [
        "df.shape"
      ]
    },
    {
      "cell_type": "markdown",
      "id": "b68c955d",
      "metadata": {
        "id": "b68c955d"
      },
      "source": [
        "### Check the Detail information of the dataframe"
      ]
    },
    {
      "cell_type": "code",
      "execution_count": 437,
      "id": "e092ec9e",
      "metadata": {
        "colab": {
          "base_uri": "https://localhost:8080/"
        },
        "id": "e092ec9e",
        "outputId": "2c2911a6-b8f8-4e30-906e-c77dae0cbd0e"
      },
      "outputs": [
        {
          "name": "stdout",
          "output_type": "stream",
          "text": [
            "<class 'pandas.core.frame.DataFrame'>\n",
            "RangeIndex: 50099 entries, 0 to 50098\n",
            "Data columns (total 19 columns):\n",
            " #   Column                  Non-Null Count  Dtype  \n",
            "---  ------                  --------------  -----  \n",
            " 0   business_code           50099 non-null  object \n",
            " 1   cust_number             50099 non-null  object \n",
            " 2   name_customer           50099 non-null  object \n",
            " 3   clear_date              40000 non-null  object \n",
            " 4   buisness_year           50099 non-null  int64  \n",
            " 5   doc_id                  50099 non-null  int64  \n",
            " 6   posting_date            50099 non-null  object \n",
            " 7   document_create_date    50099 non-null  int64  \n",
            " 8   document_create_date.1  50099 non-null  int64  \n",
            " 9   due_in_date             50099 non-null  int64  \n",
            " 10  invoice_currency        50099 non-null  object \n",
            " 11  document type           50099 non-null  object \n",
            " 12  posting_id              50099 non-null  int64  \n",
            " 13  area_business           0 non-null      float64\n",
            " 14  total_open_amount       50099 non-null  float64\n",
            " 15  baseline_create_date    50099 non-null  int64  \n",
            " 16  cust_payment_terms      50099 non-null  object \n",
            " 17  invoice_id              50093 non-null  float64\n",
            " 18  isOpen                  50099 non-null  int64  \n",
            "dtypes: float64(3), int64(8), object(8)\n",
            "memory usage: 7.3+ MB\n"
          ]
        }
      ],
      "source": [
        "df.info()"
      ]
    },
    {
      "cell_type": "markdown",
      "id": "112f2d0e",
      "metadata": {
        "id": "112f2d0e"
      },
      "source": [
        "### Display All the column names"
      ]
    },
    {
      "cell_type": "code",
      "execution_count": 438,
      "id": "1416e2fd",
      "metadata": {
        "colab": {
          "base_uri": "https://localhost:8080/"
        },
        "id": "1416e2fd",
        "outputId": "10e08936-cf0c-4524-8bd2-4af78f4fc02f"
      },
      "outputs": [
        {
          "data": {
            "text/plain": [
              "Index(['business_code', 'cust_number', 'name_customer', 'clear_date',\n",
              "       'buisness_year', 'doc_id', 'posting_date', 'document_create_date',\n",
              "       'document_create_date.1', 'due_in_date', 'invoice_currency',\n",
              "       'document type', 'posting_id', 'area_business', 'total_open_amount',\n",
              "       'baseline_create_date', 'cust_payment_terms', 'invoice_id', 'isOpen'],\n",
              "      dtype='object')"
            ]
          },
          "execution_count": 438,
          "metadata": {},
          "output_type": "execute_result"
        }
      ],
      "source": [
        "df.columns"
      ]
    },
    {
      "cell_type": "markdown",
      "id": "d465ed7a",
      "metadata": {
        "id": "d465ed7a"
      },
      "source": [
        "### Describe the entire dataset"
      ]
    },
    {
      "cell_type": "code",
      "execution_count": 439,
      "id": "25f65e1b",
      "metadata": {
        "colab": {
          "base_uri": "https://localhost:8080/",
          "height": 364
        },
        "id": "25f65e1b",
        "outputId": "c96abb8c-b02b-4853-e17e-b2d66be556ab"
      },
      "outputs": [
        {
          "data": {
            "text/html": [
              "<div>\n",
              "<style scoped>\n",
              "    .dataframe tbody tr th:only-of-type {\n",
              "        vertical-align: middle;\n",
              "    }\n",
              "\n",
              "    .dataframe tbody tr th {\n",
              "        vertical-align: top;\n",
              "    }\n",
              "\n",
              "    .dataframe thead th {\n",
              "        text-align: right;\n",
              "    }\n",
              "</style>\n",
              "<table border=\"1\" class=\"dataframe\">\n",
              "  <thead>\n",
              "    <tr style=\"text-align: right;\">\n",
              "      <th></th>\n",
              "      <th>buisness_year</th>\n",
              "      <th>doc_id</th>\n",
              "      <th>document_create_date</th>\n",
              "      <th>document_create_date.1</th>\n",
              "      <th>due_in_date</th>\n",
              "      <th>posting_id</th>\n",
              "      <th>area_business</th>\n",
              "      <th>total_open_amount</th>\n",
              "      <th>baseline_create_date</th>\n",
              "      <th>invoice_id</th>\n",
              "      <th>isOpen</th>\n",
              "    </tr>\n",
              "  </thead>\n",
              "  <tbody>\n",
              "    <tr>\n",
              "      <th>count</th>\n",
              "      <td>50099.000000</td>\n",
              "      <td>5.009900e+04</td>\n",
              "      <td>5.009900e+04</td>\n",
              "      <td>5.009900e+04</td>\n",
              "      <td>5.009900e+04</td>\n",
              "      <td>50099.0</td>\n",
              "      <td>0.0</td>\n",
              "      <td>50099.000000</td>\n",
              "      <td>5.009900e+04</td>\n",
              "      <td>5.009300e+04</td>\n",
              "      <td>50099.000000</td>\n",
              "    </tr>\n",
              "    <tr>\n",
              "      <th>mean</th>\n",
              "      <td>2019.307072</td>\n",
              "      <td>2.014112e+09</td>\n",
              "      <td>2.019353e+07</td>\n",
              "      <td>2.019355e+07</td>\n",
              "      <td>2.019369e+07</td>\n",
              "      <td>1.0</td>\n",
              "      <td>NaN</td>\n",
              "      <td>32456.565546</td>\n",
              "      <td>2.019355e+07</td>\n",
              "      <td>2.013216e+09</td>\n",
              "      <td>0.201581</td>\n",
              "    </tr>\n",
              "    <tr>\n",
              "      <th>std</th>\n",
              "      <td>0.461284</td>\n",
              "      <td>2.912992e+08</td>\n",
              "      <td>4.501712e+03</td>\n",
              "      <td>4.487779e+03</td>\n",
              "      <td>4.475909e+03</td>\n",
              "      <td>0.0</td>\n",
              "      <td>NaN</td>\n",
              "      <td>39259.249400</td>\n",
              "      <td>4.488339e+03</td>\n",
              "      <td>2.795573e+08</td>\n",
              "      <td>0.401185</td>\n",
              "    </tr>\n",
              "    <tr>\n",
              "      <th>min</th>\n",
              "      <td>2019.000000</td>\n",
              "      <td>1.928502e+09</td>\n",
              "      <td>2.018123e+07</td>\n",
              "      <td>2.018123e+07</td>\n",
              "      <td>2.018122e+07</td>\n",
              "      <td>1.0</td>\n",
              "      <td>NaN</td>\n",
              "      <td>0.720000</td>\n",
              "      <td>2.018121e+07</td>\n",
              "      <td>1.928502e+09</td>\n",
              "      <td>0.000000</td>\n",
              "    </tr>\n",
              "    <tr>\n",
              "      <th>25%</th>\n",
              "      <td>2019.000000</td>\n",
              "      <td>1.929343e+09</td>\n",
              "      <td>2.019051e+07</td>\n",
              "      <td>2.019051e+07</td>\n",
              "      <td>2.019052e+07</td>\n",
              "      <td>1.0</td>\n",
              "      <td>NaN</td>\n",
              "      <td>4943.480000</td>\n",
              "      <td>2.019051e+07</td>\n",
              "      <td>1.929343e+09</td>\n",
              "      <td>0.000000</td>\n",
              "    </tr>\n",
              "    <tr>\n",
              "      <th>50%</th>\n",
              "      <td>2019.000000</td>\n",
              "      <td>1.929968e+09</td>\n",
              "      <td>2.019091e+07</td>\n",
              "      <td>2.019091e+07</td>\n",
              "      <td>2.019093e+07</td>\n",
              "      <td>1.0</td>\n",
              "      <td>NaN</td>\n",
              "      <td>17700.000000</td>\n",
              "      <td>2.019091e+07</td>\n",
              "      <td>1.929968e+09</td>\n",
              "      <td>0.000000</td>\n",
              "    </tr>\n",
              "    <tr>\n",
              "      <th>75%</th>\n",
              "      <td>2020.000000</td>\n",
              "      <td>1.930621e+09</td>\n",
              "      <td>2.020013e+07</td>\n",
              "      <td>2.020013e+07</td>\n",
              "      <td>2.020022e+07</td>\n",
              "      <td>1.0</td>\n",
              "      <td>NaN</td>\n",
              "      <td>47385.590000</td>\n",
              "      <td>2.020013e+07</td>\n",
              "      <td>1.930621e+09</td>\n",
              "      <td>0.000000</td>\n",
              "    </tr>\n",
              "    <tr>\n",
              "      <th>max</th>\n",
              "      <td>2020.000000</td>\n",
              "      <td>9.500000e+09</td>\n",
              "      <td>2.020052e+07</td>\n",
              "      <td>2.020052e+07</td>\n",
              "      <td>2.020071e+07</td>\n",
              "      <td>1.0</td>\n",
              "      <td>NaN</td>\n",
              "      <td>668593.360000</td>\n",
              "      <td>2.020052e+07</td>\n",
              "      <td>2.960636e+09</td>\n",
              "      <td>1.000000</td>\n",
              "    </tr>\n",
              "  </tbody>\n",
              "</table>\n",
              "</div>"
            ],
            "text/plain": [
              "       buisness_year        doc_id  document_create_date  \\\n",
              "count   50099.000000  5.009900e+04          5.009900e+04   \n",
              "mean     2019.307072  2.014112e+09          2.019353e+07   \n",
              "std         0.461284  2.912992e+08          4.501712e+03   \n",
              "min      2019.000000  1.928502e+09          2.018123e+07   \n",
              "25%      2019.000000  1.929343e+09          2.019051e+07   \n",
              "50%      2019.000000  1.929968e+09          2.019091e+07   \n",
              "75%      2020.000000  1.930621e+09          2.020013e+07   \n",
              "max      2020.000000  9.500000e+09          2.020052e+07   \n",
              "\n",
              "       document_create_date.1   due_in_date  posting_id  area_business  \\\n",
              "count            5.009900e+04  5.009900e+04     50099.0            0.0   \n",
              "mean             2.019355e+07  2.019369e+07         1.0            NaN   \n",
              "std              4.487779e+03  4.475909e+03         0.0            NaN   \n",
              "min              2.018123e+07  2.018122e+07         1.0            NaN   \n",
              "25%              2.019051e+07  2.019052e+07         1.0            NaN   \n",
              "50%              2.019091e+07  2.019093e+07         1.0            NaN   \n",
              "75%              2.020013e+07  2.020022e+07         1.0            NaN   \n",
              "max              2.020052e+07  2.020071e+07         1.0            NaN   \n",
              "\n",
              "       total_open_amount  baseline_create_date    invoice_id        isOpen  \n",
              "count       50099.000000          5.009900e+04  5.009300e+04  50099.000000  \n",
              "mean        32456.565546          2.019355e+07  2.013216e+09      0.201581  \n",
              "std         39259.249400          4.488339e+03  2.795573e+08      0.401185  \n",
              "min             0.720000          2.018121e+07  1.928502e+09      0.000000  \n",
              "25%          4943.480000          2.019051e+07  1.929343e+09      0.000000  \n",
              "50%         17700.000000          2.019091e+07  1.929968e+09      0.000000  \n",
              "75%         47385.590000          2.020013e+07  1.930621e+09      0.000000  \n",
              "max        668593.360000          2.020052e+07  2.960636e+09      1.000000  "
            ]
          },
          "execution_count": 439,
          "metadata": {},
          "output_type": "execute_result"
        }
      ],
      "source": [
        "df.describe()"
      ]
    },
    {
      "cell_type": "markdown",
      "id": "0f2c8d02",
      "metadata": {
        "id": "0f2c8d02"
      },
      "source": [
        "# Data Cleaning\n",
        "\n",
        "- Show top 5 records from the dataset"
      ]
    },
    {
      "cell_type": "code",
      "execution_count": 440,
      "id": "8f876212",
      "metadata": {
        "colab": {
          "base_uri": "https://localhost:8080/",
          "height": 357
        },
        "id": "8f876212",
        "outputId": "337e643c-8453-42eb-cb1d-17164c86aecc"
      },
      "outputs": [
        {
          "data": {
            "text/html": [
              "<div>\n",
              "<style scoped>\n",
              "    .dataframe tbody tr th:only-of-type {\n",
              "        vertical-align: middle;\n",
              "    }\n",
              "\n",
              "    .dataframe tbody tr th {\n",
              "        vertical-align: top;\n",
              "    }\n",
              "\n",
              "    .dataframe thead th {\n",
              "        text-align: right;\n",
              "    }\n",
              "</style>\n",
              "<table border=\"1\" class=\"dataframe\">\n",
              "  <thead>\n",
              "    <tr style=\"text-align: right;\">\n",
              "      <th></th>\n",
              "      <th>business_code</th>\n",
              "      <th>cust_number</th>\n",
              "      <th>name_customer</th>\n",
              "      <th>clear_date</th>\n",
              "      <th>buisness_year</th>\n",
              "      <th>doc_id</th>\n",
              "      <th>posting_date</th>\n",
              "      <th>document_create_date</th>\n",
              "      <th>document_create_date.1</th>\n",
              "      <th>due_in_date</th>\n",
              "      <th>invoice_currency</th>\n",
              "      <th>document type</th>\n",
              "      <th>posting_id</th>\n",
              "      <th>area_business</th>\n",
              "      <th>total_open_amount</th>\n",
              "      <th>baseline_create_date</th>\n",
              "      <th>cust_payment_terms</th>\n",
              "      <th>invoice_id</th>\n",
              "      <th>isOpen</th>\n",
              "    </tr>\n",
              "  </thead>\n",
              "  <tbody>\n",
              "    <tr>\n",
              "      <th>0</th>\n",
              "      <td>U001</td>\n",
              "      <td>200769623</td>\n",
              "      <td>WAL-MAR corp</td>\n",
              "      <td>11-02-2020 00:00</td>\n",
              "      <td>2020</td>\n",
              "      <td>1930438491</td>\n",
              "      <td>26-01-2020</td>\n",
              "      <td>20200125</td>\n",
              "      <td>20200126</td>\n",
              "      <td>20200210</td>\n",
              "      <td>USD</td>\n",
              "      <td>RV</td>\n",
              "      <td>1</td>\n",
              "      <td>NaN</td>\n",
              "      <td>54273.28</td>\n",
              "      <td>20200126</td>\n",
              "      <td>NAH4</td>\n",
              "      <td>1.930438e+09</td>\n",
              "      <td>0</td>\n",
              "    </tr>\n",
              "    <tr>\n",
              "      <th>1</th>\n",
              "      <td>U001</td>\n",
              "      <td>200980828</td>\n",
              "      <td>BEN E</td>\n",
              "      <td>08-08-2019 00:00</td>\n",
              "      <td>2019</td>\n",
              "      <td>1929646410</td>\n",
              "      <td>22-07-2019</td>\n",
              "      <td>20190722</td>\n",
              "      <td>20190722</td>\n",
              "      <td>20190811</td>\n",
              "      <td>USD</td>\n",
              "      <td>RV</td>\n",
              "      <td>1</td>\n",
              "      <td>NaN</td>\n",
              "      <td>79656.60</td>\n",
              "      <td>20190722</td>\n",
              "      <td>NAD1</td>\n",
              "      <td>1.929646e+09</td>\n",
              "      <td>0</td>\n",
              "    </tr>\n",
              "    <tr>\n",
              "      <th>2</th>\n",
              "      <td>U001</td>\n",
              "      <td>200792734</td>\n",
              "      <td>MDV/ trust</td>\n",
              "      <td>30-12-2019 00:00</td>\n",
              "      <td>2019</td>\n",
              "      <td>1929873765</td>\n",
              "      <td>14-09-2019</td>\n",
              "      <td>20190914</td>\n",
              "      <td>20190914</td>\n",
              "      <td>20190929</td>\n",
              "      <td>USD</td>\n",
              "      <td>RV</td>\n",
              "      <td>1</td>\n",
              "      <td>NaN</td>\n",
              "      <td>2253.86</td>\n",
              "      <td>20190914</td>\n",
              "      <td>NAA8</td>\n",
              "      <td>1.929874e+09</td>\n",
              "      <td>0</td>\n",
              "    </tr>\n",
              "    <tr>\n",
              "      <th>3</th>\n",
              "      <td>CA02</td>\n",
              "      <td>140105686</td>\n",
              "      <td>SYSC llc</td>\n",
              "      <td>NaN</td>\n",
              "      <td>2020</td>\n",
              "      <td>2960623488</td>\n",
              "      <td>30-03-2020</td>\n",
              "      <td>20200330</td>\n",
              "      <td>20200330</td>\n",
              "      <td>20200410</td>\n",
              "      <td>CAD</td>\n",
              "      <td>RV</td>\n",
              "      <td>1</td>\n",
              "      <td>NaN</td>\n",
              "      <td>3299.70</td>\n",
              "      <td>20200331</td>\n",
              "      <td>CA10</td>\n",
              "      <td>2.960623e+09</td>\n",
              "      <td>1</td>\n",
              "    </tr>\n",
              "    <tr>\n",
              "      <th>4</th>\n",
              "      <td>U001</td>\n",
              "      <td>200769623</td>\n",
              "      <td>WAL-MAR foundation</td>\n",
              "      <td>25-11-2019 00:00</td>\n",
              "      <td>2019</td>\n",
              "      <td>1930147974</td>\n",
              "      <td>13-11-2019</td>\n",
              "      <td>20191113</td>\n",
              "      <td>20191113</td>\n",
              "      <td>20191128</td>\n",
              "      <td>USD</td>\n",
              "      <td>RV</td>\n",
              "      <td>1</td>\n",
              "      <td>NaN</td>\n",
              "      <td>33133.29</td>\n",
              "      <td>20191113</td>\n",
              "      <td>NAH4</td>\n",
              "      <td>1.930148e+09</td>\n",
              "      <td>0</td>\n",
              "    </tr>\n",
              "  </tbody>\n",
              "</table>\n",
              "</div>"
            ],
            "text/plain": [
              "  business_code cust_number       name_customer        clear_date  \\\n",
              "0          U001   200769623        WAL-MAR corp  11-02-2020 00:00   \n",
              "1          U001   200980828              BEN E   08-08-2019 00:00   \n",
              "2          U001   200792734          MDV/ trust  30-12-2019 00:00   \n",
              "3          CA02   140105686            SYSC llc               NaN   \n",
              "4          U001   200769623  WAL-MAR foundation  25-11-2019 00:00   \n",
              "\n",
              "   buisness_year      doc_id posting_date  document_create_date  \\\n",
              "0           2020  1930438491   26-01-2020              20200125   \n",
              "1           2019  1929646410   22-07-2019              20190722   \n",
              "2           2019  1929873765   14-09-2019              20190914   \n",
              "3           2020  2960623488   30-03-2020              20200330   \n",
              "4           2019  1930147974   13-11-2019              20191113   \n",
              "\n",
              "   document_create_date.1  due_in_date invoice_currency document type  \\\n",
              "0                20200126     20200210              USD            RV   \n",
              "1                20190722     20190811              USD            RV   \n",
              "2                20190914     20190929              USD            RV   \n",
              "3                20200330     20200410              CAD            RV   \n",
              "4                20191113     20191128              USD            RV   \n",
              "\n",
              "   posting_id  area_business  total_open_amount  baseline_create_date  \\\n",
              "0           1            NaN           54273.28              20200126   \n",
              "1           1            NaN           79656.60              20190722   \n",
              "2           1            NaN            2253.86              20190914   \n",
              "3           1            NaN            3299.70              20200331   \n",
              "4           1            NaN           33133.29              20191113   \n",
              "\n",
              "  cust_payment_terms    invoice_id  isOpen  \n",
              "0               NAH4  1.930438e+09       0  \n",
              "1               NAD1  1.929646e+09       0  \n",
              "2               NAA8  1.929874e+09       0  \n",
              "3               CA10  2.960623e+09       1  \n",
              "4               NAH4  1.930148e+09       0  "
            ]
          },
          "execution_count": 440,
          "metadata": {},
          "output_type": "execute_result"
        }
      ],
      "source": [
        "df.head(5)"
      ]
    },
    {
      "cell_type": "markdown",
      "id": "92b044e4",
      "metadata": {
        "id": "92b044e4"
      },
      "source": [
        "### Display the Null values percentage against every columns (compare to the total number of records)\n",
        "\n",
        "- Output expected : area_business - 100% null, clear_data = 20% null, invoice_id = 0.12% null"
      ]
    },
    {
      "cell_type": "code",
      "execution_count": 441,
      "id": "24c7b13d",
      "metadata": {
        "colab": {
          "base_uri": "https://localhost:8080/"
        },
        "id": "24c7b13d",
        "outputId": "794af0d6-66a5-465c-bb8b-32f62d1ef5c8"
      },
      "outputs": [
        {
          "data": {
            "text/plain": [
              "business_code               0.000000\n",
              "cust_number                 0.000000\n",
              "name_customer               0.000000\n",
              "clear_date                 20.158087\n",
              "buisness_year               0.000000\n",
              "doc_id                      0.000000\n",
              "posting_date                0.000000\n",
              "document_create_date        0.000000\n",
              "document_create_date.1      0.000000\n",
              "due_in_date                 0.000000\n",
              "invoice_currency            0.000000\n",
              "document type               0.000000\n",
              "posting_id                  0.000000\n",
              "area_business             100.000000\n",
              "total_open_amount           0.000000\n",
              "baseline_create_date        0.000000\n",
              "cust_payment_terms          0.000000\n",
              "invoice_id                  0.011976\n",
              "isOpen                      0.000000\n",
              "dtype: float64"
            ]
          },
          "execution_count": 441,
          "metadata": {},
          "output_type": "execute_result"
        }
      ],
      "source": [
        "df.isna().mean()*100"
      ]
    },
    {
      "cell_type": "markdown",
      "id": "2c46a98b",
      "metadata": {
        "id": "2c46a98b"
      },
      "source": [
        "### Display Invoice_id and Doc_Id\n",
        "\n",
        "- Note - Many of the would have same invoice_id and doc_id\n"
      ]
    },
    {
      "cell_type": "code",
      "execution_count": 442,
      "id": "038f24bb",
      "metadata": {
        "colab": {
          "base_uri": "https://localhost:8080/",
          "height": 424
        },
        "id": "038f24bb",
        "outputId": "74dd23c9-79f8-461d-f048-3318f3fc4880"
      },
      "outputs": [
        {
          "data": {
            "text/html": [
              "<div>\n",
              "<style scoped>\n",
              "    .dataframe tbody tr th:only-of-type {\n",
              "        vertical-align: middle;\n",
              "    }\n",
              "\n",
              "    .dataframe tbody tr th {\n",
              "        vertical-align: top;\n",
              "    }\n",
              "\n",
              "    .dataframe thead th {\n",
              "        text-align: right;\n",
              "    }\n",
              "</style>\n",
              "<table border=\"1\" class=\"dataframe\">\n",
              "  <thead>\n",
              "    <tr style=\"text-align: right;\">\n",
              "      <th></th>\n",
              "      <th>invoice_id</th>\n",
              "      <th>doc_id</th>\n",
              "    </tr>\n",
              "  </thead>\n",
              "  <tbody>\n",
              "    <tr>\n",
              "      <th>0</th>\n",
              "      <td>1.930438e+09</td>\n",
              "      <td>1930438491</td>\n",
              "    </tr>\n",
              "    <tr>\n",
              "      <th>1</th>\n",
              "      <td>1.929646e+09</td>\n",
              "      <td>1929646410</td>\n",
              "    </tr>\n",
              "    <tr>\n",
              "      <th>2</th>\n",
              "      <td>1.929874e+09</td>\n",
              "      <td>1929873765</td>\n",
              "    </tr>\n",
              "    <tr>\n",
              "      <th>3</th>\n",
              "      <td>2.960623e+09</td>\n",
              "      <td>2960623488</td>\n",
              "    </tr>\n",
              "    <tr>\n",
              "      <th>4</th>\n",
              "      <td>1.930148e+09</td>\n",
              "      <td>1930147974</td>\n",
              "    </tr>\n",
              "    <tr>\n",
              "      <th>...</th>\n",
              "      <td>...</td>\n",
              "      <td>...</td>\n",
              "    </tr>\n",
              "    <tr>\n",
              "      <th>50094</th>\n",
              "      <td>2.960619e+09</td>\n",
              "      <td>2960618884</td>\n",
              "    </tr>\n",
              "    <tr>\n",
              "      <th>50095</th>\n",
              "      <td>2.960619e+09</td>\n",
              "      <td>2960618885</td>\n",
              "    </tr>\n",
              "    <tr>\n",
              "      <th>50096</th>\n",
              "      <td>2.960619e+09</td>\n",
              "      <td>2960618886</td>\n",
              "    </tr>\n",
              "    <tr>\n",
              "      <th>50097</th>\n",
              "      <td>2.960619e+09</td>\n",
              "      <td>2960618887</td>\n",
              "    </tr>\n",
              "    <tr>\n",
              "      <th>50098</th>\n",
              "      <td>2.960619e+09</td>\n",
              "      <td>2960618888</td>\n",
              "    </tr>\n",
              "  </tbody>\n",
              "</table>\n",
              "<p>50099 rows × 2 columns</p>\n",
              "</div>"
            ],
            "text/plain": [
              "         invoice_id      doc_id\n",
              "0      1.930438e+09  1930438491\n",
              "1      1.929646e+09  1929646410\n",
              "2      1.929874e+09  1929873765\n",
              "3      2.960623e+09  2960623488\n",
              "4      1.930148e+09  1930147974\n",
              "...             ...         ...\n",
              "50094  2.960619e+09  2960618884\n",
              "50095  2.960619e+09  2960618885\n",
              "50096  2.960619e+09  2960618886\n",
              "50097  2.960619e+09  2960618887\n",
              "50098  2.960619e+09  2960618888\n",
              "\n",
              "[50099 rows x 2 columns]"
            ]
          },
          "execution_count": 442,
          "metadata": {},
          "output_type": "execute_result"
        }
      ],
      "source": [
        "df[['invoice_id','doc_id']]"
      ]
    },
    {
      "cell_type": "markdown",
      "id": "18cfe10a",
      "metadata": {
        "id": "18cfe10a"
      },
      "source": [
        "#### Write a code to check - 'baseline_create_date',\"document_create_date\",'document_create_date.1' - these columns are almost same.\n",
        "\n",
        "- Please note, if they are same, we need to drop them later\n",
        "\n"
      ]
    },
    {
      "cell_type": "code",
      "execution_count": 443,
      "id": "cf5b40ff",
      "metadata": {
        "colab": {
          "base_uri": "https://localhost:8080/",
          "height": 144
        },
        "id": "cf5b40ff",
        "outputId": "3c8cd33c-a2a8-4f5c-ae0c-1bffcd092114"
      },
      "outputs": [
        {
          "data": {
            "text/html": [
              "<div>\n",
              "<style scoped>\n",
              "    .dataframe tbody tr th:only-of-type {\n",
              "        vertical-align: middle;\n",
              "    }\n",
              "\n",
              "    .dataframe tbody tr th {\n",
              "        vertical-align: top;\n",
              "    }\n",
              "\n",
              "    .dataframe thead th {\n",
              "        text-align: right;\n",
              "    }\n",
              "</style>\n",
              "<table border=\"1\" class=\"dataframe\">\n",
              "  <thead>\n",
              "    <tr style=\"text-align: right;\">\n",
              "      <th></th>\n",
              "      <th>baseline_create_date</th>\n",
              "      <th>document_create_date</th>\n",
              "      <th>document_create_date.1</th>\n",
              "    </tr>\n",
              "  </thead>\n",
              "  <tbody>\n",
              "    <tr>\n",
              "      <th>baseline_create_date</th>\n",
              "      <td>1.000000</td>\n",
              "      <td>0.994105</td>\n",
              "      <td>0.999529</td>\n",
              "    </tr>\n",
              "    <tr>\n",
              "      <th>document_create_date</th>\n",
              "      <td>0.994105</td>\n",
              "      <td>1.000000</td>\n",
              "      <td>0.994572</td>\n",
              "    </tr>\n",
              "    <tr>\n",
              "      <th>document_create_date.1</th>\n",
              "      <td>0.999529</td>\n",
              "      <td>0.994572</td>\n",
              "      <td>1.000000</td>\n",
              "    </tr>\n",
              "  </tbody>\n",
              "</table>\n",
              "</div>"
            ],
            "text/plain": [
              "                        baseline_create_date  document_create_date  \\\n",
              "baseline_create_date                1.000000              0.994105   \n",
              "document_create_date                0.994105              1.000000   \n",
              "document_create_date.1              0.999529              0.994572   \n",
              "\n",
              "                        document_create_date.1  \n",
              "baseline_create_date                  0.999529  \n",
              "document_create_date                  0.994572  \n",
              "document_create_date.1                1.000000  "
            ]
          },
          "execution_count": 443,
          "metadata": {},
          "output_type": "execute_result"
        }
      ],
      "source": [
        "df[['baseline_create_date','document_create_date','document_create_date.1']].corr()"
      ]
    },
    {
      "cell_type": "markdown",
      "id": "33110576",
      "metadata": {
        "id": "33110576"
      },
      "source": [
        "#### Please check, Column 'posting_id' is constant columns or not\n"
      ]
    },
    {
      "cell_type": "code",
      "execution_count": 444,
      "id": "ecce2664",
      "metadata": {
        "colab": {
          "base_uri": "https://localhost:8080/"
        },
        "id": "ecce2664",
        "outputId": "69891f81-2f73-46f7-e624-bd06b1039c6d"
      },
      "outputs": [
        {
          "data": {
            "text/plain": [
              "array([1], dtype=int64)"
            ]
          },
          "execution_count": 444,
          "metadata": {},
          "output_type": "execute_result"
        }
      ],
      "source": [
        "df['posting_id'].unique()"
      ]
    },
    {
      "cell_type": "markdown",
      "id": "BVmra_hHASYM",
      "metadata": {
        "id": "BVmra_hHASYM"
      },
      "source": [
        "So, we can see that 'posting_id' has only 1 unique value which means that all the values in it are same, hence it is a constant column."
      ]
    },
    {
      "cell_type": "code",
      "execution_count": 445,
      "id": "aKZAQ9c5Hi4G",
      "metadata": {
        "colab": {
          "base_uri": "https://localhost:8080/",
          "height": 283
        },
        "id": "aKZAQ9c5Hi4G",
        "outputId": "30f09cd3-8563-4abb-f021-a5ad3291c37c"
      },
      "outputs": [
        {
          "data": {
            "text/plain": [
              "Text(0, 0.5, 'posting_id')"
            ]
          },
          "execution_count": 445,
          "metadata": {},
          "output_type": "execute_result"
        },
        {
          "data": {
            "image/png": "[encoded data removed]",
            "text/plain": [
              "<Figure size 432x288 with 1 Axes>"
            ]
          },
          "metadata": {
            "needs_background": "light"
          },
          "output_type": "display_data"
        }
      ],
      "source": [
        "plt.plot(df['posting_id'])\n",
        "plt.ylabel('posting_id')"
      ]
    },
    {
      "cell_type": "markdown",
      "id": "e5fb8daf",
      "metadata": {
        "id": "e5fb8daf"
      },
      "source": [
        "#### Please check 'isOpen' is a constant column and relevant column for this project or not"
      ]
    },
    {
      "cell_type": "code",
      "execution_count": 446,
      "id": "8db9956b",
      "metadata": {
        "colab": {
          "base_uri": "https://localhost:8080/"
        },
        "id": "8db9956b",
        "outputId": "fe126a57-d97d-42ef-c6e9-e3dc71765ac7"
      },
      "outputs": [
        {
          "data": {
            "text/plain": [
              "array([0, 1], dtype=int64)"
            ]
          },
          "execution_count": 446,
          "metadata": {},
          "output_type": "execute_result"
        }
      ],
      "source": [
        "df['isOpen'].unique()"
      ]
    },
    {
      "cell_type": "markdown",
      "id": "JyyZ4yRZBfof",
      "metadata": {
        "id": "JyyZ4yRZBfof"
      },
      "source": [
        "So, we can see that 'isOpen' is not a constant column at first glance but let us do a little more analysis. Let us check it by plotting it against 'clear_date' which is our target variable."
      ]
    },
    {
      "cell_type": "code",
      "execution_count": 447,
      "id": "gSBvjMhMco9-",
      "metadata": {
        "colab": {
          "base_uri": "https://localhost:8080/",
          "height": 297
        },
        "id": "gSBvjMhMco9-",
        "outputId": "d43d5ecb-c97e-49e4-8d87-0d439eff1bfb"
      },
      "outputs": [
        {
          "data": {
            "text/plain": [
              "<AxesSubplot:xlabel='clearDate', ylabel='is_open'>"
            ]
          },
          "execution_count": 447,
          "metadata": {},
          "output_type": "execute_result"
        },
        {
          "data": {
            "image/png": "[encoded data removed]",
            "text/plain": [
              "<Figure size 432x288 with 1 Axes>"
            ]
          },
          "metadata": {
            "needs_background": "light"
          },
          "output_type": "display_data"
        }
      ],
      "source": [
        "d = pd.DataFrame({})\n",
        "d['clearDate'] = df['clear_date'].isna() \n",
        "d['is_open'] = df['isOpen']\n",
        "sns.scatterplot(data = d,x ='clearDate',y ='is_open')"
      ]
    },
    {
      "cell_type": "markdown",
      "id": "paVOMLJOc2ud",
      "metadata": {
        "id": "paVOMLJOc2ud"
      },
      "source": [
        "So, from the above plot we can see that 'isOpen' is 0 in those places where 'clear_date' is null and 1 in those places where it is not null; now, since 'clear_date' is our target variable, while splitting the places where it is null will become the test set and where it is not null will be used for training, hence for each of these sets respectively, 'isOpen' would be a constant column, hence 'isOpen' can be concluded to be a constant column."
      ]
    },
    {
      "cell_type": "markdown",
      "id": "45a11a62",
      "metadata": {
        "id": "45a11a62"
      },
      "source": [
        "### Write the code to drop all the following columns from the dataframe\n",
        "\n",
        "- 'area_business'\n",
        "- \"posting_id\"\n",
        "- \"invoice_id\"\n",
        "- \"document_create_date\"\n",
        "- \"isOpen\"\n",
        "- 'document type' \n",
        "- 'document_create_date.1'"
      ]
    },
    {
      "cell_type": "code",
      "execution_count": 448,
      "id": "270d85d1",
      "metadata": {
        "id": "270d85d1"
      },
      "outputs": [],
      "source": [
        "df.drop(columns=['area_business','posting_id','invoice_id','document_create_date','isOpen','document type','document_create_date.1'],inplace=True)"
      ]
    },
    {
      "cell_type": "markdown",
      "id": "K5LHAM2XVGnk",
      "metadata": {
        "id": "K5LHAM2XVGnk"
      },
      "source": [
        "### Please check from the dataframe whether all the columns are removed or not "
      ]
    },
    {
      "cell_type": "code",
      "execution_count": 449,
      "id": "ef3f7d2b",
      "metadata": {
        "colab": {
          "base_uri": "https://localhost:8080/"
        },
        "id": "ef3f7d2b",
        "outputId": "d742dbdc-c82e-42fb-98ba-8e34a703b193"
      },
      "outputs": [
        {
          "data": {
            "text/plain": [
              "Index(['business_code', 'cust_number', 'name_customer', 'clear_date',\n",
              "       'buisness_year', 'doc_id', 'posting_date', 'due_in_date',\n",
              "       'invoice_currency', 'total_open_amount', 'baseline_create_date',\n",
              "       'cust_payment_terms'],\n",
              "      dtype='object')"
            ]
          },
          "execution_count": 449,
          "metadata": {},
          "output_type": "execute_result"
        }
      ],
      "source": [
        "df.columns"
      ]
    },
    {
      "cell_type": "markdown",
      "id": "6bc052c7",
      "metadata": {
        "id": "6bc052c7"
      },
      "source": [
        "### Show all the Duplicate rows from the dataframe"
      ]
    },
    {
      "cell_type": "code",
      "execution_count": 450,
      "id": "1ae3c7e4",
      "metadata": {
        "colab": {
          "base_uri": "https://localhost:8080/",
          "height": 661
        },
        "id": "1ae3c7e4",
        "outputId": "e9f8eb47-a52e-4821-b2a8-7d96151a8f44"
      },
      "outputs": [
        {
          "data": {
            "text/html": [
              "<div>\n",
              "<style scoped>\n",
              "    .dataframe tbody tr th:only-of-type {\n",
              "        vertical-align: middle;\n",
              "    }\n",
              "\n",
              "    .dataframe tbody tr th {\n",
              "        vertical-align: top;\n",
              "    }\n",
              "\n",
              "    .dataframe thead th {\n",
              "        text-align: right;\n",
              "    }\n",
              "</style>\n",
              "<table border=\"1\" class=\"dataframe\">\n",
              "  <thead>\n",
              "    <tr style=\"text-align: right;\">\n",
              "      <th></th>\n",
              "      <th>business_code</th>\n",
              "      <th>cust_number</th>\n",
              "      <th>name_customer</th>\n",
              "      <th>clear_date</th>\n",
              "      <th>buisness_year</th>\n",
              "      <th>doc_id</th>\n",
              "      <th>posting_date</th>\n",
              "      <th>due_in_date</th>\n",
              "      <th>invoice_currency</th>\n",
              "      <th>total_open_amount</th>\n",
              "      <th>baseline_create_date</th>\n",
              "      <th>cust_payment_terms</th>\n",
              "    </tr>\n",
              "  </thead>\n",
              "  <tbody>\n",
              "    <tr>\n",
              "      <th>1041</th>\n",
              "      <td>U001</td>\n",
              "      <td>200769623</td>\n",
              "      <td>WAL-MAR in</td>\n",
              "      <td>12-03-2019 00:00</td>\n",
              "      <td>2019</td>\n",
              "      <td>1928870382</td>\n",
              "      <td>28-02-2019</td>\n",
              "      <td>20190315</td>\n",
              "      <td>USD</td>\n",
              "      <td>19557.41</td>\n",
              "      <td>20190228</td>\n",
              "      <td>NAH4</td>\n",
              "    </tr>\n",
              "    <tr>\n",
              "      <th>2400</th>\n",
              "      <td>U001</td>\n",
              "      <td>200769623</td>\n",
              "      <td>WAL-MAR trust</td>\n",
              "      <td>28-08-2019 00:00</td>\n",
              "      <td>2019</td>\n",
              "      <td>1929758460</td>\n",
              "      <td>18-08-2019</td>\n",
              "      <td>20190902</td>\n",
              "      <td>USD</td>\n",
              "      <td>5600.41</td>\n",
              "      <td>20190818</td>\n",
              "      <td>NAH4</td>\n",
              "    </tr>\n",
              "    <tr>\n",
              "      <th>2584</th>\n",
              "      <td>U001</td>\n",
              "      <td>200769623</td>\n",
              "      <td>WAL-MAR corporation</td>\n",
              "      <td>16-12-2019 00:00</td>\n",
              "      <td>2019</td>\n",
              "      <td>1930216806</td>\n",
              "      <td>04-12-2019</td>\n",
              "      <td>20191219</td>\n",
              "      <td>USD</td>\n",
              "      <td>35352.17</td>\n",
              "      <td>20191204</td>\n",
              "      <td>NAH4</td>\n",
              "    </tr>\n",
              "    <tr>\n",
              "      <th>3755</th>\n",
              "      <td>U001</td>\n",
              "      <td>200769623</td>\n",
              "      <td>WAL-MAR</td>\n",
              "      <td>22-11-2019 00:00</td>\n",
              "      <td>2019</td>\n",
              "      <td>1930137035</td>\n",
              "      <td>12-11-2019</td>\n",
              "      <td>20191127</td>\n",
              "      <td>USD</td>\n",
              "      <td>2982.64</td>\n",
              "      <td>20191112</td>\n",
              "      <td>NAH4</td>\n",
              "    </tr>\n",
              "    <tr>\n",
              "      <th>3873</th>\n",
              "      <td>CA02</td>\n",
              "      <td>140104409</td>\n",
              "      <td>LOB associates</td>\n",
              "      <td>NaN</td>\n",
              "      <td>2020</td>\n",
              "      <td>2960628616</td>\n",
              "      <td>14-04-2020</td>\n",
              "      <td>20200425</td>\n",
              "      <td>CAD</td>\n",
              "      <td>82975.82</td>\n",
              "      <td>20200415</td>\n",
              "      <td>CA10</td>\n",
              "    </tr>\n",
              "    <tr>\n",
              "      <th>...</th>\n",
              "      <td>...</td>\n",
              "      <td>...</td>\n",
              "      <td>...</td>\n",
              "      <td>...</td>\n",
              "      <td>...</td>\n",
              "      <td>...</td>\n",
              "      <td>...</td>\n",
              "      <td>...</td>\n",
              "      <td>...</td>\n",
              "      <td>...</td>\n",
              "      <td>...</td>\n",
              "      <td>...</td>\n",
              "    </tr>\n",
              "    <tr>\n",
              "      <th>49963</th>\n",
              "      <td>U001</td>\n",
              "      <td>200759878</td>\n",
              "      <td>SA us</td>\n",
              "      <td>29-01-2019 00:00</td>\n",
              "      <td>2019</td>\n",
              "      <td>1928613993</td>\n",
              "      <td>13-01-2019</td>\n",
              "      <td>20190128</td>\n",
              "      <td>USD</td>\n",
              "      <td>10968.24</td>\n",
              "      <td>20190113</td>\n",
              "      <td>NAH4</td>\n",
              "    </tr>\n",
              "    <tr>\n",
              "      <th>49986</th>\n",
              "      <td>U001</td>\n",
              "      <td>200772670</td>\n",
              "      <td>ASSOCIAT foundation</td>\n",
              "      <td>12-06-2019 00:00</td>\n",
              "      <td>2019</td>\n",
              "      <td>1929403090</td>\n",
              "      <td>29-05-2019</td>\n",
              "      <td>20190613</td>\n",
              "      <td>USD</td>\n",
              "      <td>155837.53</td>\n",
              "      <td>20190529</td>\n",
              "      <td>NAU5</td>\n",
              "    </tr>\n",
              "    <tr>\n",
              "      <th>49990</th>\n",
              "      <td>U001</td>\n",
              "      <td>200765011</td>\n",
              "      <td>MAINES llc</td>\n",
              "      <td>06-06-2019 00:00</td>\n",
              "      <td>2019</td>\n",
              "      <td>1929365364</td>\n",
              "      <td>22-05-2019</td>\n",
              "      <td>20190606</td>\n",
              "      <td>USD</td>\n",
              "      <td>4008.05</td>\n",
              "      <td>20190522</td>\n",
              "      <td>NAA8</td>\n",
              "    </tr>\n",
              "    <tr>\n",
              "      <th>49991</th>\n",
              "      <td>U001</td>\n",
              "      <td>200704045</td>\n",
              "      <td>RA trust</td>\n",
              "      <td>25-10-2019 00:00</td>\n",
              "      <td>2019</td>\n",
              "      <td>1930001131</td>\n",
              "      <td>10-10-2019</td>\n",
              "      <td>20191025</td>\n",
              "      <td>USD</td>\n",
              "      <td>73002.24</td>\n",
              "      <td>20191010</td>\n",
              "      <td>NAA8</td>\n",
              "    </tr>\n",
              "    <tr>\n",
              "      <th>50000</th>\n",
              "      <td>CA02</td>\n",
              "      <td>140106408</td>\n",
              "      <td>WAL-M corp</td>\n",
              "      <td>NaN</td>\n",
              "      <td>2020</td>\n",
              "      <td>2960618790</td>\n",
              "      <td>06-03-2020</td>\n",
              "      <td>20200316</td>\n",
              "      <td>CAD</td>\n",
              "      <td>92832.27</td>\n",
              "      <td>20200306</td>\n",
              "      <td>CA10</td>\n",
              "    </tr>\n",
              "  </tbody>\n",
              "</table>\n",
              "<p>1162 rows × 12 columns</p>\n",
              "</div>"
            ],
            "text/plain": [
              "      business_code cust_number        name_customer        clear_date  \\\n",
              "1041           U001   200769623           WAL-MAR in  12-03-2019 00:00   \n",
              "2400           U001   200769623        WAL-MAR trust  28-08-2019 00:00   \n",
              "2584           U001   200769623  WAL-MAR corporation  16-12-2019 00:00   \n",
              "3755           U001   200769623             WAL-MAR   22-11-2019 00:00   \n",
              "3873           CA02   140104409       LOB associates               NaN   \n",
              "...             ...         ...                  ...               ...   \n",
              "49963          U001   200759878                SA us  29-01-2019 00:00   \n",
              "49986          U001   200772670  ASSOCIAT foundation  12-06-2019 00:00   \n",
              "49990          U001   200765011           MAINES llc  06-06-2019 00:00   \n",
              "49991          U001   200704045             RA trust  25-10-2019 00:00   \n",
              "50000          CA02   140106408           WAL-M corp               NaN   \n",
              "\n",
              "       buisness_year      doc_id posting_date  due_in_date invoice_currency  \\\n",
              "1041            2019  1928870382   28-02-2019     20190315              USD   \n",
              "2400            2019  1929758460   18-08-2019     20190902              USD   \n",
              "2584            2019  1930216806   04-12-2019     20191219              USD   \n",
              "3755            2019  1930137035   12-11-2019     20191127              USD   \n",
              "3873            2020  2960628616   14-04-2020     20200425              CAD   \n",
              "...              ...         ...          ...          ...              ...   \n",
              "49963           2019  1928613993   13-01-2019     20190128              USD   \n",
              "49986           2019  1929403090   29-05-2019     20190613              USD   \n",
              "49990           2019  1929365364   22-05-2019     20190606              USD   \n",
              "49991           2019  1930001131   10-10-2019     20191025              USD   \n",
              "50000           2020  2960618790   06-03-2020     20200316              CAD   \n",
              "\n",
              "       total_open_amount  baseline_create_date cust_payment_terms  \n",
              "1041            19557.41              20190228               NAH4  \n",
              "2400             5600.41              20190818               NAH4  \n",
              "2584            35352.17              20191204               NAH4  \n",
              "3755             2982.64              20191112               NAH4  \n",
              "3873            82975.82              20200415               CA10  \n",
              "...                  ...                   ...                ...  \n",
              "49963           10968.24              20190113               NAH4  \n",
              "49986          155837.53              20190529               NAU5  \n",
              "49990            4008.05              20190522               NAA8  \n",
              "49991           73002.24              20191010               NAA8  \n",
              "50000           92832.27              20200306               CA10  \n",
              "\n",
              "[1162 rows x 12 columns]"
            ]
          },
          "execution_count": 450,
          "metadata": {},
          "output_type": "execute_result"
        }
      ],
      "source": [
        "df[df.duplicated()]"
      ]
    },
    {
      "cell_type": "markdown",
      "id": "464fab09",
      "metadata": {
        "id": "464fab09"
      },
      "source": [
        "### Display the Number of Duplicate Rows"
      ]
    },
    {
      "cell_type": "code",
      "execution_count": 451,
      "id": "b1ea2397",
      "metadata": {
        "colab": {
          "base_uri": "https://localhost:8080/"
        },
        "id": "b1ea2397",
        "outputId": "fb88251a-537e-4ab5-b48c-435760849574"
      },
      "outputs": [
        {
          "data": {
            "text/plain": [
              "1162"
            ]
          },
          "execution_count": 451,
          "metadata": {},
          "output_type": "execute_result"
        }
      ],
      "source": [
        "df[df.duplicated()].shape[0]"
      ]
    },
    {
      "cell_type": "markdown",
      "id": "827a6718",
      "metadata": {
        "id": "827a6718"
      },
      "source": [
        "### Drop all the Duplicate Rows"
      ]
    },
    {
      "cell_type": "code",
      "execution_count": 452,
      "id": "5d10151c",
      "metadata": {
        "id": "5d10151c"
      },
      "outputs": [],
      "source": [
        "df.drop_duplicates(inplace=True)"
      ]
    },
    {
      "cell_type": "markdown",
      "id": "7e5d1f9b",
      "metadata": {
        "id": "7e5d1f9b"
      },
      "source": [
        "#### Now check for all duplicate rows now\n",
        "\n",
        "- Note - It must be 0 by now"
      ]
    },
    {
      "cell_type": "code",
      "execution_count": 453,
      "id": "9accc9fc",
      "metadata": {
        "colab": {
          "base_uri": "https://localhost:8080/"
        },
        "id": "9accc9fc",
        "outputId": "9d1def1d-ece9-412b-b345-68dc2ca0c4e9"
      },
      "outputs": [
        {
          "data": {
            "text/plain": [
              "0"
            ]
          },
          "execution_count": 453,
          "metadata": {},
          "output_type": "execute_result"
        }
      ],
      "source": [
        "df[df.duplicated()].shape[0]"
      ]
    },
    {
      "cell_type": "markdown",
      "id": "d0704898",
      "metadata": {
        "id": "d0704898"
      },
      "source": [
        "### Check for the number of Rows and Columns in your dataset"
      ]
    },
    {
      "cell_type": "code",
      "execution_count": 454,
      "id": "582748a8",
      "metadata": {
        "colab": {
          "base_uri": "https://localhost:8080/"
        },
        "id": "582748a8",
        "outputId": "a832207b-ff93-46da-cff0-8ec057e1534d"
      },
      "outputs": [
        {
          "data": {
            "text/plain": [
              "(48937, 12)"
            ]
          },
          "execution_count": 454,
          "metadata": {},
          "output_type": "execute_result"
        }
      ],
      "source": [
        "df.shape"
      ]
    },
    {
      "cell_type": "markdown",
      "id": "4o9c5UodWRtl",
      "metadata": {
        "id": "4o9c5UodWRtl"
      },
      "source": [
        "### Find out the total count of null values in each columns"
      ]
    },
    {
      "cell_type": "code",
      "execution_count": 455,
      "id": "b0612cb5",
      "metadata": {
        "colab": {
          "base_uri": "https://localhost:8080/"
        },
        "id": "b0612cb5",
        "outputId": "e091b306-7a0a-4b55-a941-7c7e43190102"
      },
      "outputs": [
        {
          "data": {
            "text/plain": [
              "business_code              0\n",
              "cust_number                0\n",
              "name_customer              0\n",
              "clear_date              9779\n",
              "buisness_year              0\n",
              "doc_id                     0\n",
              "posting_date               0\n",
              "due_in_date                0\n",
              "invoice_currency           0\n",
              "total_open_amount          0\n",
              "baseline_create_date       0\n",
              "cust_payment_terms         0\n",
              "dtype: int64"
            ]
          },
          "execution_count": 455,
          "metadata": {},
          "output_type": "execute_result"
        }
      ],
      "source": [
        "df.isna().sum()"
      ]
    },
    {
      "cell_type": "markdown",
      "id": "7abdb98b",
      "metadata": {
        "id": "7abdb98b"
      },
      "source": [
        "#Data type Conversion "
      ]
    },
    {
      "cell_type": "markdown",
      "id": "LPfSUSp-WpPj",
      "metadata": {
        "id": "LPfSUSp-WpPj"
      },
      "source": [
        "### Please check the data type of each column of the dataframe"
      ]
    },
    {
      "cell_type": "code",
      "execution_count": 456,
      "id": "689c8592",
      "metadata": {
        "colab": {
          "base_uri": "https://localhost:8080/"
        },
        "id": "689c8592",
        "outputId": "298e7b5f-6943-4ca8-c16c-3112f68bcd08"
      },
      "outputs": [
        {
          "data": {
            "text/plain": [
              "business_code            object\n",
              "cust_number              object\n",
              "name_customer            object\n",
              "clear_date               object\n",
              "buisness_year             int64\n",
              "doc_id                    int64\n",
              "posting_date             object\n",
              "due_in_date               int64\n",
              "invoice_currency         object\n",
              "total_open_amount       float64\n",
              "baseline_create_date      int64\n",
              "cust_payment_terms       object\n",
              "dtype: object"
            ]
          },
          "execution_count": 456,
          "metadata": {},
          "output_type": "execute_result"
        }
      ],
      "source": [
        "df.dtypes"
      ]
    },
    {
      "cell_type": "markdown",
      "id": "0nsem0_3XzOt",
      "metadata": {
        "id": "0nsem0_3XzOt"
      },
      "source": [
        "### Check the datatype format of below columns\n",
        "\n",
        "- clear_date  \n",
        "- posting_date\n",
        "- due_in_date \n",
        "- baseline_create_date"
      ]
    },
    {
      "cell_type": "code",
      "execution_count": 457,
      "id": "-yyODyW3X6pL",
      "metadata": {
        "colab": {
          "base_uri": "https://localhost:8080/"
        },
        "id": "-yyODyW3X6pL",
        "outputId": "64ba4cc1-5186-4ad7-fc8c-67b22f1641ae"
      },
      "outputs": [
        {
          "data": {
            "text/plain": [
              "clear_date              object\n",
              "posting_date            object\n",
              "due_in_date              int64\n",
              "baseline_create_date     int64\n",
              "dtype: object"
            ]
          },
          "execution_count": 457,
          "metadata": {},
          "output_type": "execute_result"
        }
      ],
      "source": [
        "df[['clear_date','posting_date','due_in_date','baseline_create_date']].dtypes"
      ]
    },
    {
      "cell_type": "markdown",
      "id": "11cf9478",
      "metadata": {
        "id": "11cf9478"
      },
      "source": [
        "### converting date columns into date time formats\n",
        "\n",
        "- clear_date  \n",
        "- posting_date\n",
        "- due_in_date \n",
        "- baseline_create_date\n",
        "\n",
        "\n",
        "- **Note - You have to convert all these above columns into \"%Y%m%d\" format**"
      ]
    },
    {
      "cell_type": "code",
      "execution_count": 458,
      "id": "9a8c6c71",
      "metadata": {
        "colab": {
          "base_uri": "https://localhost:8080/",
          "height": 424
        },
        "id": "9a8c6c71",
        "outputId": "2d9f4287-bfa7-4999-9ec0-bc28019f0b79"
      },
      "outputs": [],
      "source": [
        "# df['clear_date'] = pd.to_datetime(df['clear_date'], format='%Y-%m-%d')\n",
        "# df['posting_date'] = pd.to_datetime(df['posting_date'], format='%Y-%m-%d')\n",
        "# df['due_in_date'] = pd.to_datetime(df['due_in_date'], format='%Y%m%d')\n",
        "# df['baseline_create_date'] = pd.to_datetime(df['baseline_create_date'], format='%Y%m%d')\n",
        "# df[['clear_date','posting_date','due_in_date','baseline_create_date']]"
      ]
    },
    {
      "cell_type": "code",
      "execution_count": 459,
      "id": "2a3687d9",
      "metadata": {},
      "outputs": [],
      "source": [
        "from datetime import datetime\n",
        "# Converting columns to \"%Y%m%d\" format\n",
        "\n",
        "def converting_to_datetime(temp, column_name, format_str, converter_func):\n",
        "    temp[column_name] = temp[column_name].apply(lambda x: datetime.strptime(converter_func(x), format_str) if str(x) != 'nan' else np.nan)\n",
        "\n",
        "# Helper functions to convert datatype\n",
        "int_to_str = lambda x: str(x)\n",
        "float_to_str = lambda x: str(int(x))\n",
        "time_str = lambda x: str(x)[:10]\n",
        "\n",
        "converting_to_datetime(df, 'due_in_date', '%Y%m%d', float_to_str)\n",
        "converting_to_datetime(df, 'baseline_create_date', '%Y%m%d', float_to_str)\n",
        "converting_to_datetime(df, 'clear_date', '%d-%m-%Y', time_str)\n",
        "\n",
        "columns_to_convert = ['clear_date', 'due_in_date', 'baseline_create_date']\n",
        "\n",
        "# display(df[columns_to_convert])\n",
        "\n",
        "for column in columns_to_convert:\n",
        "    df[column] = pd.to_datetime(df[column], format='%Y-%m-%d')\n",
        "\n",
        "df['posting_date'] = pd.to_datetime(df[column], format='%d-%m-%Y')\n"
      ]
    },
    {
      "cell_type": "markdown",
      "id": "7adq0wSIYSCS",
      "metadata": {
        "id": "7adq0wSIYSCS"
      },
      "source": [
        "### Please check the datatype of all the columns after conversion of the above 4 columns"
      ]
    },
    {
      "cell_type": "code",
      "execution_count": 460,
      "id": "fd028c61",
      "metadata": {
        "colab": {
          "base_uri": "https://localhost:8080/"
        },
        "id": "fd028c61",
        "outputId": "4ee075a7-20dd-42ce-bcd7-15da129e0f77"
      },
      "outputs": [
        {
          "data": {
            "text/plain": [
              "clear_date              datetime64[ns]\n",
              "posting_date            datetime64[ns]\n",
              "due_in_date             datetime64[ns]\n",
              "baseline_create_date    datetime64[ns]\n",
              "dtype: object"
            ]
          },
          "execution_count": 460,
          "metadata": {},
          "output_type": "execute_result"
        }
      ],
      "source": [
        "df[['clear_date','posting_date','due_in_date','baseline_create_date']].dtypes"
      ]
    },
    {
      "cell_type": "markdown",
      "id": "8c9882fa",
      "metadata": {
        "id": "8c9882fa"
      },
      "source": [
        "#### the invoice_currency column contains two different categories, USD and CAD\n",
        "\n",
        "- Please do a count of each currency "
      ]
    },
    {
      "cell_type": "code",
      "execution_count": 461,
      "id": "72085397",
      "metadata": {
        "colab": {
          "base_uri": "https://localhost:8080/"
        },
        "id": "72085397",
        "outputId": "181e8a67-84cd-486e-9560-16dd6c61a81a"
      },
      "outputs": [
        {
          "data": {
            "text/plain": [
              "USD    45011\n",
              "CAD     3926\n",
              "Name: invoice_currency, dtype: int64"
            ]
          },
          "execution_count": 461,
          "metadata": {},
          "output_type": "execute_result"
        }
      ],
      "source": [
        "df['invoice_currency'].value_counts()"
      ]
    },
    {
      "cell_type": "markdown",
      "id": "6cbe26ee",
      "metadata": {
        "id": "6cbe26ee"
      },
      "source": [
        "#### display the \"total_open_amount\" column value"
      ]
    },
    {
      "cell_type": "code",
      "execution_count": 462,
      "id": "6c49f2ab",
      "metadata": {
        "colab": {
          "base_uri": "https://localhost:8080/",
          "height": 424
        },
        "id": "6c49f2ab",
        "outputId": "5ca50235-3d5e-431f-d643-5fb5280caa64"
      },
      "outputs": [
        {
          "data": {
            "text/html": [
              "<div>\n",
              "<style scoped>\n",
              "    .dataframe tbody tr th:only-of-type {\n",
              "        vertical-align: middle;\n",
              "    }\n",
              "\n",
              "    .dataframe tbody tr th {\n",
              "        vertical-align: top;\n",
              "    }\n",
              "\n",
              "    .dataframe thead th {\n",
              "        text-align: right;\n",
              "    }\n",
              "</style>\n",
              "<table border=\"1\" class=\"dataframe\">\n",
              "  <thead>\n",
              "    <tr style=\"text-align: right;\">\n",
              "      <th></th>\n",
              "      <th>total_open_amount</th>\n",
              "    </tr>\n",
              "  </thead>\n",
              "  <tbody>\n",
              "    <tr>\n",
              "      <th>0</th>\n",
              "      <td>54273.28</td>\n",
              "    </tr>\n",
              "    <tr>\n",
              "      <th>1</th>\n",
              "      <td>79656.60</td>\n",
              "    </tr>\n",
              "    <tr>\n",
              "      <th>2</th>\n",
              "      <td>2253.86</td>\n",
              "    </tr>\n",
              "    <tr>\n",
              "      <th>3</th>\n",
              "      <td>3299.70</td>\n",
              "    </tr>\n",
              "    <tr>\n",
              "      <th>4</th>\n",
              "      <td>33133.29</td>\n",
              "    </tr>\n",
              "    <tr>\n",
              "      <th>...</th>\n",
              "      <td>...</td>\n",
              "    </tr>\n",
              "    <tr>\n",
              "      <th>50094</th>\n",
              "      <td>92832.27</td>\n",
              "    </tr>\n",
              "    <tr>\n",
              "      <th>50095</th>\n",
              "      <td>92832.27</td>\n",
              "    </tr>\n",
              "    <tr>\n",
              "      <th>50096</th>\n",
              "      <td>92832.27</td>\n",
              "    </tr>\n",
              "    <tr>\n",
              "      <th>50097</th>\n",
              "      <td>92832.27</td>\n",
              "    </tr>\n",
              "    <tr>\n",
              "      <th>50098</th>\n",
              "      <td>92832.27</td>\n",
              "    </tr>\n",
              "  </tbody>\n",
              "</table>\n",
              "<p>48937 rows × 1 columns</p>\n",
              "</div>"
            ],
            "text/plain": [
              "       total_open_amount\n",
              "0               54273.28\n",
              "1               79656.60\n",
              "2                2253.86\n",
              "3                3299.70\n",
              "4               33133.29\n",
              "...                  ...\n",
              "50094           92832.27\n",
              "50095           92832.27\n",
              "50096           92832.27\n",
              "50097           92832.27\n",
              "50098           92832.27\n",
              "\n",
              "[48937 rows x 1 columns]"
            ]
          },
          "execution_count": 462,
          "metadata": {},
          "output_type": "execute_result"
        }
      ],
      "source": [
        "df[['total_open_amount']]"
      ]
    },
    {
      "cell_type": "markdown",
      "id": "df899966",
      "metadata": {
        "id": "df899966"
      },
      "source": [
        "### Convert all CAD into USD currency of \"total_open_amount\" column\n",
        "\n",
        "- 1 CAD = 0.7 USD\n",
        "- Create a new column i.e \"converted_usd\" and store USD and convered CAD to USD"
      ]
    },
    {
      "cell_type": "code",
      "execution_count": 463,
      "id": "8eb2f1c5",
      "metadata": {
        "colab": {
          "base_uri": "https://localhost:8080/"
        },
        "id": "8eb2f1c5",
        "outputId": "db5758fd-d6fa-4374-850d-0c790abd41d1"
      },
      "outputs": [
        {
          "name": "stdout",
          "output_type": "stream",
          "text": [
            "       converted_usd  total_open_amount invoice_currency\n",
            "3           2309.790            3299.70              CAD\n",
            "5          15558.088           22225.84              CAD\n",
            "25         64982.589           92832.27              CAD\n",
            "29         33889.296           48413.28              CAD\n",
            "44         22200.822           31715.46              CAD\n",
            "...              ...                ...              ...\n",
            "50094      64982.589           92832.27              CAD\n",
            "50095      64982.589           92832.27              CAD\n",
            "50096      64982.589           92832.27              CAD\n",
            "50097      64982.589           92832.27              CAD\n",
            "50098      64982.589           92832.27              CAD\n",
            "\n",
            "[3926 rows x 3 columns]\n"
          ]
        }
      ],
      "source": [
        "df['converted_usd'] = df['total_open_amount']\n",
        "df.loc[df['invoice_currency']=='CAD',['converted_usd']] = 0.7 * df['total_open_amount']\n",
        "print(df.loc[df['invoice_currency']=='CAD',['converted_usd','total_open_amount','invoice_currency']])"
      ]
    },
    {
      "cell_type": "markdown",
      "id": "f9f6ef1d",
      "metadata": {
        "id": "f9f6ef1d"
      },
      "source": [
        "### Display the new \"converted_usd\" column values"
      ]
    },
    {
      "cell_type": "code",
      "execution_count": 464,
      "id": "1fc1a178",
      "metadata": {
        "colab": {
          "base_uri": "https://localhost:8080/",
          "height": 424
        },
        "id": "1fc1a178",
        "outputId": "b26e6641-2c12-4a57-8614-e66ec1777421"
      },
      "outputs": [
        {
          "data": {
            "text/html": [
              "<div>\n",
              "<style scoped>\n",
              "    .dataframe tbody tr th:only-of-type {\n",
              "        vertical-align: middle;\n",
              "    }\n",
              "\n",
              "    .dataframe tbody tr th {\n",
              "        vertical-align: top;\n",
              "    }\n",
              "\n",
              "    .dataframe thead th {\n",
              "        text-align: right;\n",
              "    }\n",
              "</style>\n",
              "<table border=\"1\" class=\"dataframe\">\n",
              "  <thead>\n",
              "    <tr style=\"text-align: right;\">\n",
              "      <th></th>\n",
              "      <th>converted_usd</th>\n",
              "    </tr>\n",
              "  </thead>\n",
              "  <tbody>\n",
              "    <tr>\n",
              "      <th>0</th>\n",
              "      <td>54273.280</td>\n",
              "    </tr>\n",
              "    <tr>\n",
              "      <th>1</th>\n",
              "      <td>79656.600</td>\n",
              "    </tr>\n",
              "    <tr>\n",
              "      <th>2</th>\n",
              "      <td>2253.860</td>\n",
              "    </tr>\n",
              "    <tr>\n",
              "      <th>3</th>\n",
              "      <td>2309.790</td>\n",
              "    </tr>\n",
              "    <tr>\n",
              "      <th>4</th>\n",
              "      <td>33133.290</td>\n",
              "    </tr>\n",
              "    <tr>\n",
              "      <th>...</th>\n",
              "      <td>...</td>\n",
              "    </tr>\n",
              "    <tr>\n",
              "      <th>50094</th>\n",
              "      <td>64982.589</td>\n",
              "    </tr>\n",
              "    <tr>\n",
              "      <th>50095</th>\n",
              "      <td>64982.589</td>\n",
              "    </tr>\n",
              "    <tr>\n",
              "      <th>50096</th>\n",
              "      <td>64982.589</td>\n",
              "    </tr>\n",
              "    <tr>\n",
              "      <th>50097</th>\n",
              "      <td>64982.589</td>\n",
              "    </tr>\n",
              "    <tr>\n",
              "      <th>50098</th>\n",
              "      <td>64982.589</td>\n",
              "    </tr>\n",
              "  </tbody>\n",
              "</table>\n",
              "<p>48937 rows × 1 columns</p>\n",
              "</div>"
            ],
            "text/plain": [
              "       converted_usd\n",
              "0          54273.280\n",
              "1          79656.600\n",
              "2           2253.860\n",
              "3           2309.790\n",
              "4          33133.290\n",
              "...              ...\n",
              "50094      64982.589\n",
              "50095      64982.589\n",
              "50096      64982.589\n",
              "50097      64982.589\n",
              "50098      64982.589\n",
              "\n",
              "[48937 rows x 1 columns]"
            ]
          },
          "execution_count": 464,
          "metadata": {},
          "output_type": "execute_result"
        }
      ],
      "source": [
        "df[['converted_usd']]"
      ]
    },
    {
      "cell_type": "markdown",
      "id": "6XLXX17kayuy",
      "metadata": {
        "id": "6XLXX17kayuy"
      },
      "source": [
        "### Display year wise total number of record \n",
        "\n",
        "- Note -  use \"buisness_year\" column for this "
      ]
    },
    {
      "cell_type": "code",
      "execution_count": 465,
      "id": "00c9f6ee",
      "metadata": {
        "colab": {
          "base_uri": "https://localhost:8080/"
        },
        "id": "00c9f6ee",
        "outputId": "a110c81e-e5d4-4d32-9d26-05210443db92"
      },
      "outputs": [
        {
          "data": {
            "text/plain": [
              "2019    33975\n",
              "2020    14962\n",
              "Name: buisness_year, dtype: int64"
            ]
          },
          "execution_count": 465,
          "metadata": {},
          "output_type": "execute_result"
        }
      ],
      "source": [
        "df['buisness_year'].value_counts()"
      ]
    },
    {
      "cell_type": "markdown",
      "id": "05c35904",
      "metadata": {
        "id": "05c35904"
      },
      "source": [
        "### Write the code to delete the following columns \n",
        "\n",
        "- 'invoice_currency'\n",
        "- 'total_open_amount', "
      ]
    },
    {
      "cell_type": "code",
      "execution_count": 466,
      "id": "4ac28aa5",
      "metadata": {
        "colab": {
          "base_uri": "https://localhost:8080/"
        },
        "id": "4ac28aa5",
        "outputId": "6804c0e4-1868-4aa1-e456-7aa021108584"
      },
      "outputs": [
        {
          "data": {
            "text/plain": [
              "Index(['business_code', 'cust_number', 'name_customer', 'clear_date',\n",
              "       'buisness_year', 'doc_id', 'posting_date', 'due_in_date',\n",
              "       'baseline_create_date', 'cust_payment_terms', 'converted_usd'],\n",
              "      dtype='object')"
            ]
          },
          "execution_count": 466,
          "metadata": {},
          "output_type": "execute_result"
        }
      ],
      "source": [
        "df.drop(columns=['invoice_currency','total_open_amount'],inplace=True)\n",
        "df.columns"
      ]
    },
    {
      "cell_type": "markdown",
      "id": "bDBJ_Kvwc086",
      "metadata": {
        "id": "bDBJ_Kvwc086"
      },
      "source": [
        "### Write a code to check the number of columns in dataframe"
      ]
    },
    {
      "cell_type": "code",
      "execution_count": 467,
      "id": "ea360a8c",
      "metadata": {
        "colab": {
          "base_uri": "https://localhost:8080/"
        },
        "id": "ea360a8c",
        "outputId": "6bdc5134-3392-4e89-e1a1-bcc0b6e25cab"
      },
      "outputs": [
        {
          "data": {
            "text/plain": [
              "11"
            ]
          },
          "execution_count": 467,
          "metadata": {},
          "output_type": "execute_result"
        }
      ],
      "source": [
        "df.shape[1]"
      ]
    },
    {
      "cell_type": "markdown",
      "id": "b8f63655",
      "metadata": {
        "id": "b8f63655"
      },
      "source": [
        "# Splitting the Dataset "
      ]
    },
    {
      "cell_type": "markdown",
      "id": "a00f749d",
      "metadata": {
        "id": "a00f749d"
      },
      "source": [
        "### Look for all columns containing null value\n",
        "\n",
        "- Note - Output expected is only one column "
      ]
    },
    {
      "cell_type": "code",
      "execution_count": 468,
      "id": "148c801e",
      "metadata": {
        "colab": {
          "base_uri": "https://localhost:8080/",
          "height": 35
        },
        "id": "148c801e",
        "outputId": "9bad7254-154b-4ea9-aded-d9fb2a4b7f8a"
      },
      "outputs": [
        {
          "data": {
            "text/plain": [
              "'clear_date'"
            ]
          },
          "execution_count": 468,
          "metadata": {},
          "output_type": "execute_result"
        }
      ],
      "source": [
        "#df.columns[df.isna().sum()>0]\n",
        "df.columns[df.isna().sum()>0][0]"
      ]
    },
    {
      "cell_type": "markdown",
      "id": "a094a290",
      "metadata": {
        "id": "a094a290"
      },
      "source": [
        "#### Find out the number of null values from the column that you got from the above code"
      ]
    },
    {
      "cell_type": "code",
      "execution_count": 469,
      "id": "30bfb113",
      "metadata": {
        "colab": {
          "base_uri": "https://localhost:8080/"
        },
        "id": "30bfb113",
        "outputId": "519a0b9c-7321-4241-db1e-731c45893ad5"
      },
      "outputs": [
        {
          "data": {
            "text/plain": [
              "9779"
            ]
          },
          "execution_count": 469,
          "metadata": {},
          "output_type": "execute_result"
        }
      ],
      "source": [
        "df['clear_date'].isna().sum()"
      ]
    },
    {
      "cell_type": "markdown",
      "id": "7f6d939b",
      "metadata": {
        "id": "7f6d939b"
      },
      "source": [
        "### On basis of the above column we are spliting data into dataset\n",
        "\n",
        "- First dataframe (refer that as maindata) only containing the rows, that have NO NULL data in that column ( This is going to be our train dataset ) \n",
        "- Second dataframe (refer that as nulldata) that contains the columns, that have Null data in that column ( This is going to be our test dataset ) "
      ]
    },
    {
      "cell_type": "code",
      "execution_count": 470,
      "id": "c8764c33",
      "metadata": {
        "id": "c8764c33"
      },
      "outputs": [],
      "source": [
        "maindata=df.loc[df['clear_date'].isna()==False]\n",
        "nulldata=df.loc[df['clear_date'].isna()==True]"
      ]
    },
    {
      "cell_type": "markdown",
      "id": "3P8riRBHd_r6",
      "metadata": {
        "id": "3P8riRBHd_r6"
      },
      "source": [
        "### Check the number of Rows and Columns for both the dataframes "
      ]
    },
    {
      "cell_type": "code",
      "execution_count": 471,
      "id": "0693a464",
      "metadata": {
        "colab": {
          "base_uri": "https://localhost:8080/"
        },
        "id": "0693a464",
        "outputId": "2eb9fc7b-828d-4c6b-ef0b-234efccefea7"
      },
      "outputs": [
        {
          "data": {
            "text/plain": [
              "(39158, 11)"
            ]
          },
          "execution_count": 471,
          "metadata": {},
          "output_type": "execute_result"
        }
      ],
      "source": [
        "maindata.shape"
      ]
    },
    {
      "cell_type": "code",
      "execution_count": 472,
      "id": "7f86bc74",
      "metadata": {
        "colab": {
          "base_uri": "https://localhost:8080/"
        },
        "id": "7f86bc74",
        "outputId": "7d8ea7bb-15f1-4dae-c8d5-af1be4fd97f4"
      },
      "outputs": [
        {
          "data": {
            "text/plain": [
              "(9779, 11)"
            ]
          },
          "execution_count": 472,
          "metadata": {},
          "output_type": "execute_result"
        }
      ],
      "source": [
        "nulldata.shape"
      ]
    },
    {
      "cell_type": "markdown",
      "id": "0747165d",
      "metadata": {
        "id": "0747165d"
      },
      "source": [
        "### Display the 5 records from maindata and nulldata dataframes"
      ]
    },
    {
      "cell_type": "code",
      "execution_count": 473,
      "id": "dec2ec36",
      "metadata": {
        "colab": {
          "base_uri": "https://localhost:8080/",
          "height": 322
        },
        "id": "dec2ec36",
        "outputId": "9bc8c183-1cd7-4cd7-933c-9a7cb1426fa2"
      },
      "outputs": [
        {
          "data": {
            "text/html": [
              "<div>\n",
              "<style scoped>\n",
              "    .dataframe tbody tr th:only-of-type {\n",
              "        vertical-align: middle;\n",
              "    }\n",
              "\n",
              "    .dataframe tbody tr th {\n",
              "        vertical-align: top;\n",
              "    }\n",
              "\n",
              "    .dataframe thead th {\n",
              "        text-align: right;\n",
              "    }\n",
              "</style>\n",
              "<table border=\"1\" class=\"dataframe\">\n",
              "  <thead>\n",
              "    <tr style=\"text-align: right;\">\n",
              "      <th></th>\n",
              "      <th>business_code</th>\n",
              "      <th>cust_number</th>\n",
              "      <th>name_customer</th>\n",
              "      <th>clear_date</th>\n",
              "      <th>buisness_year</th>\n",
              "      <th>doc_id</th>\n",
              "      <th>posting_date</th>\n",
              "      <th>due_in_date</th>\n",
              "      <th>baseline_create_date</th>\n",
              "      <th>cust_payment_terms</th>\n",
              "      <th>converted_usd</th>\n",
              "    </tr>\n",
              "  </thead>\n",
              "  <tbody>\n",
              "    <tr>\n",
              "      <th>0</th>\n",
              "      <td>U001</td>\n",
              "      <td>200769623</td>\n",
              "      <td>WAL-MAR corp</td>\n",
              "      <td>2020-02-11</td>\n",
              "      <td>2020</td>\n",
              "      <td>1930438491</td>\n",
              "      <td>2020-01-26</td>\n",
              "      <td>2020-02-10</td>\n",
              "      <td>2020-01-26</td>\n",
              "      <td>NAH4</td>\n",
              "      <td>54273.280</td>\n",
              "    </tr>\n",
              "    <tr>\n",
              "      <th>1</th>\n",
              "      <td>U001</td>\n",
              "      <td>200980828</td>\n",
              "      <td>BEN E</td>\n",
              "      <td>2019-08-08</td>\n",
              "      <td>2019</td>\n",
              "      <td>1929646410</td>\n",
              "      <td>2019-07-22</td>\n",
              "      <td>2019-08-11</td>\n",
              "      <td>2019-07-22</td>\n",
              "      <td>NAD1</td>\n",
              "      <td>79656.600</td>\n",
              "    </tr>\n",
              "    <tr>\n",
              "      <th>2</th>\n",
              "      <td>U001</td>\n",
              "      <td>200792734</td>\n",
              "      <td>MDV/ trust</td>\n",
              "      <td>2019-12-30</td>\n",
              "      <td>2019</td>\n",
              "      <td>1929873765</td>\n",
              "      <td>2019-09-14</td>\n",
              "      <td>2019-09-29</td>\n",
              "      <td>2019-09-14</td>\n",
              "      <td>NAA8</td>\n",
              "      <td>2253.860</td>\n",
              "    </tr>\n",
              "    <tr>\n",
              "      <th>4</th>\n",
              "      <td>U001</td>\n",
              "      <td>200769623</td>\n",
              "      <td>WAL-MAR foundation</td>\n",
              "      <td>2019-11-25</td>\n",
              "      <td>2019</td>\n",
              "      <td>1930147974</td>\n",
              "      <td>2019-11-13</td>\n",
              "      <td>2019-11-28</td>\n",
              "      <td>2019-11-13</td>\n",
              "      <td>NAH4</td>\n",
              "      <td>33133.290</td>\n",
              "    </tr>\n",
              "    <tr>\n",
              "      <th>5</th>\n",
              "      <td>CA02</td>\n",
              "      <td>140106181</td>\n",
              "      <td>THE  corporation</td>\n",
              "      <td>2019-12-04</td>\n",
              "      <td>2019</td>\n",
              "      <td>2960581231</td>\n",
              "      <td>2019-09-24</td>\n",
              "      <td>2019-10-04</td>\n",
              "      <td>2019-09-24</td>\n",
              "      <td>CA10</td>\n",
              "      <td>15558.088</td>\n",
              "    </tr>\n",
              "  </tbody>\n",
              "</table>\n",
              "</div>"
            ],
            "text/plain": [
              "  business_code cust_number       name_customer clear_date  buisness_year  \\\n",
              "0          U001   200769623        WAL-MAR corp 2020-02-11           2020   \n",
              "1          U001   200980828              BEN E  2019-08-08           2019   \n",
              "2          U001   200792734          MDV/ trust 2019-12-30           2019   \n",
              "4          U001   200769623  WAL-MAR foundation 2019-11-25           2019   \n",
              "5          CA02   140106181    THE  corporation 2019-12-04           2019   \n",
              "\n",
              "       doc_id posting_date due_in_date baseline_create_date  \\\n",
              "0  1930438491   2020-01-26  2020-02-10           2020-01-26   \n",
              "1  1929646410   2019-07-22  2019-08-11           2019-07-22   \n",
              "2  1929873765   2019-09-14  2019-09-29           2019-09-14   \n",
              "4  1930147974   2019-11-13  2019-11-28           2019-11-13   \n",
              "5  2960581231   2019-09-24  2019-10-04           2019-09-24   \n",
              "\n",
              "  cust_payment_terms  converted_usd  \n",
              "0               NAH4      54273.280  \n",
              "1               NAD1      79656.600  \n",
              "2               NAA8       2253.860  \n",
              "4               NAH4      33133.290  \n",
              "5               CA10      15558.088  "
            ]
          },
          "execution_count": 473,
          "metadata": {},
          "output_type": "execute_result"
        }
      ],
      "source": [
        "maindata.head(5)"
      ]
    },
    {
      "cell_type": "code",
      "execution_count": 474,
      "id": "eee2d68a",
      "metadata": {
        "colab": {
          "base_uri": "https://localhost:8080/",
          "height": 287
        },
        "id": "eee2d68a",
        "outputId": "eaf26024-cc04-41ef-edea-e046acca0c05"
      },
      "outputs": [
        {
          "data": {
            "text/html": [
              "<div>\n",
              "<style scoped>\n",
              "    .dataframe tbody tr th:only-of-type {\n",
              "        vertical-align: middle;\n",
              "    }\n",
              "\n",
              "    .dataframe tbody tr th {\n",
              "        vertical-align: top;\n",
              "    }\n",
              "\n",
              "    .dataframe thead th {\n",
              "        text-align: right;\n",
              "    }\n",
              "</style>\n",
              "<table border=\"1\" class=\"dataframe\">\n",
              "  <thead>\n",
              "    <tr style=\"text-align: right;\">\n",
              "      <th></th>\n",
              "      <th>business_code</th>\n",
              "      <th>cust_number</th>\n",
              "      <th>name_customer</th>\n",
              "      <th>clear_date</th>\n",
              "      <th>buisness_year</th>\n",
              "      <th>doc_id</th>\n",
              "      <th>posting_date</th>\n",
              "      <th>due_in_date</th>\n",
              "      <th>baseline_create_date</th>\n",
              "      <th>cust_payment_terms</th>\n",
              "      <th>converted_usd</th>\n",
              "    </tr>\n",
              "  </thead>\n",
              "  <tbody>\n",
              "    <tr>\n",
              "      <th>3</th>\n",
              "      <td>CA02</td>\n",
              "      <td>140105686</td>\n",
              "      <td>SYSC llc</td>\n",
              "      <td>NaT</td>\n",
              "      <td>2020</td>\n",
              "      <td>2960623488</td>\n",
              "      <td>2020-03-31</td>\n",
              "      <td>2020-04-10</td>\n",
              "      <td>2020-03-31</td>\n",
              "      <td>CA10</td>\n",
              "      <td>2309.79</td>\n",
              "    </tr>\n",
              "    <tr>\n",
              "      <th>7</th>\n",
              "      <td>U001</td>\n",
              "      <td>200744019</td>\n",
              "      <td>TARG us</td>\n",
              "      <td>NaT</td>\n",
              "      <td>2020</td>\n",
              "      <td>1930659387</td>\n",
              "      <td>2020-03-19</td>\n",
              "      <td>2020-04-03</td>\n",
              "      <td>2020-03-19</td>\n",
              "      <td>NAA8</td>\n",
              "      <td>11173.02</td>\n",
              "    </tr>\n",
              "    <tr>\n",
              "      <th>10</th>\n",
              "      <td>U001</td>\n",
              "      <td>200418007</td>\n",
              "      <td>AM</td>\n",
              "      <td>NaT</td>\n",
              "      <td>2020</td>\n",
              "      <td>1930610806</td>\n",
              "      <td>2020-03-11</td>\n",
              "      <td>2020-03-26</td>\n",
              "      <td>2020-03-11</td>\n",
              "      <td>NAA8</td>\n",
              "      <td>3525.59</td>\n",
              "    </tr>\n",
              "    <tr>\n",
              "      <th>14</th>\n",
              "      <td>U001</td>\n",
              "      <td>200739534</td>\n",
              "      <td>OK systems</td>\n",
              "      <td>NaT</td>\n",
              "      <td>2020</td>\n",
              "      <td>1930788296</td>\n",
              "      <td>2020-04-15</td>\n",
              "      <td>2020-04-30</td>\n",
              "      <td>2020-04-15</td>\n",
              "      <td>NAA8</td>\n",
              "      <td>121105.65</td>\n",
              "    </tr>\n",
              "    <tr>\n",
              "      <th>15</th>\n",
              "      <td>U001</td>\n",
              "      <td>200353024</td>\n",
              "      <td>DECA corporation</td>\n",
              "      <td>NaT</td>\n",
              "      <td>2020</td>\n",
              "      <td>1930817482</td>\n",
              "      <td>2020-04-16</td>\n",
              "      <td>2020-04-26</td>\n",
              "      <td>2020-04-16</td>\n",
              "      <td>NAM2</td>\n",
              "      <td>3726.06</td>\n",
              "    </tr>\n",
              "  </tbody>\n",
              "</table>\n",
              "</div>"
            ],
            "text/plain": [
              "   business_code cust_number     name_customer clear_date  buisness_year  \\\n",
              "3           CA02   140105686          SYSC llc        NaT           2020   \n",
              "7           U001   200744019           TARG us        NaT           2020   \n",
              "10          U001   200418007               AM         NaT           2020   \n",
              "14          U001   200739534        OK systems        NaT           2020   \n",
              "15          U001   200353024  DECA corporation        NaT           2020   \n",
              "\n",
              "        doc_id posting_date due_in_date baseline_create_date  \\\n",
              "3   2960623488   2020-03-31  2020-04-10           2020-03-31   \n",
              "7   1930659387   2020-03-19  2020-04-03           2020-03-19   \n",
              "10  1930610806   2020-03-11  2020-03-26           2020-03-11   \n",
              "14  1930788296   2020-04-15  2020-04-30           2020-04-15   \n",
              "15  1930817482   2020-04-16  2020-04-26           2020-04-16   \n",
              "\n",
              "   cust_payment_terms  converted_usd  \n",
              "3                CA10        2309.79  \n",
              "7                NAA8       11173.02  \n",
              "10               NAA8        3525.59  \n",
              "14               NAA8      121105.65  \n",
              "15               NAM2        3726.06  "
            ]
          },
          "execution_count": 474,
          "metadata": {},
          "output_type": "execute_result"
        }
      ],
      "source": [
        "nulldata.head(5)"
      ]
    },
    {
      "cell_type": "markdown",
      "id": "24aa6746",
      "metadata": {
        "id": "24aa6746"
      },
      "source": [
        "## Considering the **maindata**"
      ]
    },
    {
      "cell_type": "markdown",
      "id": "f92c4aa7",
      "metadata": {
        "id": "f92c4aa7"
      },
      "source": [
        "#### Generate a new column \"Delay\" from the existing columns\n",
        "\n",
        "- Note - You are expected to create a new column 'Delay' from two existing columns, \"clear_date\" and \"due_in_date\" \n",
        "- Formula - Delay = clear_date - due_in_date"
      ]
    },
    {
      "cell_type": "code",
      "execution_count": 475,
      "id": "8eeceb9c",
      "metadata": {
        "colab": {
          "base_uri": "https://localhost:8080/",
          "height": 424
        },
        "id": "8eeceb9c",
        "outputId": "2dbd4165-b31b-4465-b7de-301ca9fdcd6e"
      },
      "outputs": [
        {
          "data": {
            "text/html": [
              "<div>\n",
              "<style scoped>\n",
              "    .dataframe tbody tr th:only-of-type {\n",
              "        vertical-align: middle;\n",
              "    }\n",
              "\n",
              "    .dataframe tbody tr th {\n",
              "        vertical-align: top;\n",
              "    }\n",
              "\n",
              "    .dataframe thead th {\n",
              "        text-align: right;\n",
              "    }\n",
              "</style>\n",
              "<table border=\"1\" class=\"dataframe\">\n",
              "  <thead>\n",
              "    <tr style=\"text-align: right;\">\n",
              "      <th></th>\n",
              "      <th>clear_date</th>\n",
              "      <th>due_in_date</th>\n",
              "      <th>Delay</th>\n",
              "    </tr>\n",
              "  </thead>\n",
              "  <tbody>\n",
              "    <tr>\n",
              "      <th>0</th>\n",
              "      <td>2020-02-11</td>\n",
              "      <td>2020-02-10</td>\n",
              "      <td>1 days</td>\n",
              "    </tr>\n",
              "    <tr>\n",
              "      <th>1</th>\n",
              "      <td>2019-08-08</td>\n",
              "      <td>2019-08-11</td>\n",
              "      <td>-3 days</td>\n",
              "    </tr>\n",
              "    <tr>\n",
              "      <th>2</th>\n",
              "      <td>2019-12-30</td>\n",
              "      <td>2019-09-29</td>\n",
              "      <td>92 days</td>\n",
              "    </tr>\n",
              "    <tr>\n",
              "      <th>4</th>\n",
              "      <td>2019-11-25</td>\n",
              "      <td>2019-11-28</td>\n",
              "      <td>-3 days</td>\n",
              "    </tr>\n",
              "    <tr>\n",
              "      <th>5</th>\n",
              "      <td>2019-12-04</td>\n",
              "      <td>2019-10-04</td>\n",
              "      <td>61 days</td>\n",
              "    </tr>\n",
              "    <tr>\n",
              "      <th>...</th>\n",
              "      <td>...</td>\n",
              "      <td>...</td>\n",
              "      <td>...</td>\n",
              "    </tr>\n",
              "    <tr>\n",
              "      <th>49994</th>\n",
              "      <td>2019-07-25</td>\n",
              "      <td>2019-07-25</td>\n",
              "      <td>0 days</td>\n",
              "    </tr>\n",
              "    <tr>\n",
              "      <th>49996</th>\n",
              "      <td>2019-09-03</td>\n",
              "      <td>2019-08-30</td>\n",
              "      <td>4 days</td>\n",
              "    </tr>\n",
              "    <tr>\n",
              "      <th>49997</th>\n",
              "      <td>2020-03-05</td>\n",
              "      <td>2020-03-05</td>\n",
              "      <td>0 days</td>\n",
              "    </tr>\n",
              "    <tr>\n",
              "      <th>49998</th>\n",
              "      <td>2019-12-12</td>\n",
              "      <td>2019-12-12</td>\n",
              "      <td>0 days</td>\n",
              "    </tr>\n",
              "    <tr>\n",
              "      <th>49999</th>\n",
              "      <td>2019-01-15</td>\n",
              "      <td>2019-01-24</td>\n",
              "      <td>-9 days</td>\n",
              "    </tr>\n",
              "  </tbody>\n",
              "</table>\n",
              "<p>39158 rows × 3 columns</p>\n",
              "</div>"
            ],
            "text/plain": [
              "      clear_date due_in_date   Delay\n",
              "0     2020-02-11  2020-02-10  1 days\n",
              "1     2019-08-08  2019-08-11 -3 days\n",
              "2     2019-12-30  2019-09-29 92 days\n",
              "4     2019-11-25  2019-11-28 -3 days\n",
              "5     2019-12-04  2019-10-04 61 days\n",
              "...          ...         ...     ...\n",
              "49994 2019-07-25  2019-07-25  0 days\n",
              "49996 2019-09-03  2019-08-30  4 days\n",
              "49997 2020-03-05  2020-03-05  0 days\n",
              "49998 2019-12-12  2019-12-12  0 days\n",
              "49999 2019-01-15  2019-01-24 -9 days\n",
              "\n",
              "[39158 rows x 3 columns]"
            ]
          },
          "execution_count": 475,
          "metadata": {},
          "output_type": "execute_result"
        }
      ],
      "source": [
        "maindata['Delay'] = maindata[\"clear_date\"] - maindata[\"due_in_date\"]\n",
        "maindata[['clear_date','due_in_date','Delay']]"
      ]
    },
    {
      "cell_type": "markdown",
      "id": "f482144e",
      "metadata": {
        "id": "f482144e"
      },
      "source": [
        "### Generate a new column \"avgdelay\" from the existing columns\n",
        "\n",
        "> Indented block\n",
        "\n",
        "\n",
        "\n",
        "- Note - You are expected to make a new column \"avgdelay\" by grouping \"name_customer\" column with reapect to mean of the \"Delay\" column.\n",
        "- This new column \"avg_delay\" is meant to store \"customer_name\" wise delay\n",
        "- groupby('name_customer')['Delay'].mean(numeric_only=False)\n",
        "- Display the new \"avg_delay\" column"
      ]
    },
    {
      "cell_type": "code",
      "execution_count": 476,
      "id": "d18d2f8d",
      "metadata": {
        "colab": {
          "base_uri": "https://localhost:8080/"
        },
        "id": "d18d2f8d",
        "outputId": "a461d7aa-a4b4-4d27-e38e-6dfce14ca337"
      },
      "outputs": [
        {
          "data": {
            "text/plain": [
              "name_customer\n",
              "11078 us                 17 days 00:00:00\n",
              "17135 associates       -10 days +00:00:00\n",
              "17135 llc               -3 days +00:00:00\n",
              "236008 associates       -3 days +00:00:00\n",
              "99 CE                     2 days 00:00:00\n",
              "                              ...        \n",
              "YEN BROS corp             0 days 00:00:00\n",
              "YEN BROS corporation    -1 days +12:00:00\n",
              "YEN BROS llc            -2 days +00:00:00\n",
              "ZARCO co                -1 days +00:00:00\n",
              "ZIYAD  us                 6 days 00:00:00\n",
              "Name: Delay, Length: 3889, dtype: timedelta64[ns]"
            ]
          },
          "execution_count": 476,
          "metadata": {},
          "output_type": "execute_result"
        }
      ],
      "source": [
        "avg_delay=maindata.groupby(by=['name_customer'])['Delay'].mean(numeric_only=False)\n",
        "avg_delay"
      ]
    },
    {
      "cell_type": "markdown",
      "id": "64b995e8",
      "metadata": {
        "id": "64b995e8"
      },
      "source": [
        "You need to add the \"avg_delay\" column with the maindata, mapped with \"name_customer\" column\n",
        "\n",
        " - Note - You need to use map function to map the avgdelay with respect to \"name_customer\" column"
      ]
    },
    {
      "cell_type": "code",
      "execution_count": 477,
      "id": "e1e1f3d9",
      "metadata": {
        "colab": {
          "base_uri": "https://localhost:8080/",
          "height": 424
        },
        "id": "e1e1f3d9",
        "outputId": "df679ba5-98c8-4499-c7cb-d9fb59086d68"
      },
      "outputs": [
        {
          "data": {
            "text/html": [
              "<div>\n",
              "<style scoped>\n",
              "    .dataframe tbody tr th:only-of-type {\n",
              "        vertical-align: middle;\n",
              "    }\n",
              "\n",
              "    .dataframe tbody tr th {\n",
              "        vertical-align: top;\n",
              "    }\n",
              "\n",
              "    .dataframe thead th {\n",
              "        text-align: right;\n",
              "    }\n",
              "</style>\n",
              "<table border=\"1\" class=\"dataframe\">\n",
              "  <thead>\n",
              "    <tr style=\"text-align: right;\">\n",
              "      <th></th>\n",
              "      <th>avg_delay</th>\n",
              "    </tr>\n",
              "  </thead>\n",
              "  <tbody>\n",
              "    <tr>\n",
              "      <th>0</th>\n",
              "      <td>-3 days +07:08:49.779837776</td>\n",
              "    </tr>\n",
              "    <tr>\n",
              "      <th>1</th>\n",
              "      <td>19 days 00:00:00</td>\n",
              "    </tr>\n",
              "    <tr>\n",
              "      <th>2</th>\n",
              "      <td>8 days 02:10:54.545454545</td>\n",
              "    </tr>\n",
              "    <tr>\n",
              "      <th>4</th>\n",
              "      <td>-3 days +19:33:27.692307693</td>\n",
              "    </tr>\n",
              "    <tr>\n",
              "      <th>5</th>\n",
              "      <td>71 days 10:40:00</td>\n",
              "    </tr>\n",
              "    <tr>\n",
              "      <th>...</th>\n",
              "      <td>...</td>\n",
              "    </tr>\n",
              "    <tr>\n",
              "      <th>49994</th>\n",
              "      <td>-1 days +14:45:00</td>\n",
              "    </tr>\n",
              "    <tr>\n",
              "      <th>49996</th>\n",
              "      <td>-3 days +12:40:08.540925267</td>\n",
              "    </tr>\n",
              "    <tr>\n",
              "      <th>49997</th>\n",
              "      <td>1 days 01:08:34.285714285</td>\n",
              "    </tr>\n",
              "    <tr>\n",
              "      <th>49998</th>\n",
              "      <td>1 days 13:36:42.985074626</td>\n",
              "    </tr>\n",
              "    <tr>\n",
              "      <th>49999</th>\n",
              "      <td>-4 days +02:20:52.173913044</td>\n",
              "    </tr>\n",
              "  </tbody>\n",
              "</table>\n",
              "<p>39158 rows × 1 columns</p>\n",
              "</div>"
            ],
            "text/plain": [
              "                        avg_delay\n",
              "0     -3 days +07:08:49.779837776\n",
              "1                19 days 00:00:00\n",
              "2       8 days 02:10:54.545454545\n",
              "4     -3 days +19:33:27.692307693\n",
              "5                71 days 10:40:00\n",
              "...                           ...\n",
              "49994           -1 days +14:45:00\n",
              "49996 -3 days +12:40:08.540925267\n",
              "49997   1 days 01:08:34.285714285\n",
              "49998   1 days 13:36:42.985074626\n",
              "49999 -4 days +02:20:52.173913044\n",
              "\n",
              "[39158 rows x 1 columns]"
            ]
          },
          "execution_count": 477,
          "metadata": {},
          "output_type": "execute_result"
        }
      ],
      "source": [
        "maindata.loc[:,'avg_delay']=maindata['name_customer'].map(avg_delay)\n",
        "maindata[['avg_delay']]"
      ]
    },
    {
      "cell_type": "markdown",
      "id": "1d332525",
      "metadata": {
        "id": "1d332525"
      },
      "source": [
        "### Observe that the \"avg_delay\" column is in days format. You need to change the format into seconds\n",
        "\n",
        "- Days_format :  17 days 00:00:00\n",
        "- Format in seconds : 1641600.0"
      ]
    },
    {
      "cell_type": "code",
      "execution_count": 478,
      "id": "d5f1041e",
      "metadata": {
        "colab": {
          "base_uri": "https://localhost:8080/",
          "height": 424
        },
        "id": "d5f1041e",
        "outputId": "0f60d0c9-487c-4ad4-fa4c-0e209c4709ad"
      },
      "outputs": [
        {
          "data": {
            "text/html": [
              "<div>\n",
              "<style scoped>\n",
              "    .dataframe tbody tr th:only-of-type {\n",
              "        vertical-align: middle;\n",
              "    }\n",
              "\n",
              "    .dataframe tbody tr th {\n",
              "        vertical-align: top;\n",
              "    }\n",
              "\n",
              "    .dataframe thead th {\n",
              "        text-align: right;\n",
              "    }\n",
              "</style>\n",
              "<table border=\"1\" class=\"dataframe\">\n",
              "  <thead>\n",
              "    <tr style=\"text-align: right;\">\n",
              "      <th></th>\n",
              "      <th>avg_delay</th>\n",
              "    </tr>\n",
              "  </thead>\n",
              "  <tbody>\n",
              "    <tr>\n",
              "      <th>0</th>\n",
              "      <td>-2.334702e+05</td>\n",
              "    </tr>\n",
              "    <tr>\n",
              "      <th>1</th>\n",
              "      <td>1.641600e+06</td>\n",
              "    </tr>\n",
              "    <tr>\n",
              "      <th>2</th>\n",
              "      <td>6.990545e+05</td>\n",
              "    </tr>\n",
              "    <tr>\n",
              "      <th>4</th>\n",
              "      <td>-1.887923e+05</td>\n",
              "    </tr>\n",
              "    <tr>\n",
              "      <th>5</th>\n",
              "      <td>6.172800e+06</td>\n",
              "    </tr>\n",
              "    <tr>\n",
              "      <th>...</th>\n",
              "      <td>...</td>\n",
              "    </tr>\n",
              "    <tr>\n",
              "      <th>49994</th>\n",
              "      <td>-3.330000e+04</td>\n",
              "    </tr>\n",
              "    <tr>\n",
              "      <th>49996</th>\n",
              "      <td>-2.135915e+05</td>\n",
              "    </tr>\n",
              "    <tr>\n",
              "      <th>49997</th>\n",
              "      <td>9.051429e+04</td>\n",
              "    </tr>\n",
              "    <tr>\n",
              "      <th>49998</th>\n",
              "      <td>1.354030e+05</td>\n",
              "    </tr>\n",
              "    <tr>\n",
              "      <th>49999</th>\n",
              "      <td>-3.371478e+05</td>\n",
              "    </tr>\n",
              "  </tbody>\n",
              "</table>\n",
              "<p>39158 rows × 1 columns</p>\n",
              "</div>"
            ],
            "text/plain": [
              "          avg_delay\n",
              "0     -2.334702e+05\n",
              "1      1.641600e+06\n",
              "2      6.990545e+05\n",
              "4     -1.887923e+05\n",
              "5      6.172800e+06\n",
              "...             ...\n",
              "49994 -3.330000e+04\n",
              "49996 -2.135915e+05\n",
              "49997  9.051429e+04\n",
              "49998  1.354030e+05\n",
              "49999 -3.371478e+05\n",
              "\n",
              "[39158 rows x 1 columns]"
            ]
          },
          "execution_count": 478,
          "metadata": {},
          "output_type": "execute_result"
        }
      ],
      "source": [
        "maindata.loc[:,'avg_delay']=maindata['avg_delay'].dt.total_seconds()\n",
        "maindata[['avg_delay']]"
      ]
    },
    {
      "cell_type": "markdown",
      "id": "QhzlzhcXqz6x",
      "metadata": {
        "id": "QhzlzhcXqz6x"
      },
      "source": [
        "maindata.loc[:,'avg_delay']=maindata['name_customer'].map(avg_delay)\n",
        "maindata[['avg_delay']]"
      ]
    },
    {
      "cell_type": "markdown",
      "id": "OvgtHSsx_O-n",
      "metadata": {
        "id": "OvgtHSsx_O-n"
      },
      "source": [
        "### Display the maindata dataframe "
      ]
    },
    {
      "cell_type": "code",
      "execution_count": 479,
      "id": "97ca9c45",
      "metadata": {
        "colab": {
          "base_uri": "https://localhost:8080/",
          "height": 661
        },
        "id": "97ca9c45",
        "outputId": "95bc9e1b-f9bf-4758-e84c-29ca56001549"
      },
      "outputs": [
        {
          "data": {
            "text/html": [
              "<div>\n",
              "<style scoped>\n",
              "    .dataframe tbody tr th:only-of-type {\n",
              "        vertical-align: middle;\n",
              "    }\n",
              "\n",
              "    .dataframe tbody tr th {\n",
              "        vertical-align: top;\n",
              "    }\n",
              "\n",
              "    .dataframe thead th {\n",
              "        text-align: right;\n",
              "    }\n",
              "</style>\n",
              "<table border=\"1\" class=\"dataframe\">\n",
              "  <thead>\n",
              "    <tr style=\"text-align: right;\">\n",
              "      <th></th>\n",
              "      <th>business_code</th>\n",
              "      <th>cust_number</th>\n",
              "      <th>name_customer</th>\n",
              "      <th>clear_date</th>\n",
              "      <th>buisness_year</th>\n",
              "      <th>doc_id</th>\n",
              "      <th>posting_date</th>\n",
              "      <th>due_in_date</th>\n",
              "      <th>baseline_create_date</th>\n",
              "      <th>cust_payment_terms</th>\n",
              "      <th>converted_usd</th>\n",
              "      <th>Delay</th>\n",
              "      <th>avg_delay</th>\n",
              "    </tr>\n",
              "  </thead>\n",
              "  <tbody>\n",
              "    <tr>\n",
              "      <th>0</th>\n",
              "      <td>U001</td>\n",
              "      <td>200769623</td>\n",
              "      <td>WAL-MAR corp</td>\n",
              "      <td>2020-02-11</td>\n",
              "      <td>2020</td>\n",
              "      <td>1930438491</td>\n",
              "      <td>2020-01-26</td>\n",
              "      <td>2020-02-10</td>\n",
              "      <td>2020-01-26</td>\n",
              "      <td>NAH4</td>\n",
              "      <td>54273.280</td>\n",
              "      <td>1 days</td>\n",
              "      <td>-2.334702e+05</td>\n",
              "    </tr>\n",
              "    <tr>\n",
              "      <th>1</th>\n",
              "      <td>U001</td>\n",
              "      <td>200980828</td>\n",
              "      <td>BEN E</td>\n",
              "      <td>2019-08-08</td>\n",
              "      <td>2019</td>\n",
              "      <td>1929646410</td>\n",
              "      <td>2019-07-22</td>\n",
              "      <td>2019-08-11</td>\n",
              "      <td>2019-07-22</td>\n",
              "      <td>NAD1</td>\n",
              "      <td>79656.600</td>\n",
              "      <td>-3 days</td>\n",
              "      <td>1.641600e+06</td>\n",
              "    </tr>\n",
              "    <tr>\n",
              "      <th>2</th>\n",
              "      <td>U001</td>\n",
              "      <td>200792734</td>\n",
              "      <td>MDV/ trust</td>\n",
              "      <td>2019-12-30</td>\n",
              "      <td>2019</td>\n",
              "      <td>1929873765</td>\n",
              "      <td>2019-09-14</td>\n",
              "      <td>2019-09-29</td>\n",
              "      <td>2019-09-14</td>\n",
              "      <td>NAA8</td>\n",
              "      <td>2253.860</td>\n",
              "      <td>92 days</td>\n",
              "      <td>6.990545e+05</td>\n",
              "    </tr>\n",
              "    <tr>\n",
              "      <th>4</th>\n",
              "      <td>U001</td>\n",
              "      <td>200769623</td>\n",
              "      <td>WAL-MAR foundation</td>\n",
              "      <td>2019-11-25</td>\n",
              "      <td>2019</td>\n",
              "      <td>1930147974</td>\n",
              "      <td>2019-11-13</td>\n",
              "      <td>2019-11-28</td>\n",
              "      <td>2019-11-13</td>\n",
              "      <td>NAH4</td>\n",
              "      <td>33133.290</td>\n",
              "      <td>-3 days</td>\n",
              "      <td>-1.887923e+05</td>\n",
              "    </tr>\n",
              "    <tr>\n",
              "      <th>5</th>\n",
              "      <td>CA02</td>\n",
              "      <td>140106181</td>\n",
              "      <td>THE  corporation</td>\n",
              "      <td>2019-12-04</td>\n",
              "      <td>2019</td>\n",
              "      <td>2960581231</td>\n",
              "      <td>2019-09-24</td>\n",
              "      <td>2019-10-04</td>\n",
              "      <td>2019-09-24</td>\n",
              "      <td>CA10</td>\n",
              "      <td>15558.088</td>\n",
              "      <td>61 days</td>\n",
              "      <td>6.172800e+06</td>\n",
              "    </tr>\n",
              "    <tr>\n",
              "      <th>...</th>\n",
              "      <td>...</td>\n",
              "      <td>...</td>\n",
              "      <td>...</td>\n",
              "      <td>...</td>\n",
              "      <td>...</td>\n",
              "      <td>...</td>\n",
              "      <td>...</td>\n",
              "      <td>...</td>\n",
              "      <td>...</td>\n",
              "      <td>...</td>\n",
              "      <td>...</td>\n",
              "      <td>...</td>\n",
              "      <td>...</td>\n",
              "    </tr>\n",
              "    <tr>\n",
              "      <th>49994</th>\n",
              "      <td>U001</td>\n",
              "      <td>200762301</td>\n",
              "      <td>C&amp;S WH trust</td>\n",
              "      <td>2019-07-25</td>\n",
              "      <td>2019</td>\n",
              "      <td>1929600989</td>\n",
              "      <td>2019-07-10</td>\n",
              "      <td>2019-07-25</td>\n",
              "      <td>2019-07-10</td>\n",
              "      <td>NAC6</td>\n",
              "      <td>84780.400</td>\n",
              "      <td>0 days</td>\n",
              "      <td>-3.330000e+04</td>\n",
              "    </tr>\n",
              "    <tr>\n",
              "      <th>49996</th>\n",
              "      <td>U001</td>\n",
              "      <td>200769623</td>\n",
              "      <td>WAL-MAR co</td>\n",
              "      <td>2019-09-03</td>\n",
              "      <td>2019</td>\n",
              "      <td>1929744070</td>\n",
              "      <td>2019-08-15</td>\n",
              "      <td>2019-08-30</td>\n",
              "      <td>2019-08-15</td>\n",
              "      <td>NAH4</td>\n",
              "      <td>6766.540</td>\n",
              "      <td>4 days</td>\n",
              "      <td>-2.135915e+05</td>\n",
              "    </tr>\n",
              "    <tr>\n",
              "      <th>49997</th>\n",
              "      <td>U001</td>\n",
              "      <td>200772595</td>\n",
              "      <td>SAFEW associates</td>\n",
              "      <td>2020-03-05</td>\n",
              "      <td>2020</td>\n",
              "      <td>1930536775</td>\n",
              "      <td>2020-02-19</td>\n",
              "      <td>2020-03-05</td>\n",
              "      <td>2020-02-19</td>\n",
              "      <td>NAA8</td>\n",
              "      <td>6120.860</td>\n",
              "      <td>0 days</td>\n",
              "      <td>9.051429e+04</td>\n",
              "    </tr>\n",
              "    <tr>\n",
              "      <th>49998</th>\n",
              "      <td>U001</td>\n",
              "      <td>200726979</td>\n",
              "      <td>BJ'S  llc</td>\n",
              "      <td>2019-12-12</td>\n",
              "      <td>2019</td>\n",
              "      <td>1930198546</td>\n",
              "      <td>2019-11-27</td>\n",
              "      <td>2019-12-12</td>\n",
              "      <td>2019-11-27</td>\n",
              "      <td>NAA8</td>\n",
              "      <td>63.480</td>\n",
              "      <td>0 days</td>\n",
              "      <td>1.354030e+05</td>\n",
              "    </tr>\n",
              "    <tr>\n",
              "      <th>49999</th>\n",
              "      <td>U001</td>\n",
              "      <td>200020431</td>\n",
              "      <td>DEC corp</td>\n",
              "      <td>2019-01-15</td>\n",
              "      <td>2019</td>\n",
              "      <td>1928576325</td>\n",
              "      <td>2019-01-01</td>\n",
              "      <td>2019-01-24</td>\n",
              "      <td>2019-01-01</td>\n",
              "      <td>NAM4</td>\n",
              "      <td>1790.300</td>\n",
              "      <td>-9 days</td>\n",
              "      <td>-3.371478e+05</td>\n",
              "    </tr>\n",
              "  </tbody>\n",
              "</table>\n",
              "<p>39158 rows × 13 columns</p>\n",
              "</div>"
            ],
            "text/plain": [
              "      business_code cust_number       name_customer clear_date  buisness_year  \\\n",
              "0              U001   200769623        WAL-MAR corp 2020-02-11           2020   \n",
              "1              U001   200980828              BEN E  2019-08-08           2019   \n",
              "2              U001   200792734          MDV/ trust 2019-12-30           2019   \n",
              "4              U001   200769623  WAL-MAR foundation 2019-11-25           2019   \n",
              "5              CA02   140106181    THE  corporation 2019-12-04           2019   \n",
              "...             ...         ...                 ...        ...            ...   \n",
              "49994          U001   200762301        C&S WH trust 2019-07-25           2019   \n",
              "49996          U001   200769623          WAL-MAR co 2019-09-03           2019   \n",
              "49997          U001   200772595    SAFEW associates 2020-03-05           2020   \n",
              "49998          U001   200726979           BJ'S  llc 2019-12-12           2019   \n",
              "49999          U001   200020431            DEC corp 2019-01-15           2019   \n",
              "\n",
              "           doc_id posting_date due_in_date baseline_create_date  \\\n",
              "0      1930438491   2020-01-26  2020-02-10           2020-01-26   \n",
              "1      1929646410   2019-07-22  2019-08-11           2019-07-22   \n",
              "2      1929873765   2019-09-14  2019-09-29           2019-09-14   \n",
              "4      1930147974   2019-11-13  2019-11-28           2019-11-13   \n",
              "5      2960581231   2019-09-24  2019-10-04           2019-09-24   \n",
              "...           ...          ...         ...                  ...   \n",
              "49994  1929600989   2019-07-10  2019-07-25           2019-07-10   \n",
              "49996  1929744070   2019-08-15  2019-08-30           2019-08-15   \n",
              "49997  1930536775   2020-02-19  2020-03-05           2020-02-19   \n",
              "49998  1930198546   2019-11-27  2019-12-12           2019-11-27   \n",
              "49999  1928576325   2019-01-01  2019-01-24           2019-01-01   \n",
              "\n",
              "      cust_payment_terms  converted_usd   Delay     avg_delay  \n",
              "0                   NAH4      54273.280  1 days -2.334702e+05  \n",
              "1                   NAD1      79656.600 -3 days  1.641600e+06  \n",
              "2                   NAA8       2253.860 92 days  6.990545e+05  \n",
              "4                   NAH4      33133.290 -3 days -1.887923e+05  \n",
              "5                   CA10      15558.088 61 days  6.172800e+06  \n",
              "...                  ...            ...     ...           ...  \n",
              "49994               NAC6      84780.400  0 days -3.330000e+04  \n",
              "49996               NAH4       6766.540  4 days -2.135915e+05  \n",
              "49997               NAA8       6120.860  0 days  9.051429e+04  \n",
              "49998               NAA8         63.480  0 days  1.354030e+05  \n",
              "49999               NAM4       1790.300 -9 days -3.371478e+05  \n",
              "\n",
              "[39158 rows x 13 columns]"
            ]
          },
          "execution_count": 479,
          "metadata": {},
          "output_type": "execute_result"
        }
      ],
      "source": [
        "maindata"
      ]
    },
    {
      "cell_type": "markdown",
      "id": "ae24c7bb",
      "metadata": {
        "id": "ae24c7bb"
      },
      "source": [
        "### Since you have created the \"avg_delay\" column from \"Delay\" and \"clear_date\" column, there is no need of these two columns anymore \n",
        "\n",
        "- You are expected to drop \"Delay\" and \"clear_date\" columns from maindata dataframe "
      ]
    },
    {
      "cell_type": "code",
      "execution_count": 480,
      "id": "F0TG07N8raCZ",
      "metadata": {
        "colab": {
          "base_uri": "https://localhost:8080/"
        },
        "id": "F0TG07N8raCZ",
        "outputId": "6de4b58d-561c-4f32-b573-0358ff7cc3c7"
      },
      "outputs": [
        {
          "data": {
            "text/plain": [
              "Index(['business_code', 'cust_number', 'name_customer', 'buisness_year',\n",
              "       'doc_id', 'posting_date', 'due_in_date', 'baseline_create_date',\n",
              "       'cust_payment_terms', 'converted_usd', 'avg_delay'],\n",
              "      dtype='object')"
            ]
          },
          "execution_count": 480,
          "metadata": {},
          "output_type": "execute_result"
        }
      ],
      "source": [
        "maindata.drop(columns=['Delay','clear_date'],inplace=True)\n",
        "maindata.columns"
      ]
    },
    {
      "cell_type": "markdown",
      "id": "ae724bfc",
      "metadata": {
        "id": "ae724bfc"
      },
      "source": [
        "# Splitting of Train and the Test Data"
      ]
    },
    {
      "cell_type": "markdown",
      "id": "cb6f0264",
      "metadata": {
        "id": "cb6f0264"
      },
      "source": [
        "### You need to split the \"maindata\" columns into X and y dataframe\n",
        "\n",
        "- Note - y should have the target column i.e. \"avg_delay\" and the other column should be in X\n",
        "\n",
        "- X is going to hold the source fields and y will be going to hold the target fields"
      ]
    },
    {
      "cell_type": "code",
      "execution_count": 481,
      "id": "75ab29ab",
      "metadata": {
        "colab": {
          "base_uri": "https://localhost:8080/"
        },
        "id": "75ab29ab",
        "outputId": "99d66048-58e3-4ae9-80ff-4e945a4e0094"
      },
      "outputs": [
        {
          "name": "stdout",
          "output_type": "stream",
          "text": [
            "Index(['business_code', 'cust_number', 'name_customer', 'buisness_year',\n",
            "       'doc_id', 'posting_date', 'due_in_date', 'baseline_create_date',\n",
            "       'cust_payment_terms', 'converted_usd'],\n",
            "      dtype='object')\n"
          ]
        }
      ],
      "source": [
        "X = maindata.iloc[:,0:10]\n",
        "print(X.columns)"
      ]
    },
    {
      "cell_type": "code",
      "execution_count": 482,
      "id": "6412c62b",
      "metadata": {
        "colab": {
          "base_uri": "https://localhost:8080/"
        },
        "id": "6412c62b",
        "outputId": "522f548d-7fc5-4c72-b30d-b5ae01355527"
      },
      "outputs": [
        {
          "name": "stdout",
          "output_type": "stream",
          "text": [
            "Index(['avg_delay'], dtype='object')\n"
          ]
        }
      ],
      "source": [
        "y = maindata.iloc[:,10:]\n",
        "print(y.columns)"
      ]
    },
    {
      "cell_type": "markdown",
      "id": "1c2942bf",
      "metadata": {
        "id": "1c2942bf"
      },
      "source": [
        "#### You are expected to split both the dataframes into train and test format in 60:40 ratio \n",
        "\n",
        "- Note - The expected output should be in \"X_train\", \"X_loc_test\", \"y_train\", \"y_loc_test\" format "
      ]
    },
    {
      "cell_type": "code",
      "execution_count": 483,
      "id": "d92160a5",
      "metadata": {
        "id": "d92160a5"
      },
      "outputs": [],
      "source": [
        "X_train, X_loc_test, y_train, y_loc_test = train_test_split(X, y, test_size=0.4, random_state=101)"
      ]
    },
    {
      "cell_type": "markdown",
      "id": "p4OME62pDufR",
      "metadata": {
        "id": "p4OME62pDufR"
      },
      "source": [
        "### Please check for the number of rows and columns of all the new dataframes (all 4)"
      ]
    },
    {
      "cell_type": "code",
      "execution_count": 484,
      "id": "bWGvAsWsFD8p",
      "metadata": {
        "colab": {
          "base_uri": "https://localhost:8080/"
        },
        "id": "bWGvAsWsFD8p",
        "outputId": "edc674df-371e-416a-cca9-18c835c08006"
      },
      "outputs": [
        {
          "name": "stdout",
          "output_type": "stream",
          "text": [
            "X_train (23494, 10)\n",
            "X_loc_test (15664, 10)\n",
            "y_train (23494, 1)\n",
            "y_loc_test (15664, 1)\n"
          ]
        }
      ],
      "source": [
        "print('X_train',X_train.shape)\n",
        "print('X_loc_test',X_loc_test.shape)\n",
        "print('y_train',y_train.shape)\n",
        "print('y_loc_test',y_loc_test.shape)"
      ]
    },
    {
      "cell_type": "markdown",
      "id": "4a68ed71",
      "metadata": {
        "id": "4a68ed71"
      },
      "source": [
        "### Now you are expected to split the \"X_loc_test\" and \"y_loc_test\" dataset into \"Test\" and \"Validation\" (as the names given below) dataframe with 50:50 format \n",
        "\n",
        "- Note - The expected output should be in \"X_val\", \"X_test\", \"y_val\", \"y_test\" format"
      ]
    },
    {
      "cell_type": "code",
      "execution_count": 485,
      "id": "b56c62f2",
      "metadata": {
        "id": "b56c62f2"
      },
      "outputs": [],
      "source": [
        "X_val, X_test, y_val, y_test = train_test_split(X_loc_test, y_loc_test, test_size=0.5, random_state=101)"
      ]
    },
    {
      "cell_type": "markdown",
      "id": "bJTSAskvERH1",
      "metadata": {
        "id": "bJTSAskvERH1"
      },
      "source": [
        "### Please check for the number of rows and columns of all the 4 dataframes "
      ]
    },
    {
      "cell_type": "code",
      "execution_count": 486,
      "id": "845d7564",
      "metadata": {
        "colab": {
          "base_uri": "https://localhost:8080/"
        },
        "id": "845d7564",
        "outputId": "fc1b5e5e-be91-4b5e-b1ba-e2e12a15213e"
      },
      "outputs": [
        {
          "name": "stdout",
          "output_type": "stream",
          "text": [
            "X_val (7832, 10)\n",
            "X_test (7832, 10)\n",
            "y_val (7832, 1)\n",
            "y_test (7832, 1)\n"
          ]
        }
      ],
      "source": [
        "print('X_val',X_val.shape)\n",
        "print('X_test',X_test.shape)\n",
        "print('y_val',y_val.shape)\n",
        "print('y_test',y_test.shape)"
      ]
    },
    {
      "cell_type": "markdown",
      "id": "110fa872",
      "metadata": {
        "id": "110fa872"
      },
      "source": [
        "# Exploratory Data Analysis (EDA) "
      ]
    },
    {
      "cell_type": "markdown",
      "id": "ffc8fe0f",
      "metadata": {
        "id": "ffc8fe0f"
      },
      "source": [
        "### Distribution Plot of the target variable (use the dataframe which contains the target field)\n",
        "\n",
        "- Note - You are expected to make a distribution plot for the target variable "
      ]
    },
    {
      "cell_type": "code",
      "execution_count": 487,
      "id": "ba2bf8ed",
      "metadata": {
        "colab": {
          "base_uri": "https://localhost:8080/",
          "height": 603
        },
        "id": "ba2bf8ed",
        "outputId": "2b87a38c-d879-4fe1-ad21-7a84ca5701d6"
      },
      "outputs": [
        {
          "data": {
            "text/plain": [
              "<seaborn.axisgrid.FacetGrid at 0x1fb54f00cd0>"
            ]
          },
          "execution_count": 487,
          "metadata": {},
          "output_type": "execute_result"
        },
        {
          "data": {
            "image/png": "[encoded data removed]",
            "text/plain": [
              "<Figure size 979.2x576 with 1 Axes>"
            ]
          },
          "metadata": {
            "needs_background": "light"
          },
          "output_type": "display_data"
        }
      ],
      "source": [
        "sns.displot(y_train, x=\"avg_delay\",stat='count', height=8, aspect=1.7, color='green')"
      ]
    },
    {
      "cell_type": "markdown",
      "id": "d0e323a3",
      "metadata": {
        "id": "d0e323a3"
      },
      "source": [
        "### You are expected to group the X_train dataset on 'name_customer' column with 'doc_id' in the x_train set\n",
        "\n",
        "### Need to store the outcome into a new dataframe \n",
        "\n",
        "- Note code given for groupby statement- X_train.groupby(by=['name_customer'], as_index=False)['doc_id'].count()"
      ]
    },
    {
      "cell_type": "code",
      "execution_count": 488,
      "id": "YNZk3-1WP_r7",
      "metadata": {
        "id": "YNZk3-1WP_r7"
      },
      "outputs": [],
      "source": [
        "x_train=pd.DataFrame(X_train.groupby(by=['name_customer'], as_index=False)['doc_id'].count())"
      ]
    },
    {
      "cell_type": "markdown",
      "id": "cA43bFffFt6i",
      "metadata": {
        "id": "cA43bFffFt6i"
      },
      "source": [
        "### You can make another distribution plot of the \"doc_id\" column from x_train"
      ]
    },
    {
      "cell_type": "code",
      "execution_count": 489,
      "id": "9576bf33",
      "metadata": {
        "colab": {
          "base_uri": "https://localhost:8080/",
          "height": 603
        },
        "id": "9576bf33",
        "outputId": "d5032b28-d284-4deb-8aea-1719c728c51d"
      },
      "outputs": [
        {
          "data": {
            "text/plain": [
              "(0.0, 100.0)"
            ]
          },
          "execution_count": 489,
          "metadata": {},
          "output_type": "execute_result"
        },
        {
          "data": {
            "image/png": "[encoded data removed]",
            "text/plain": [
              "<Figure size 979.2x576 with 1 Axes>"
            ]
          },
          "metadata": {
            "needs_background": "light"
          },
          "output_type": "display_data"
        }
      ],
      "source": [
        "sns.displot(x_train,x=\"doc_id\",color=\"indigo\",aspect=1.7,height=8)\n",
        "plt.xlim(0,100)"
      ]
    },
    {
      "cell_type": "markdown",
      "id": "fba2c44f",
      "metadata": {
        "id": "fba2c44f"
      },
      "source": [
        "#### Create a Distribution plot only for business_year and a seperate distribution plot of \"business_year\" column along with the doc_id\" column\n"
      ]
    },
    {
      "cell_type": "code",
      "execution_count": 490,
      "id": "4fecec77",
      "metadata": {
        "colab": {
          "base_uri": "https://localhost:8080/",
          "height": 603
        },
        "id": "4fecec77",
        "outputId": "160d2fab-0835-4e5a-f32f-2873bd0766e8"
      },
      "outputs": [
        {
          "data": {
            "text/plain": [
              "Text(0.5, 1.0, 'Distribution plot only for business_year')"
            ]
          },
          "execution_count": 490,
          "metadata": {},
          "output_type": "execute_result"
        },
        {
          "data": {
            "image/png": "[encoded data removed]",
            "text/plain": [
              "<Figure size 979.2x576 with 1 Axes>"
            ]
          },
          "metadata": {
            "needs_background": "light"
          },
          "output_type": "display_data"
        }
      ],
      "source": [
        "sns.displot(X_train,x=\"buisness_year\",bins=10,color=\"red\",aspect=1.7,height=8)\n",
        "plt.title(\"Distribution plot only for business_year\")"
      ]
    },
    {
      "cell_type": "code",
      "execution_count": 491,
      "id": "OLJesL2jrlg6",
      "metadata": {
        "colab": {
          "base_uri": "https://localhost:8080/",
          "height": 603
        },
        "id": "OLJesL2jrlg6",
        "outputId": "2fcf7679-53ab-4b63-e677-3ff0466defc2"
      },
      "outputs": [
        {
          "data": {
            "text/plain": [
              "Text(0.5, 1.0, 'Seperate distribution plot of  business_yearcolumn along with the doc_id  column')"
            ]
          },
          "execution_count": 491,
          "metadata": {},
          "output_type": "execute_result"
        },
        {
          "data": {
            "image/png": "[encoded data removed]",
            "text/plain": [
              "<Figure size 1058.2x576 with 1 Axes>"
            ]
          },
          "metadata": {
            "needs_background": "light"
          },
          "output_type": "display_data"
        }
      ],
      "source": [
        "sns.displot(X_train,x=\"doc_id\",hue='buisness_year',bins=10,color=\"red\",aspect=1.7,height=8)\n",
        "\n",
        "plt.title(\"Seperate distribution plot of  business_yearcolumn along with the doc_id  column\")\n",
        "\n"
      ]
    },
    {
      "cell_type": "markdown",
      "id": "968fbcc9",
      "metadata": {
        "id": "968fbcc9"
      },
      "source": [
        "# Feature Engineering "
      ]
    },
    {
      "cell_type": "markdown",
      "id": "jbh6CyGqH3XE",
      "metadata": {
        "id": "jbh6CyGqH3XE"
      },
      "source": [
        "### Display and describe the X_train dataframe "
      ]
    },
    {
      "cell_type": "code",
      "execution_count": 492,
      "id": "e6bcf307",
      "metadata": {
        "colab": {
          "base_uri": "https://localhost:8080/",
          "height": 557
        },
        "id": "e6bcf307",
        "outputId": "ff590621-af9c-4cb1-ee91-603bf0b9e949"
      },
      "outputs": [
        {
          "data": {
            "text/html": [
              "<div>\n",
              "<style scoped>\n",
              "    .dataframe tbody tr th:only-of-type {\n",
              "        vertical-align: middle;\n",
              "    }\n",
              "\n",
              "    .dataframe tbody tr th {\n",
              "        vertical-align: top;\n",
              "    }\n",
              "\n",
              "    .dataframe thead th {\n",
              "        text-align: right;\n",
              "    }\n",
              "</style>\n",
              "<table border=\"1\" class=\"dataframe\">\n",
              "  <thead>\n",
              "    <tr style=\"text-align: right;\">\n",
              "      <th></th>\n",
              "      <th>business_code</th>\n",
              "      <th>cust_number</th>\n",
              "      <th>name_customer</th>\n",
              "      <th>buisness_year</th>\n",
              "      <th>doc_id</th>\n",
              "      <th>posting_date</th>\n",
              "      <th>due_in_date</th>\n",
              "      <th>baseline_create_date</th>\n",
              "      <th>cust_payment_terms</th>\n",
              "      <th>converted_usd</th>\n",
              "    </tr>\n",
              "  </thead>\n",
              "  <tbody>\n",
              "    <tr>\n",
              "      <th>33173</th>\n",
              "      <td>U001</td>\n",
              "      <td>200769623</td>\n",
              "      <td>WAL-MAR trust</td>\n",
              "      <td>2019</td>\n",
              "      <td>1929816685</td>\n",
              "      <td>2019-09-03</td>\n",
              "      <td>2019-09-18</td>\n",
              "      <td>2019-09-03</td>\n",
              "      <td>NAH4</td>\n",
              "      <td>68483.340</td>\n",
              "    </tr>\n",
              "    <tr>\n",
              "      <th>30787</th>\n",
              "      <td>CA02</td>\n",
              "      <td>140104440</td>\n",
              "      <td>SO llc</td>\n",
              "      <td>2020</td>\n",
              "      <td>2960614972</td>\n",
              "      <td>2020-02-22</td>\n",
              "      <td>2020-03-03</td>\n",
              "      <td>2020-02-22</td>\n",
              "      <td>CA10</td>\n",
              "      <td>86946.062</td>\n",
              "    </tr>\n",
              "    <tr>\n",
              "      <th>31285</th>\n",
              "      <td>U001</td>\n",
              "      <td>200712105</td>\n",
              "      <td>WALG associates</td>\n",
              "      <td>2019</td>\n",
              "      <td>1929602575</td>\n",
              "      <td>2019-07-09</td>\n",
              "      <td>2019-07-24</td>\n",
              "      <td>2019-07-09</td>\n",
              "      <td>NAA8</td>\n",
              "      <td>58345.440</td>\n",
              "    </tr>\n",
              "    <tr>\n",
              "      <th>8114</th>\n",
              "      <td>U001</td>\n",
              "      <td>200418007</td>\n",
              "      <td>AM systems</td>\n",
              "      <td>2019</td>\n",
              "      <td>1928657176</td>\n",
              "      <td>2019-01-24</td>\n",
              "      <td>2019-02-08</td>\n",
              "      <td>2019-01-24</td>\n",
              "      <td>NAA8</td>\n",
              "      <td>18667.200</td>\n",
              "    </tr>\n",
              "    <tr>\n",
              "      <th>28390</th>\n",
              "      <td>U001</td>\n",
              "      <td>100031704</td>\n",
              "      <td>DELHAIZE corp</td>\n",
              "      <td>2019</td>\n",
              "      <td>1930135583</td>\n",
              "      <td>2019-11-11</td>\n",
              "      <td>2019-11-26</td>\n",
              "      <td>2019-11-11</td>\n",
              "      <td>NAA8</td>\n",
              "      <td>15685.090</td>\n",
              "    </tr>\n",
              "    <tr>\n",
              "      <th>...</th>\n",
              "      <td>...</td>\n",
              "      <td>...</td>\n",
              "      <td>...</td>\n",
              "      <td>...</td>\n",
              "      <td>...</td>\n",
              "      <td>...</td>\n",
              "      <td>...</td>\n",
              "      <td>...</td>\n",
              "      <td>...</td>\n",
              "      <td>...</td>\n",
              "    </tr>\n",
              "    <tr>\n",
              "      <th>15472</th>\n",
              "      <td>U001</td>\n",
              "      <td>200762301</td>\n",
              "      <td>C&amp;S WH in</td>\n",
              "      <td>2020</td>\n",
              "      <td>1930396227</td>\n",
              "      <td>2020-01-15</td>\n",
              "      <td>2020-01-30</td>\n",
              "      <td>2020-01-15</td>\n",
              "      <td>NAC6</td>\n",
              "      <td>26196.250</td>\n",
              "    </tr>\n",
              "    <tr>\n",
              "      <th>7023</th>\n",
              "      <td>U001</td>\n",
              "      <td>200769623</td>\n",
              "      <td>WAL-MAR co</td>\n",
              "      <td>2019</td>\n",
              "      <td>1928878935</td>\n",
              "      <td>2019-03-01</td>\n",
              "      <td>2019-03-16</td>\n",
              "      <td>2019-03-01</td>\n",
              "      <td>NAH4</td>\n",
              "      <td>42583.430</td>\n",
              "    </tr>\n",
              "    <tr>\n",
              "      <th>9972</th>\n",
              "      <td>U001</td>\n",
              "      <td>200769623</td>\n",
              "      <td>WAL-MAR corporation</td>\n",
              "      <td>2019</td>\n",
              "      <td>1929516198</td>\n",
              "      <td>2019-06-20</td>\n",
              "      <td>2019-07-05</td>\n",
              "      <td>2019-06-20</td>\n",
              "      <td>NAH4</td>\n",
              "      <td>10190.260</td>\n",
              "    </tr>\n",
              "    <tr>\n",
              "      <th>22264</th>\n",
              "      <td>U001</td>\n",
              "      <td>200920735</td>\n",
              "      <td>ALBERT in</td>\n",
              "      <td>2019</td>\n",
              "      <td>1929870874</td>\n",
              "      <td>2019-09-12</td>\n",
              "      <td>2019-09-27</td>\n",
              "      <td>2019-09-12</td>\n",
              "      <td>NAA8</td>\n",
              "      <td>68300.120</td>\n",
              "    </tr>\n",
              "    <tr>\n",
              "      <th>22497</th>\n",
              "      <td>U001</td>\n",
              "      <td>200769623</td>\n",
              "      <td>WAL-MAR foundation</td>\n",
              "      <td>2019</td>\n",
              "      <td>1930096949</td>\n",
              "      <td>2019-11-04</td>\n",
              "      <td>2019-11-19</td>\n",
              "      <td>2019-11-04</td>\n",
              "      <td>NAH4</td>\n",
              "      <td>31565.190</td>\n",
              "    </tr>\n",
              "  </tbody>\n",
              "</table>\n",
              "<p>23494 rows × 10 columns</p>\n",
              "</div>"
            ],
            "text/plain": [
              "      business_code cust_number        name_customer  buisness_year  \\\n",
              "33173          U001   200769623        WAL-MAR trust           2019   \n",
              "30787          CA02   140104440               SO llc           2020   \n",
              "31285          U001   200712105      WALG associates           2019   \n",
              "8114           U001   200418007           AM systems           2019   \n",
              "28390          U001   100031704        DELHAIZE corp           2019   \n",
              "...             ...         ...                  ...            ...   \n",
              "15472          U001   200762301            C&S WH in           2020   \n",
              "7023           U001   200769623           WAL-MAR co           2019   \n",
              "9972           U001   200769623  WAL-MAR corporation           2019   \n",
              "22264          U001   200920735            ALBERT in           2019   \n",
              "22497          U001   200769623   WAL-MAR foundation           2019   \n",
              "\n",
              "           doc_id posting_date due_in_date baseline_create_date  \\\n",
              "33173  1929816685   2019-09-03  2019-09-18           2019-09-03   \n",
              "30787  2960614972   2020-02-22  2020-03-03           2020-02-22   \n",
              "31285  1929602575   2019-07-09  2019-07-24           2019-07-09   \n",
              "8114   1928657176   2019-01-24  2019-02-08           2019-01-24   \n",
              "28390  1930135583   2019-11-11  2019-11-26           2019-11-11   \n",
              "...           ...          ...         ...                  ...   \n",
              "15472  1930396227   2020-01-15  2020-01-30           2020-01-15   \n",
              "7023   1928878935   2019-03-01  2019-03-16           2019-03-01   \n",
              "9972   1929516198   2019-06-20  2019-07-05           2019-06-20   \n",
              "22264  1929870874   2019-09-12  2019-09-27           2019-09-12   \n",
              "22497  1930096949   2019-11-04  2019-11-19           2019-11-04   \n",
              "\n",
              "      cust_payment_terms  converted_usd  \n",
              "33173               NAH4      68483.340  \n",
              "30787               CA10      86946.062  \n",
              "31285               NAA8      58345.440  \n",
              "8114                NAA8      18667.200  \n",
              "28390               NAA8      15685.090  \n",
              "...                  ...            ...  \n",
              "15472               NAC6      26196.250  \n",
              "7023                NAH4      42583.430  \n",
              "9972                NAH4      10190.260  \n",
              "22264               NAA8      68300.120  \n",
              "22497               NAH4      31565.190  \n",
              "\n",
              "[23494 rows x 10 columns]"
            ]
          },
          "execution_count": 492,
          "metadata": {},
          "output_type": "execute_result"
        }
      ],
      "source": [
        "X_train"
      ]
    },
    {
      "cell_type": "code",
      "execution_count": 493,
      "id": "08ccc819",
      "metadata": {
        "colab": {
          "base_uri": "https://localhost:8080/",
          "height": 300
        },
        "id": "08ccc819",
        "outputId": "dc56d954-3996-49a4-f2cc-5b78fe126f6e"
      },
      "outputs": [
        {
          "data": {
            "text/html": [
              "<div>\n",
              "<style scoped>\n",
              "    .dataframe tbody tr th:only-of-type {\n",
              "        vertical-align: middle;\n",
              "    }\n",
              "\n",
              "    .dataframe tbody tr th {\n",
              "        vertical-align: top;\n",
              "    }\n",
              "\n",
              "    .dataframe thead th {\n",
              "        text-align: right;\n",
              "    }\n",
              "</style>\n",
              "<table border=\"1\" class=\"dataframe\">\n",
              "  <thead>\n",
              "    <tr style=\"text-align: right;\">\n",
              "      <th></th>\n",
              "      <th>buisness_year</th>\n",
              "      <th>doc_id</th>\n",
              "      <th>converted_usd</th>\n",
              "    </tr>\n",
              "  </thead>\n",
              "  <tbody>\n",
              "    <tr>\n",
              "      <th>count</th>\n",
              "      <td>23494.000000</td>\n",
              "      <td>2.349400e+04</td>\n",
              "      <td>23494.000000</td>\n",
              "    </tr>\n",
              "    <tr>\n",
              "      <th>mean</th>\n",
              "      <td>2019.132502</td>\n",
              "      <td>2.013481e+09</td>\n",
              "      <td>30722.347254</td>\n",
              "    </tr>\n",
              "    <tr>\n",
              "      <th>std</th>\n",
              "      <td>0.339043</td>\n",
              "      <td>2.802342e+08</td>\n",
              "      <td>36688.784819</td>\n",
              "    </tr>\n",
              "    <tr>\n",
              "      <th>min</th>\n",
              "      <td>2019.000000</td>\n",
              "      <td>1.928502e+09</td>\n",
              "      <td>0.790000</td>\n",
              "    </tr>\n",
              "    <tr>\n",
              "      <th>25%</th>\n",
              "      <td>2019.000000</td>\n",
              "      <td>1.929175e+09</td>\n",
              "      <td>4574.575000</td>\n",
              "    </tr>\n",
              "    <tr>\n",
              "      <th>50%</th>\n",
              "      <td>2019.000000</td>\n",
              "      <td>1.929733e+09</td>\n",
              "      <td>16836.875000</td>\n",
              "    </tr>\n",
              "    <tr>\n",
              "      <th>75%</th>\n",
              "      <td>2019.000000</td>\n",
              "      <td>1.930210e+09</td>\n",
              "      <td>45267.505000</td>\n",
              "    </tr>\n",
              "    <tr>\n",
              "      <th>max</th>\n",
              "      <td>2020.000000</td>\n",
              "      <td>2.960617e+09</td>\n",
              "      <td>668593.360000</td>\n",
              "    </tr>\n",
              "  </tbody>\n",
              "</table>\n",
              "</div>"
            ],
            "text/plain": [
              "       buisness_year        doc_id  converted_usd\n",
              "count   23494.000000  2.349400e+04   23494.000000\n",
              "mean     2019.132502  2.013481e+09   30722.347254\n",
              "std         0.339043  2.802342e+08   36688.784819\n",
              "min      2019.000000  1.928502e+09       0.790000\n",
              "25%      2019.000000  1.929175e+09    4574.575000\n",
              "50%      2019.000000  1.929733e+09   16836.875000\n",
              "75%      2019.000000  1.930210e+09   45267.505000\n",
              "max      2020.000000  2.960617e+09  668593.360000"
            ]
          },
          "execution_count": 493,
          "metadata": {},
          "output_type": "execute_result"
        }
      ],
      "source": [
        "X_train.describe()"
      ]
    },
    {
      "cell_type": "markdown",
      "id": "abd7ac8b",
      "metadata": {
        "id": "abd7ac8b"
      },
      "source": [
        "#### The \"business_code\" column inside X_train, is a categorical column, so you need to perform Labelencoder on that particular column\n",
        "\n",
        "- Note - call the Label Encoder from sklearn library and use the fit() function on \"business_code\" column\n",
        "- Note - Please fill in the blanks (two) to complete this code"
      ]
    },
    {
      "cell_type": "code",
      "execution_count": 494,
      "id": "7c223545",
      "metadata": {
        "colab": {
          "base_uri": "https://localhost:8080/"
        },
        "id": "7c223545",
        "outputId": "ac11e7b1-11c5-470f-f093-a3e6a054c01d"
      },
      "outputs": [
        {
          "data": {
            "text/plain": [
              "LabelEncoder()"
            ]
          },
          "execution_count": 494,
          "metadata": {},
          "output_type": "execute_result"
        }
      ],
      "source": [
        "from sklearn.preprocessing import LabelEncoder\n",
        "business_coder = LabelEncoder()\n",
        "business_coder.fit(X_train['business_code'])"
      ]
    },
    {
      "cell_type": "markdown",
      "id": "f86f7d9c",
      "metadata": {
        "id": "f86f7d9c"
      },
      "source": [
        "#### You are expected to store the value into a new column i.e. \"business_code_enc\"\n",
        "\n",
        "- Note - For Training set you are expected to use fit_trainsform()\n",
        "- Note - For Test set you are expected to use the trainsform()\n",
        "- Note - For Validation set you are expected to use the trainsform()\n",
        "\n",
        "\n",
        "- Partial code is provided, please fill in the blanks "
      ]
    },
    {
      "cell_type": "code",
      "execution_count": 495,
      "id": "4269c307",
      "metadata": {
        "id": "4269c307"
      },
      "outputs": [],
      "source": [
        "X_train['business_code_enc'] = business_coder.fit_transform(X_train['business_code'])"
      ]
    },
    {
      "cell_type": "code",
      "execution_count": 496,
      "id": "70a53712",
      "metadata": {
        "id": "70a53712"
      },
      "outputs": [],
      "source": [
        "X_val['business_code_enc'] = business_coder.transform(X_val['business_code'])\n",
        "X_test['business_code_enc'] = business_coder.transform(X_test['business_code'])"
      ]
    },
    {
      "cell_type": "markdown",
      "id": "gdNYxTkqNfmz",
      "metadata": {
        "id": "gdNYxTkqNfmz"
      },
      "source": [
        "### Display \"business_code\" and \"business_code_enc\" together from X_train dataframe "
      ]
    },
    {
      "cell_type": "code",
      "execution_count": 497,
      "id": "1196a002",
      "metadata": {
        "colab": {
          "base_uri": "https://localhost:8080/",
          "height": 424
        },
        "id": "1196a002",
        "outputId": "a7c50e32-7245-405b-9192-5b9a370aa122"
      },
      "outputs": [
        {
          "data": {
            "text/html": [
              "<div>\n",
              "<style scoped>\n",
              "    .dataframe tbody tr th:only-of-type {\n",
              "        vertical-align: middle;\n",
              "    }\n",
              "\n",
              "    .dataframe tbody tr th {\n",
              "        vertical-align: top;\n",
              "    }\n",
              "\n",
              "    .dataframe thead th {\n",
              "        text-align: right;\n",
              "    }\n",
              "</style>\n",
              "<table border=\"1\" class=\"dataframe\">\n",
              "  <thead>\n",
              "    <tr style=\"text-align: right;\">\n",
              "      <th></th>\n",
              "      <th>business_code</th>\n",
              "      <th>business_code_enc</th>\n",
              "    </tr>\n",
              "  </thead>\n",
              "  <tbody>\n",
              "    <tr>\n",
              "      <th>33173</th>\n",
              "      <td>U001</td>\n",
              "      <td>1</td>\n",
              "    </tr>\n",
              "    <tr>\n",
              "      <th>30787</th>\n",
              "      <td>CA02</td>\n",
              "      <td>0</td>\n",
              "    </tr>\n",
              "    <tr>\n",
              "      <th>31285</th>\n",
              "      <td>U001</td>\n",
              "      <td>1</td>\n",
              "    </tr>\n",
              "    <tr>\n",
              "      <th>8114</th>\n",
              "      <td>U001</td>\n",
              "      <td>1</td>\n",
              "    </tr>\n",
              "    <tr>\n",
              "      <th>28390</th>\n",
              "      <td>U001</td>\n",
              "      <td>1</td>\n",
              "    </tr>\n",
              "    <tr>\n",
              "      <th>...</th>\n",
              "      <td>...</td>\n",
              "      <td>...</td>\n",
              "    </tr>\n",
              "    <tr>\n",
              "      <th>15472</th>\n",
              "      <td>U001</td>\n",
              "      <td>1</td>\n",
              "    </tr>\n",
              "    <tr>\n",
              "      <th>7023</th>\n",
              "      <td>U001</td>\n",
              "      <td>1</td>\n",
              "    </tr>\n",
              "    <tr>\n",
              "      <th>9972</th>\n",
              "      <td>U001</td>\n",
              "      <td>1</td>\n",
              "    </tr>\n",
              "    <tr>\n",
              "      <th>22264</th>\n",
              "      <td>U001</td>\n",
              "      <td>1</td>\n",
              "    </tr>\n",
              "    <tr>\n",
              "      <th>22497</th>\n",
              "      <td>U001</td>\n",
              "      <td>1</td>\n",
              "    </tr>\n",
              "  </tbody>\n",
              "</table>\n",
              "<p>23494 rows × 2 columns</p>\n",
              "</div>"
            ],
            "text/plain": [
              "      business_code  business_code_enc\n",
              "33173          U001                  1\n",
              "30787          CA02                  0\n",
              "31285          U001                  1\n",
              "8114           U001                  1\n",
              "28390          U001                  1\n",
              "...             ...                ...\n",
              "15472          U001                  1\n",
              "7023           U001                  1\n",
              "9972           U001                  1\n",
              "22264          U001                  1\n",
              "22497          U001                  1\n",
              "\n",
              "[23494 rows x 2 columns]"
            ]
          },
          "execution_count": 497,
          "metadata": {},
          "output_type": "execute_result"
        }
      ],
      "source": [
        "X_train[['business_code','business_code_enc']]"
      ]
    },
    {
      "cell_type": "markdown",
      "id": "11477224",
      "metadata": {
        "id": "11477224"
      },
      "source": [
        "#### Create a function called \"custom\" for dropping the columns 'business_code' from train, test and validation dataframe\n",
        "\n",
        "- Note - Fill in the blank to complete the code"
      ]
    },
    {
      "cell_type": "code",
      "execution_count": 498,
      "id": "1052868a",
      "metadata": {
        "id": "1052868a"
      },
      "outputs": [],
      "source": [
        "def custom(col ,traindf = X_train,valdf = X_val,testdf = X_test):\n",
        "    traindf.drop(col, axis =1,inplace=True)\n",
        "    valdf.drop(col,axis=1 , inplace=True)\n",
        "    testdf.drop(col,axis=1 , inplace=True)\n",
        "\n",
        "    return traindf,valdf ,testdf"
      ]
    },
    {
      "cell_type": "markdown",
      "id": "rI--ZuMbNLne",
      "metadata": {
        "id": "rI--ZuMbNLne"
      },
      "source": [
        "### Call the function by passing the column name which needed to be dropped from train, test and validation dataframes. Return updated dataframes to be stored in X_train ,X_val, X_test  \n",
        "\n",
        "- Note = Fill in the blank to complete the code "
      ]
    },
    {
      "cell_type": "code",
      "execution_count": 499,
      "id": "1a0f955c",
      "metadata": {
        "id": "1a0f955c"
      },
      "outputs": [],
      "source": [
        "X_train , X_val , X_test = custom(['business_code'])"
      ]
    },
    {
      "cell_type": "markdown",
      "id": "28b5b27e",
      "metadata": {
        "id": "28b5b27e"
      },
      "source": [
        "### Manually replacing str values with numbers, Here we are trying manually replace the customer numbers with some specific values like, 'CCCA' as 1, 'CCU' as 2 and so on. Also we are converting the datatype \"cust_number\" field to int type.\n",
        "\n",
        "- We are doing it for all the three dataframes as shown below. This is fully completed code. No need to modify anything here \n",
        "\n"
      ]
    },
    {
      "cell_type": "code",
      "execution_count": 500,
      "id": "85dd129e",
      "metadata": {
        "id": "85dd129e"
      },
      "outputs": [],
      "source": [
        "X_train['cust_number'] = X_train['cust_number'].str.replace('CCCA',\"1\").str.replace('CCU',\"2\").str.replace('CC',\"3\").astype(int)\n",
        "X_test['cust_number'] = X_test['cust_number'].str.replace('CCCA',\"1\").str.replace('CCU',\"2\").str.replace('CC',\"3\").astype(int)\n",
        "X_val['cust_number'] = X_val['cust_number'].str.replace('CCCA',\"1\").str.replace('CCU',\"2\").str.replace('CC',\"3\").astype(int)\n"
      ]
    },
    {
      "cell_type": "markdown",
      "id": "U8vA-zmdPnJ8",
      "metadata": {
        "id": "U8vA-zmdPnJ8"
      },
      "source": [
        "#### It differs from LabelEncoder by handling new classes and providing a value for it [Unknown]. Unknown will be added in fit and transform will take care of new item. It gives unknown class id.\n",
        "\n",
        "#### This will fit the encoder for all the unique values and introduce unknown value\n",
        "\n",
        "- Note - Keep this code as it is, we will be using this later on.  "
      ]
    },
    {
      "cell_type": "code",
      "execution_count": 501,
      "id": "151f48ba",
      "metadata": {
        "id": "151f48ba"
      },
      "outputs": [],
      "source": [
        "#For encoding unseen labels\n",
        "class EncoderExt(object):\n",
        "    def __init__(self):\n",
        "        self.label_encoder = LabelEncoder()\n",
        "    def fit(self, data_list):\n",
        "        self.label_encoder = self.label_encoder.fit(list(data_list) + ['Unknown'])\n",
        "        self.classes_ = self.label_encoder.classes_\n",
        "        return self\n",
        "    def transform(self, data_list):\n",
        "        new_data_list = list(data_list)\n",
        "        for unique_item in np.unique(data_list):\n",
        "            if unique_item not in self.label_encoder.classes_:\n",
        "                new_data_list = ['Unknown' if x==unique_item else x for x in new_data_list]\n",
        "        return self.label_encoder.transform(new_data_list)"
      ]
    },
    {
      "cell_type": "markdown",
      "id": "254c64e6",
      "metadata": {
        "id": "254c64e6"
      },
      "source": [
        "### Use the user define Label Encoder function called \"EncoderExt\" for the \"name_customer\" column\n",
        "\n",
        "- Note - Keep the code as it is, no need to change"
      ]
    },
    {
      "cell_type": "code",
      "execution_count": 502,
      "id": "62b17eff",
      "metadata": {
        "id": "62b17eff"
      },
      "outputs": [],
      "source": [
        "label_encoder = EncoderExt()\n",
        "label_encoder.fit(X_train['name_customer'])\n",
        "X_train['name_customer_enc']=label_encoder.transform(X_train['name_customer'])\n",
        "X_val['name_customer_enc']=label_encoder.transform(X_val['name_customer'])\n",
        "X_test['name_customer_enc']=label_encoder.transform(X_test['name_customer'])"
      ]
    },
    {
      "cell_type": "markdown",
      "id": "mK7LMoy2QZhy",
      "metadata": {
        "id": "mK7LMoy2QZhy"
      },
      "source": [
        "### As we have created the a new column \"name_customer_enc\", so now drop \"name_customer\" column from all three dataframes\n",
        "\n",
        "- Note - Keep the code as it is, no need to change"
      ]
    },
    {
      "cell_type": "code",
      "execution_count": 503,
      "id": "ef85f1c0",
      "metadata": {
        "id": "ef85f1c0"
      },
      "outputs": [],
      "source": [
        "X_train ,X_val, X_test = custom(['name_customer'])"
      ]
    },
    {
      "cell_type": "markdown",
      "id": "3aa09d22",
      "metadata": {
        "id": "3aa09d22"
      },
      "source": [
        "### Using Label Encoder for the \"cust_payment_terms\" column\n",
        "\n",
        "- Note - Keep the code as it is, no need to change"
      ]
    },
    {
      "cell_type": "code",
      "execution_count": 504,
      "id": "6f9ab642",
      "metadata": {
        "id": "6f9ab642"
      },
      "outputs": [],
      "source": [
        "label_encoder1 = EncoderExt()\n",
        "label_encoder1.fit(X_train['cust_payment_terms'])\n",
        "X_train['cust_payment_terms_enc']=label_encoder1.transform(X_train['cust_payment_terms'])\n",
        "X_val['cust_payment_terms_enc']=label_encoder1.transform(X_val['cust_payment_terms'])\n",
        "X_test['cust_payment_terms_enc']=label_encoder1.transform(X_test['cust_payment_terms'])"
      ]
    },
    {
      "cell_type": "code",
      "execution_count": 505,
      "id": "55f9a7c2",
      "metadata": {
        "id": "55f9a7c2"
      },
      "outputs": [],
      "source": [
        "X_train ,X_val, X_test = custom(['cust_payment_terms'])"
      ]
    },
    {
      "cell_type": "markdown",
      "id": "0788f42b",
      "metadata": {
        "id": "0788f42b"
      },
      "source": [
        "## Check the datatype of all the columns of Train, Test and Validation dataframes realted to X\n",
        "\n",
        "- Note - You are expected yo use dtype"
      ]
    },
    {
      "cell_type": "code",
      "execution_count": 506,
      "id": "bc79a316",
      "metadata": {
        "colab": {
          "base_uri": "https://localhost:8080/"
        },
        "id": "bc79a316",
        "outputId": "c231c33e-47f2-4d12-dedd-7bdb63d5362d"
      },
      "outputs": [
        {
          "data": {
            "text/plain": [
              "cust_number                        int32\n",
              "buisness_year                      int64\n",
              "doc_id                             int64\n",
              "posting_date              datetime64[ns]\n",
              "due_in_date               datetime64[ns]\n",
              "baseline_create_date      datetime64[ns]\n",
              "converted_usd                    float64\n",
              "business_code_enc                  int32\n",
              "name_customer_enc                  int32\n",
              "cust_payment_terms_enc             int32\n",
              "dtype: object"
            ]
          },
          "execution_count": 506,
          "metadata": {},
          "output_type": "execute_result"
        }
      ],
      "source": [
        "X_train.dtypes"
      ]
    },
    {
      "cell_type": "code",
      "execution_count": 507,
      "id": "b33242d8",
      "metadata": {
        "colab": {
          "base_uri": "https://localhost:8080/"
        },
        "id": "b33242d8",
        "outputId": "22e1c3a7-2fcc-49db-b035-12cd1265e993"
      },
      "outputs": [
        {
          "data": {
            "text/plain": [
              "cust_number                        int32\n",
              "buisness_year                      int64\n",
              "doc_id                             int64\n",
              "posting_date              datetime64[ns]\n",
              "due_in_date               datetime64[ns]\n",
              "baseline_create_date      datetime64[ns]\n",
              "converted_usd                    float64\n",
              "business_code_enc                  int32\n",
              "name_customer_enc                  int32\n",
              "cust_payment_terms_enc             int32\n",
              "dtype: object"
            ]
          },
          "execution_count": 507,
          "metadata": {},
          "output_type": "execute_result"
        }
      ],
      "source": [
        "X_test.dtypes"
      ]
    },
    {
      "cell_type": "code",
      "execution_count": 508,
      "id": "6bd4da71",
      "metadata": {
        "colab": {
          "base_uri": "https://localhost:8080/"
        },
        "id": "6bd4da71",
        "outputId": "41033192-d478-4fdd-d84b-9113eb051e23"
      },
      "outputs": [
        {
          "data": {
            "text/plain": [
              "cust_number                        int32\n",
              "buisness_year                      int64\n",
              "doc_id                             int64\n",
              "posting_date              datetime64[ns]\n",
              "due_in_date               datetime64[ns]\n",
              "baseline_create_date      datetime64[ns]\n",
              "converted_usd                    float64\n",
              "business_code_enc                  int32\n",
              "name_customer_enc                  int32\n",
              "cust_payment_terms_enc             int32\n",
              "dtype: object"
            ]
          },
          "execution_count": 508,
          "metadata": {},
          "output_type": "execute_result"
        }
      ],
      "source": [
        "X_val.dtypes"
      ]
    },
    {
      "cell_type": "markdown",
      "id": "LVfvuPiWPeMB",
      "metadata": {
        "id": "LVfvuPiWPeMB"
      },
      "source": [
        "### From the above output you can notice their are multiple date columns with datetime format\n",
        "\n",
        "### In order to pass it into our model, we need to convert it into float format"
      ]
    },
    {
      "cell_type": "markdown",
      "id": "9d344db9",
      "metadata": {
        "id": "9d344db9"
      },
      "source": [
        "### You need to extract day, month and year from the \"posting_date\" column \n",
        "\n",
        "1.   Extract days from \"posting_date\" column and store it into a new column \"day_of_postingdate\" for train, test and validation dataset \n",
        "2.   Extract months from \"posting_date\" column and store it into a new column \"month_of_postingdate\" for train, test and validation dataset\n",
        "3.   Extract year from \"posting_date\" column and store it into a new column \"year_of_postingdate\" for train, test and validation dataset \n",
        "\n",
        "\n",
        "\n",
        "- Note - You are supposed yo use \n",
        "\n",
        "*   dt.day\n",
        "*   dt.month\n",
        "*   dt.year\n",
        "\n",
        "\n",
        "\n",
        "\n"
      ]
    },
    {
      "cell_type": "code",
      "execution_count": 509,
      "id": "6e3cdfd6",
      "metadata": {
        "id": "6e3cdfd6"
      },
      "outputs": [],
      "source": [
        "X_train['day_of_postingdate'] = X_train['posting_date'].dt.day\n",
        "X_train['month_of_postingdate'] = X_train['posting_date'].dt.month\n",
        "X_train['year_of_postingdate'] = X_train['posting_date'].dt.year\n",
        "\n",
        "X_val['day_of_postingdate'] = X_val['posting_date'].dt.day\n",
        "X_val['month_of_postingdate'] = X_val['posting_date'].dt.month\n",
        "X_val['year_of_postingdate'] = X_val['posting_date'].dt.year\n",
        "\n",
        "\n",
        "X_test['day_of_postingdate'] = X_test['posting_date'].dt.day\n",
        "X_test['month_of_postingdate'] = X_test['posting_date'].dt.month\n",
        "X_test['year_of_postingdate'] = X_test['posting_date'].dt.year\n",
        "\n"
      ]
    },
    {
      "cell_type": "markdown",
      "id": "GyI-F853Rxa7",
      "metadata": {
        "id": "GyI-F853Rxa7"
      },
      "source": [
        "### pass the \"posting_date\" column into the Custom function for train, test and validation dataset"
      ]
    },
    {
      "cell_type": "code",
      "execution_count": 510,
      "id": "FQHtQkrnRx_V",
      "metadata": {
        "id": "FQHtQkrnRx_V"
      },
      "outputs": [],
      "source": [
        "X_train ,X_val, X_test = custom(['posting_date'])"
      ]
    },
    {
      "cell_type": "markdown",
      "id": "GMnCaEcKReSw",
      "metadata": {
        "id": "GMnCaEcKReSw"
      },
      "source": [
        "### You need to extract day, month and year from the \"baseline_create_date\" column \n",
        "\n",
        "1.   Extract days from \"baseline_create_date\" column and store it into a new column \"day_of_createdate\" for train, test and validation dataset \n",
        "2.   Extract months from \"baseline_create_date\" column and store it into a new column \"month_of_createdate\" for train, test and validation dataset\n",
        "3.   Extract year from \"baseline_create_date\" column and store it into a new column \"year_of_createdate\" for train, test and validation dataset \n",
        "\n",
        "\n",
        "\n",
        "- Note - You are supposed yo use \n",
        "\n",
        "*   dt.day\n",
        "*   dt.month\n",
        "*   dt.year\n",
        "\n",
        "\n",
        "- Note - Do as it is been shown in the previous two code boxes"
      ]
    },
    {
      "cell_type": "markdown",
      "id": "ee4d83d0",
      "metadata": {
        "id": "ee4d83d0"
      },
      "source": [
        "### Extracting Day, Month, Year for 'baseline_create_date' column"
      ]
    },
    {
      "cell_type": "code",
      "execution_count": 511,
      "id": "lcNHjeibe7_O",
      "metadata": {
        "id": "lcNHjeibe7_O"
      },
      "outputs": [],
      "source": [
        "X_train['day_of_createdate'] = X_train['baseline_create_date'].dt.day\n",
        "X_train['month_of_createdate'] = X_train['baseline_create_date'].dt.month\n",
        "X_train['year_of_createdate'] = X_train['baseline_create_date'].dt.year\n",
        "\n",
        "X_val['day_of_createdate'] = X_val['baseline_create_date'].dt.day\n",
        "X_val['month_of_createdate'] = X_val['baseline_create_date'].dt.month\n",
        "X_val['year_of_createdate'] = X_val['baseline_create_date'].dt.year\n",
        "\n",
        "\n",
        "X_test['day_of_createdate'] = X_test['baseline_create_date'].dt.day\n",
        "X_test['month_of_createdate'] = X_test['baseline_create_date'].dt.month\n",
        "X_test['year_of_createdate'] = X_test['baseline_create_date'].dt.year\n",
        "\n"
      ]
    },
    {
      "cell_type": "markdown",
      "id": "cFgwkS5rSDDs",
      "metadata": {
        "id": "cFgwkS5rSDDs"
      },
      "source": [
        "### pass the \"baseline_create_date\" column into the Custom function for train, test and validation dataset"
      ]
    },
    {
      "cell_type": "code",
      "execution_count": 512,
      "id": "PG1aQ8n3feVZ",
      "metadata": {
        "id": "PG1aQ8n3feVZ"
      },
      "outputs": [],
      "source": [
        "X_train ,X_val, X_test = custom(['baseline_create_date'])"
      ]
    },
    {
      "cell_type": "markdown",
      "id": "77c7a0df",
      "metadata": {
        "id": "77c7a0df"
      },
      "source": [
        "### You need to extract day, month and year from the \"due_in_date\" column \n",
        "\n",
        "1.   Extract days from \"due_in_date\" column and store it into a new column \"day_of_due\" for train, test and validation dataset \n",
        "2.   Extract months from \"due_in_date\" column and store it into a new column \"month_of_due\" for train, test and validation dataset\n",
        "3.   Extract year from \"due_in_date\" column and store it into a new column \"year_of_due\" for train, test and validation dataset \n",
        "\n",
        "\n",
        "\n",
        "- Note - You are supposed yo use \n",
        "\n",
        "*   dt.day\n",
        "*   dt.month\n",
        "*   dt.year\n",
        "\n",
        "- Note - Do as it is been shown in the previous code"
      ]
    },
    {
      "cell_type": "code",
      "execution_count": 513,
      "id": "5c745547",
      "metadata": {
        "id": "5c745547"
      },
      "outputs": [],
      "source": [
        "X_train['day_of_due'] = X_train['due_in_date'].dt.day\n",
        "X_train['month_of_due'] = X_train['due_in_date'].dt.month\n",
        "X_train['year_of_due'] = X_train['due_in_date'].dt.year\n",
        "\n",
        "X_val['day_of_due'] = X_val['due_in_date'].dt.day\n",
        "X_val['month_of_due'] = X_val['due_in_date'].dt.month\n",
        "X_val['year_of_due'] = X_val['due_in_date'].dt.year\n",
        "\n",
        "\n",
        "X_test['day_of_due'] = X_test['due_in_date'].dt.day\n",
        "X_test['month_of_due'] = X_test['due_in_date'].dt.month\n",
        "X_test['year_of_due'] = X_test['due_in_date'].dt.year"
      ]
    },
    {
      "cell_type": "markdown",
      "id": "FYLLzulGSvRd",
      "metadata": {
        "id": "FYLLzulGSvRd"
      },
      "source": [
        "pass the \"due_in_date\" column into the Custom function for train, test and validation dataset"
      ]
    },
    {
      "cell_type": "code",
      "execution_count": 514,
      "id": "1-s6QuY9Svrh",
      "metadata": {
        "id": "1-s6QuY9Svrh"
      },
      "outputs": [],
      "source": [
        "X_train ,X_val, X_test = custom(['due_in_date'])"
      ]
    },
    {
      "cell_type": "markdown",
      "id": "1ae5d052",
      "metadata": {
        "id": "1ae5d052"
      },
      "source": [
        "### Check for the datatypes for train, test and validation set again\n",
        "\n",
        "- Note - all the data type should be in either int64 or float64 format \n"
      ]
    },
    {
      "cell_type": "code",
      "execution_count": 515,
      "id": "aee9d828",
      "metadata": {
        "colab": {
          "base_uri": "https://localhost:8080/"
        },
        "id": "aee9d828",
        "outputId": "d30a1dce-0316-44c5-aae1-e8aa9db77341"
      },
      "outputs": [
        {
          "name": "stdout",
          "output_type": "stream",
          "text": [
            "cust_number                 int32\n",
            "buisness_year               int64\n",
            "doc_id                      int64\n",
            "converted_usd             float64\n",
            "business_code_enc           int32\n",
            "name_customer_enc           int32\n",
            "cust_payment_terms_enc      int32\n",
            "day_of_postingdate          int64\n",
            "month_of_postingdate        int64\n",
            "year_of_postingdate         int64\n",
            "day_of_createdate           int64\n",
            "month_of_createdate         int64\n",
            "year_of_createdate          int64\n",
            "day_of_due                  int64\n",
            "month_of_due                int64\n",
            "year_of_due                 int64\n",
            "dtype: object\n"
          ]
        }
      ],
      "source": [
        "print(X_train.dtypes)"
      ]
    },
    {
      "cell_type": "code",
      "execution_count": 516,
      "id": "zcgMsfbugCDC",
      "metadata": {
        "colab": {
          "base_uri": "https://localhost:8080/"
        },
        "id": "zcgMsfbugCDC",
        "outputId": "fe339ad4-b65a-4afd-b212-cdc1ad081558"
      },
      "outputs": [
        {
          "name": "stdout",
          "output_type": "stream",
          "text": [
            "cust_number                 int32\n",
            "buisness_year               int64\n",
            "doc_id                      int64\n",
            "converted_usd             float64\n",
            "business_code_enc           int32\n",
            "name_customer_enc           int32\n",
            "cust_payment_terms_enc      int32\n",
            "day_of_postingdate          int64\n",
            "month_of_postingdate        int64\n",
            "year_of_postingdate         int64\n",
            "day_of_createdate           int64\n",
            "month_of_createdate         int64\n",
            "year_of_createdate          int64\n",
            "day_of_due                  int64\n",
            "month_of_due                int64\n",
            "year_of_due                 int64\n",
            "dtype: object\n"
          ]
        }
      ],
      "source": [
        "print(X_test.dtypes)"
      ]
    },
    {
      "cell_type": "code",
      "execution_count": 517,
      "id": "xwcMSnSFgFk5",
      "metadata": {
        "colab": {
          "base_uri": "https://localhost:8080/"
        },
        "id": "xwcMSnSFgFk5",
        "outputId": "eb010f85-ea8c-4277-e6eb-6e0be66a13a1"
      },
      "outputs": [
        {
          "name": "stdout",
          "output_type": "stream",
          "text": [
            "cust_number                 int32\n",
            "buisness_year               int64\n",
            "doc_id                      int64\n",
            "converted_usd             float64\n",
            "business_code_enc           int32\n",
            "name_customer_enc           int32\n",
            "cust_payment_terms_enc      int32\n",
            "day_of_postingdate          int64\n",
            "month_of_postingdate        int64\n",
            "year_of_postingdate         int64\n",
            "day_of_createdate           int64\n",
            "month_of_createdate         int64\n",
            "year_of_createdate          int64\n",
            "day_of_due                  int64\n",
            "month_of_due                int64\n",
            "year_of_due                 int64\n",
            "dtype: object\n"
          ]
        }
      ],
      "source": [
        "print(X_val.dtypes)"
      ]
    },
    {
      "cell_type": "markdown",
      "id": "65810f55",
      "metadata": {
        "id": "65810f55"
      },
      "source": [
        "# Feature Selection"
      ]
    },
    {
      "cell_type": "markdown",
      "id": "4bb1ad9f",
      "metadata": {
        "id": "4bb1ad9f"
      },
      "source": [
        "### Filter Method\n",
        "\n",
        "- Calling the VarianceThreshold Function \n",
        "- Note - Keep the code as it is, no need to change "
      ]
    },
    {
      "cell_type": "code",
      "execution_count": 518,
      "id": "e882509f",
      "metadata": {
        "colab": {
          "base_uri": "https://localhost:8080/"
        },
        "id": "e882509f",
        "outputId": "72d26a48-fcb9-4548-8035-b4c71a3c5a16"
      },
      "outputs": [
        {
          "data": {
            "text/plain": [
              "16"
            ]
          },
          "execution_count": 518,
          "metadata": {},
          "output_type": "execute_result"
        }
      ],
      "source": [
        "from sklearn.feature_selection import VarianceThreshold\n",
        "constant_filter = VarianceThreshold(threshold=0)\n",
        "constant_filter.fit(X_train)\n",
        "len(X_train.columns[constant_filter.get_support()])"
      ]
    },
    {
      "cell_type": "markdown",
      "id": "V9531H3jR-W2",
      "metadata": {
        "id": "V9531H3jR-W2"
      },
      "source": [
        "- Note - Keep the code as it is, no need to change \n"
      ]
    },
    {
      "cell_type": "code",
      "execution_count": 519,
      "id": "c77c12e1",
      "metadata": {
        "colab": {
          "base_uri": "https://localhost:8080/"
        },
        "id": "c77c12e1",
        "outputId": "2de1b847-c1f8-440a-8586-14eff38352ff"
      },
      "outputs": [
        {
          "name": "stdout",
          "output_type": "stream",
          "text": [
            "0\n"
          ]
        }
      ],
      "source": [
        "constant_columns = [column for column in X_train.columns\n",
        "                    if column not in X_train.columns[constant_filter.get_support()]]\n",
        "print(len(constant_columns))"
      ]
    },
    {
      "cell_type": "markdown",
      "id": "6d9b8610",
      "metadata": {
        "id": "6d9b8610"
      },
      "source": [
        "- transpose the feature matrice\n",
        "- print the number of duplicated features\n",
        "- select the duplicated features columns names\n",
        "\n",
        "- Note - Keep the code as it is, no need to change \n"
      ]
    },
    {
      "cell_type": "code",
      "execution_count": 520,
      "id": "0fb7db95",
      "metadata": {
        "colab": {
          "base_uri": "https://localhost:8080/"
        },
        "id": "0fb7db95",
        "outputId": "422907ba-46e3-4f85-9ea5-58e6e9bac138"
      },
      "outputs": [
        {
          "name": "stdout",
          "output_type": "stream",
          "text": [
            "3\n"
          ]
        }
      ],
      "source": [
        "x_train_T = X_train.T\n",
        "print(x_train_T.duplicated().sum())\n",
        "duplicated_columns = x_train_T[x_train_T.duplicated()].index.values"
      ]
    },
    {
      "cell_type": "markdown",
      "id": "510fa831",
      "metadata": {
        "id": "510fa831"
      },
      "source": [
        "### Filtering depending upon correlation matrix value\n",
        "- We have created a function called handling correlation which is going to return fields based on the correlation matrix value with a threshold of 0.8\n",
        "\n",
        "- Note - Keep the code as it is, no need to change "
      ]
    },
    {
      "cell_type": "code",
      "execution_count": 521,
      "id": "67731abc",
      "metadata": {
        "id": "67731abc"
      },
      "outputs": [],
      "source": [
        "def handling_correlation(X_train,threshold=0.8):\n",
        "    corr_features = set()\n",
        "    corr_matrix = X_train.corr()\n",
        "    for i in range(len(corr_matrix .columns)):\n",
        "        for j in range(i):\n",
        "            if abs(corr_matrix.iloc[i, j]) >threshold:\n",
        "                colname = corr_matrix.columns[i]\n",
        "                corr_features.add(colname)\n",
        "    return list(corr_features)"
      ]
    },
    {
      "cell_type": "markdown",
      "id": "JaE_6qVgSXl3",
      "metadata": {
        "id": "JaE_6qVgSXl3"
      },
      "source": [
        "- Note : Here we are trying to find out the relevant fields, from X_train\n",
        "- Please fill in the blanks to call handling_correlation() function with a threshold value of 0.85"
      ]
    },
    {
      "cell_type": "code",
      "execution_count": 522,
      "id": "dd91d1a2",
      "metadata": {
        "colab": {
          "base_uri": "https://localhost:8080/"
        },
        "id": "dd91d1a2",
        "outputId": "acc7a441-1fd2-4884-f771-0898c695e990"
      },
      "outputs": [
        {
          "data": {
            "text/plain": [
              "['year_of_due',\n",
              " 'month_of_due',\n",
              " 'year_of_createdate',\n",
              " 'year_of_postingdate',\n",
              " 'day_of_createdate',\n",
              " 'month_of_createdate']"
            ]
          },
          "execution_count": 522,
          "metadata": {},
          "output_type": "execute_result"
        }
      ],
      "source": [
        "train=X_train.copy()\n",
        "handling_correlation(train.copy(),0.85)"
      ]
    },
    {
      "cell_type": "markdown",
      "id": "154da511",
      "metadata": {
        "id": "154da511"
      },
      "source": [
        "### Heatmap for X_train\n",
        "\n",
        "- Note - Keep the code as it is, no need to change"
      ]
    },
    {
      "cell_type": "code",
      "execution_count": 523,
      "id": "2e8f2fe4",
      "metadata": {
        "colab": {
          "base_uri": "https://localhost:8080/",
          "height": 860
        },
        "id": "2e8f2fe4",
        "outputId": "1a5e85fe-97c0-417d-d881-9d6fd3711e0e"
      },
      "outputs": [
        {
          "data": {
            "text/plain": [
              "<AxesSubplot:title={'center':'Pearson Correlation of Features'}>"
            ]
          },
          "execution_count": 523,
          "metadata": {},
          "output_type": "execute_result"
        },
        {
          "data": {
            "image/png": "[encoded data removed]",
            "text/plain": [
              "<Figure size 1008x864 with 2 Axes>"
            ]
          },
          "metadata": {
            "needs_background": "light"
          },
          "output_type": "display_data"
        }
      ],
      "source": [
        "colormap = plt.cm.RdBu\n",
        "plt.figure(figsize=(14,12))\n",
        "plt.title('Pearson Correlation of Features', y=1.05, size=20)\n",
        "sns.heatmap(X_train.merge(y_train , on = X_train.index ).corr(),linewidths=0.1,vmax=1.0, \n",
        "            square=True, cmap='gist_rainbow_r', linecolor='white', annot=True)"
      ]
    },
    {
      "cell_type": "markdown",
      "id": "e3b0d745",
      "metadata": {
        "id": "e3b0d745"
      },
      "source": [
        "#### Calling variance threshold for threshold value = 0.8\n",
        "\n",
        "- Note -  Fill in the blanks to call the appropriate method"
      ]
    },
    {
      "cell_type": "code",
      "execution_count": 524,
      "id": "a9b2080f",
      "metadata": {
        "colab": {
          "base_uri": "https://localhost:8080/"
        },
        "id": "a9b2080f",
        "outputId": "77abbaba-13bd-40b1-bd1d-acb2028aec02"
      },
      "outputs": [
        {
          "data": {
            "text/plain": [
              "VarianceThreshold(threshold=0.8)"
            ]
          },
          "execution_count": 524,
          "metadata": {},
          "output_type": "execute_result"
        }
      ],
      "source": [
        "from sklearn.feature_selection import VarianceThreshold\n",
        "sel = VarianceThreshold(0.8)\n",
        "sel.fit(X_train)"
      ]
    },
    {
      "cell_type": "code",
      "execution_count": 525,
      "id": "6cb8c3dc",
      "metadata": {
        "colab": {
          "base_uri": "https://localhost:8080/"
        },
        "id": "6cb8c3dc",
        "outputId": "54355ee0-9628-4e11-86a2-876da4c46f09"
      },
      "outputs": [
        {
          "data": {
            "text/plain": [
              "array([1.79900159e+15, 1.14945158e-01, 7.85278832e+16, 1.34600964e+09,\n",
              "       2.83469699e-01, 1.05751521e+06, 1.27551546e+02, 7.76774131e+01,\n",
              "       1.22569105e+01, 1.15650537e-01, 7.76774131e+01, 1.22569105e+01,\n",
              "       1.15650537e-01, 7.59113559e+01, 1.20596747e+01, 1.18279943e-01])"
            ]
          },
          "execution_count": 525,
          "metadata": {},
          "output_type": "execute_result"
        }
      ],
      "source": [
        "sel.variances_"
      ]
    },
    {
      "cell_type": "markdown",
      "id": "62633a84",
      "metadata": {
        "id": "62633a84"
      },
      "source": [
        "### Features columns are \n",
        "- 'year_of_createdate' \n",
        "- 'year_of_due'\n",
        "- 'day_of_createdate'\n",
        "- 'year_of_postingdate'\n",
        "- 'month_of_due'\n",
        "- 'month_of_createdate'"
      ]
    },
    {
      "cell_type": "markdown",
      "id": "651f1ad0",
      "metadata": {
        "id": "651f1ad0"
      },
      "source": [
        "# Modelling \n",
        "\n",
        "#### Now you need to compare with different machine learning models, and needs to find out the best predicted model\n",
        "\n",
        "- Linear Regression\n",
        "- Decision Tree Regression\n",
        "- Random Forest Regression\n",
        "- Support Vector Regression\n",
        "- Extreme Gradient Boost Regression "
      ]
    },
    {
      "cell_type": "markdown",
      "id": "PicEhSuUUOkt",
      "metadata": {
        "id": "PicEhSuUUOkt"
      },
      "source": [
        "### You need to make different blank list for different evaluation matrix \n",
        "\n",
        "- MSE\n",
        "- R2\n",
        "- Algorithm"
      ]
    },
    {
      "cell_type": "code",
      "execution_count": 526,
      "id": "701e12b0",
      "metadata": {
        "id": "701e12b0"
      },
      "outputs": [],
      "source": [
        "MSE_Score = []\n",
        "R2_Score = []\n",
        "Algorithm = []\n",
        "from sklearn.metrics import mean_squared_error\n",
        "from sklearn.metrics import r2_score"
      ]
    },
    {
      "cell_type": "markdown",
      "id": "29310119",
      "metadata": {
        "id": "29310119"
      },
      "source": [
        "### You need to start with the baseline model Linear Regression\n",
        "\n",
        "- Step 1 : Call the Linear Regression from sklearn library\n",
        "- Step 2 : make an object of Linear Regression \n",
        "- Step 3 : fit the X_train and y_train dataframe into the object \n",
        "- Step 4 : Predict the output by passing the X_test Dataset into predict function\n",
        "\n",
        "\n",
        "\n",
        "\n",
        "- Note - Append the Algorithm name into the algorithm list for tracking purpose"
      ]
    },
    {
      "cell_type": "code",
      "execution_count": 527,
      "id": "6bdea395",
      "metadata": {
        "id": "6bdea395"
      },
      "outputs": [],
      "source": [
        "from sklearn.linear_model import LinearRegression\n",
        "Algorithm.append('LinearRegression')\n",
        "regressor = LinearRegression()\n",
        "regressor.fit(X_train, y_train)\n",
        "predicted= regressor.predict(X_test)"
      ]
    },
    {
      "cell_type": "markdown",
      "id": "G02cpnBhXJ14",
      "metadata": {
        "id": "G02cpnBhXJ14"
      },
      "source": [
        "### Check for the \n",
        "\n",
        "- Mean Square Error\n",
        "- R Square Error \n",
        "\n",
        "for y_test and predicted dataset and store those data inside respective list for comparison "
      ]
    },
    {
      "cell_type": "code",
      "execution_count": 528,
      "id": "0f69ca19",
      "metadata": {
        "id": "0f69ca19"
      },
      "outputs": [],
      "source": [
        "MSE_Score.append(mean_squared_error(y_test, predicted))\n",
        "R2_Score.append(r2_score(y_test, predicted))"
      ]
    },
    {
      "cell_type": "markdown",
      "id": "CsmScbHjYMv1",
      "metadata": {
        "id": "CsmScbHjYMv1"
      },
      "source": [
        "### Check the same for the Validation set also "
      ]
    },
    {
      "cell_type": "code",
      "execution_count": 529,
      "id": "fe653295",
      "metadata": {
        "colab": {
          "base_uri": "https://localhost:8080/"
        },
        "id": "fe653295",
        "outputId": "d5ce03fa-adc1-4ca5-a21d-713c2a93df30"
      },
      "outputs": [
        {
          "data": {
            "text/plain": [
              "283040615501.00946"
            ]
          },
          "execution_count": 529,
          "metadata": {},
          "output_type": "execute_result"
        }
      ],
      "source": [
        "predict_test= regressor.predict(X_val)\n",
        "mean_squared_error(y_val, predict_test)"
      ]
    },
    {
      "cell_type": "markdown",
      "id": "LokxV2LGYUVh",
      "metadata": {
        "id": "LokxV2LGYUVh"
      },
      "source": [
        "### Display The Comparison Lists"
      ]
    },
    {
      "cell_type": "code",
      "execution_count": 530,
      "id": "9c405bd3",
      "metadata": {
        "colab": {
          "base_uri": "https://localhost:8080/"
        },
        "id": "9c405bd3",
        "outputId": "3befcba8-f410-4771-d84a-c359967cc46c"
      },
      "outputs": [
        {
          "name": "stdout",
          "output_type": "stream",
          "text": [
            "['LinearRegression'],[289568966360.9288],[0.341188937181901],"
          ]
        }
      ],
      "source": [
        "for i in Algorithm, MSE_Score, R2_Score:\n",
        "    print(i,end=',')"
      ]
    },
    {
      "cell_type": "markdown",
      "id": "b0e65c86",
      "metadata": {
        "id": "b0e65c86"
      },
      "source": [
        "### You need to start with the baseline model Support Vector Regression\n",
        "\n",
        "- Step 1 : Call the Support Vector Regressor from sklearn library\n",
        "- Step 2 : make an object of SVR\n",
        "- Step 3 : fit the X_train and y_train dataframe into the object \n",
        "- Step 4 : Predict the output by passing the X_test Dataset into predict function\n",
        "\n",
        "\n",
        "\n",
        "\n",
        "- Note - Append the Algorithm name into the algorithm list for tracking purpose"
      ]
    },
    {
      "cell_type": "code",
      "execution_count": 531,
      "id": "ccb5de08",
      "metadata": {
        "id": "ccb5de08"
      },
      "outputs": [],
      "source": [
        "from sklearn.svm import SVR\n",
        "Algorithm.append('SupportVectorRegression')\n",
        "regressor = SVR()\n",
        "regressor.fit(X_train, y_train)\n",
        "predicted= regressor.predict(X_test)"
      ]
    },
    {
      "cell_type": "markdown",
      "id": "zz9kcrViYt7e",
      "metadata": {
        "id": "zz9kcrViYt7e"
      },
      "source": [
        "### Check for the \n",
        "\n",
        "- Mean Square Error\n",
        "- R Square Error \n",
        "\n",
        "for \"y_test\" and \"predicted\" dataset and store those data inside respective list for comparison "
      ]
    },
    {
      "cell_type": "code",
      "execution_count": 532,
      "id": "JMV31JSI9hq_",
      "metadata": {
        "id": "JMV31JSI9hq_"
      },
      "outputs": [],
      "source": [
        "MSE_Score.append(mean_squared_error(y_test, predicted))\n",
        "R2_Score.append(r2_score(y_test, predicted))"
      ]
    },
    {
      "cell_type": "markdown",
      "id": "0YAxd8N9Y0hJ",
      "metadata": {
        "id": "0YAxd8N9Y0hJ"
      },
      "source": [
        "### Check the same for the Validation set also "
      ]
    },
    {
      "cell_type": "code",
      "execution_count": 533,
      "id": "d6ee71b1",
      "metadata": {
        "colab": {
          "base_uri": "https://localhost:8080/"
        },
        "id": "d6ee71b1",
        "outputId": "2a39d1e3-7d1d-41e7-808a-a928619bce42"
      },
      "outputs": [
        {
          "data": {
            "text/plain": [
              "430392426428.31287"
            ]
          },
          "execution_count": 533,
          "metadata": {},
          "output_type": "execute_result"
        }
      ],
      "source": [
        "predict_test= regressor.predict(X_val)\n",
        "mean_squared_error(y_val, predict_test)"
      ]
    },
    {
      "cell_type": "markdown",
      "id": "eGcqS5EcY4BI",
      "metadata": {
        "id": "eGcqS5EcY4BI"
      },
      "source": [
        "### Display The Comparison Lists"
      ]
    },
    {
      "cell_type": "code",
      "execution_count": 534,
      "id": "0oAA2fUt9uJn",
      "metadata": {
        "colab": {
          "base_uri": "https://localhost:8080/"
        },
        "id": "0oAA2fUt9uJn",
        "outputId": "1014e7fa-2445-497d-b00e-cb0301efa40b"
      },
      "outputs": [
        {
          "name": "stdout",
          "output_type": "stream",
          "text": [
            "['LinearRegression', 'SupportVectorRegression'],[289568966360.9288, 442888058480.77594],[0.341188937181901, -0.007634057558088658],"
          ]
        }
      ],
      "source": [
        "for i in Algorithm, MSE_Score, R2_Score:\n",
        "    print(i,end=',')"
      ]
    },
    {
      "cell_type": "markdown",
      "id": "dad18bb3",
      "metadata": {
        "id": "dad18bb3"
      },
      "source": [
        "### Your next model would be Decision Tree Regression\n",
        "\n",
        "- Step 1 : Call the Decision Tree Regressor from sklearn library\n",
        "- Step 2 : make an object of Decision Tree\n",
        "- Step 3 : fit the X_train and y_train dataframe into the object \n",
        "- Step 4 : Predict the output by passing the X_test Dataset into predict function\n",
        "\n",
        "\n",
        "\n",
        "\n",
        "- Note - Append the Algorithm name into the algorithm list for tracking purpose"
      ]
    },
    {
      "cell_type": "code",
      "execution_count": 535,
      "id": "EllMqwDD9ySx",
      "metadata": {
        "id": "EllMqwDD9ySx"
      },
      "outputs": [],
      "source": [
        "from sklearn.tree import DecisionTreeRegressor \n",
        "Algorithm.append('DecisionTreeRegression')\n",
        "regressor = DecisionTreeRegressor(random_state = 101)\n",
        "regressor.fit(X_train, y_train)\n",
        "predicted= regressor.predict(X_test)"
      ]
    },
    {
      "cell_type": "markdown",
      "id": "AOzfgfeOZo3F",
      "metadata": {
        "id": "AOzfgfeOZo3F"
      },
      "source": [
        "### Check for the \n",
        "\n",
        "- Mean Square Error\n",
        "- R Square Error \n",
        "\n",
        "for y_test and predicted dataset and store those data inside respective list for comparison "
      ]
    },
    {
      "cell_type": "code",
      "execution_count": 536,
      "id": "yoeDSTUj97J9",
      "metadata": {
        "id": "yoeDSTUj97J9"
      },
      "outputs": [],
      "source": [
        "MSE_Score.append(mean_squared_error(y_test, predicted))\n",
        "R2_Score.append(r2_score(y_test, predicted))"
      ]
    },
    {
      "cell_type": "markdown",
      "id": "eI6d49DQZrhW",
      "metadata": {
        "id": "eI6d49DQZrhW"
      },
      "source": [
        "### Check the same for the Validation set also "
      ]
    },
    {
      "cell_type": "code",
      "execution_count": 537,
      "id": "7S9V6KoV9_7L",
      "metadata": {
        "colab": {
          "base_uri": "https://localhost:8080/"
        },
        "id": "7S9V6KoV9_7L",
        "outputId": "3ef9425f-6e3f-4488-9e42-e2cfa47c9fdf"
      },
      "outputs": [
        {
          "data": {
            "text/plain": [
              "238297501088.99"
            ]
          },
          "execution_count": 537,
          "metadata": {},
          "output_type": "execute_result"
        }
      ],
      "source": [
        "predict_test= regressor.predict(X_val)\n",
        "mean_squared_error(y_val, predict_test)"
      ]
    },
    {
      "cell_type": "markdown",
      "id": "sbGXvBLQZw5E",
      "metadata": {
        "id": "sbGXvBLQZw5E"
      },
      "source": [
        "### Display The Comparison Lists"
      ]
    },
    {
      "cell_type": "code",
      "execution_count": 538,
      "id": "1d74d515",
      "metadata": {
        "colab": {
          "base_uri": "https://localhost:8080/"
        },
        "id": "1d74d515",
        "outputId": "621237a7-5306-4918-87c8-34a06a86689c"
      },
      "outputs": [
        {
          "name": "stdout",
          "output_type": "stream",
          "text": [
            "['LinearRegression', 'SupportVectorRegression', 'DecisionTreeRegression'],[289568966360.9288, 442888058480.77594, 245418994593.0005],[0.341188937181901, -0.007634057558088658, 0.4416364754293647],"
          ]
        }
      ],
      "source": [
        "for i in Algorithm, MSE_Score, R2_Score:\n",
        "    print(i,end=',')"
      ]
    },
    {
      "cell_type": "markdown",
      "id": "4ae9979b",
      "metadata": {
        "id": "4ae9979b"
      },
      "source": [
        "### Your next model would be Random Forest Regression\n",
        "\n",
        "- Step 1 : Call the Random Forest Regressor from sklearn library\n",
        "- Step 2 : make an object of Random Forest\n",
        "- Step 3 : fit the X_train and y_train dataframe into the object \n",
        "- Step 4 : Predict the output by passing the X_test Dataset into predict function\n",
        "\n",
        "\n",
        "\n",
        "\n",
        "- Note - Append the Algorithm name into the algorithm list for tracking purpose"
      ]
    },
    {
      "cell_type": "code",
      "execution_count": 539,
      "id": "a69e476a",
      "metadata": {
        "id": "a69e476a"
      },
      "outputs": [],
      "source": [
        "from sklearn.ensemble import RandomForestRegressor\n",
        "Algorithm.append('RandomForestRegression')\n",
        "regressor = RandomForestRegressor(n_estimators = 101, random_state = 101)\n",
        "regressor.fit(X_train, y_train)\n",
        "predicted= regressor.predict(X_test)"
      ]
    },
    {
      "cell_type": "markdown",
      "id": "XNcEJF-6anof",
      "metadata": {
        "id": "XNcEJF-6anof"
      },
      "source": [
        "### Check for the \n",
        "\n",
        "- Mean Square Error\n",
        "- R Square Error \n",
        "\n",
        "for y_test and predicted dataset and store those data inside respective list for comparison "
      ]
    },
    {
      "cell_type": "code",
      "execution_count": 540,
      "id": "826f63f4",
      "metadata": {
        "id": "826f63f4"
      },
      "outputs": [],
      "source": [
        "MSE_Score.append(mean_squared_error(y_test, predicted))\n",
        "R2_Score.append(r2_score(y_test, predicted))"
      ]
    },
    {
      "cell_type": "markdown",
      "id": "yMbyr9V4ati1",
      "metadata": {
        "id": "yMbyr9V4ati1"
      },
      "source": [
        "### Check the same for the Validation set also "
      ]
    },
    {
      "cell_type": "code",
      "execution_count": 541,
      "id": "55b9fb54",
      "metadata": {
        "colab": {
          "base_uri": "https://localhost:8080/"
        },
        "id": "55b9fb54",
        "outputId": "aaba8f17-7596-4196-96ef-b7a1c8ee4f99"
      },
      "outputs": [
        {
          "data": {
            "text/plain": [
              "111434560896.56667"
            ]
          },
          "execution_count": 541,
          "metadata": {},
          "output_type": "execute_result"
        }
      ],
      "source": [
        "predict_test= regressor.predict(X_val)\n",
        "mean_squared_error(y_val, predict_test)"
      ]
    },
    {
      "cell_type": "markdown",
      "id": "tiBawcCsaw_Z",
      "metadata": {
        "id": "tiBawcCsaw_Z"
      },
      "source": [
        "### Display The Comparison Lists\n"
      ]
    },
    {
      "cell_type": "code",
      "execution_count": 542,
      "id": "8277c13e",
      "metadata": {
        "colab": {
          "base_uri": "https://localhost:8080/"
        },
        "id": "8277c13e",
        "outputId": "54f07d8c-4db2-4fd1-da85-5ce0f4eb525a"
      },
      "outputs": [
        {
          "name": "stdout",
          "output_type": "stream",
          "text": [
            "['LinearRegression', 'SupportVectorRegression', 'DecisionTreeRegression', 'RandomForestRegression'],[289568966360.9288, 442888058480.77594, 245418994593.0005, 125603334640.35738],[0.341188937181901, -0.007634057558088658, 0.4416364754293647, 0.7142343413804566],"
          ]
        }
      ],
      "source": [
        "for i in Algorithm, MSE_Score, R2_Score:\n",
        "    print(i,end=',')"
      ]
    },
    {
      "cell_type": "markdown",
      "id": "e6b21881",
      "metadata": {
        "id": "e6b21881"
      },
      "source": [
        "### The last but not the least model would be XGBoost or Extreme Gradient Boost Regression\n",
        "\n",
        "- Step 1 : Call the XGBoost Regressor from xgb library\n",
        "- Step 2 : make an object of Xgboost\n",
        "- Step 3 : fit the X_train and y_train dataframe into the object \n",
        "- Step 4 : Predict the output by passing the X_test Dataset into predict function\n",
        "\n",
        "\n",
        "\n",
        "\n",
        "- Note - Append the Algorithm name into the algorithm list for tracking purpose### Extreme Gradient Boost Regression\n",
        "- Note -  No need to change the code "
      ]
    },
    {
      "cell_type": "code",
      "execution_count": 543,
      "id": "705a38ec",
      "metadata": {
        "id": "705a38ec"
      },
      "outputs": [],
      "source": [
        "import xgboost as xgb\n",
        "Algorithm.append('XGB Regressor')\n",
        "regressor = xgb.XGBRegressor()\n",
        "regressor.fit(X_train, y_train)\n",
        "predicted = regressor.predict(X_test)"
      ]
    },
    {
      "cell_type": "markdown",
      "id": "ierNZkb9bQDD",
      "metadata": {
        "id": "ierNZkb9bQDD"
      },
      "source": [
        "### Check for the \n",
        "\n",
        "- Mean Square Error\n",
        "- R Square Error \n",
        "\n",
        "for y_test and predicted dataset and store those data inside respective list for comparison "
      ]
    },
    {
      "cell_type": "code",
      "execution_count": 544,
      "id": "507a9d2f",
      "metadata": {
        "id": "507a9d2f"
      },
      "outputs": [],
      "source": [
        "MSE_Score.append(mean_squared_error(y_test, predicted))\n",
        "R2_Score.append(r2_score(y_test, predicted))"
      ]
    },
    {
      "cell_type": "markdown",
      "id": "84UZ2ojsbWaH",
      "metadata": {
        "id": "84UZ2ojsbWaH"
      },
      "source": [
        "### Check the same for the Validation set also "
      ]
    },
    {
      "cell_type": "code",
      "execution_count": 545,
      "id": "e78ac250",
      "metadata": {
        "colab": {
          "base_uri": "https://localhost:8080/"
        },
        "id": "e78ac250",
        "outputId": "71261b48-7bc5-465a-b76d-3c7aa2c2c233"
      },
      "outputs": [
        {
          "data": {
            "text/plain": [
              "110086460062.02307"
            ]
          },
          "execution_count": 545,
          "metadata": {},
          "output_type": "execute_result"
        }
      ],
      "source": [
        "predict_test= regressor.predict(X_val)\n",
        "mean_squared_error(y_val, predict_test)"
      ]
    },
    {
      "cell_type": "markdown",
      "id": "9FJFyaVbbbAH",
      "metadata": {
        "id": "9FJFyaVbbbAH"
      },
      "source": [
        "### Display The Comparison Lists\n"
      ]
    },
    {
      "cell_type": "code",
      "execution_count": 546,
      "id": "f765ba35",
      "metadata": {
        "colab": {
          "base_uri": "https://localhost:8080/"
        },
        "id": "f765ba35",
        "outputId": "432af440-e042-4173-c795-afa019ca4d32"
      },
      "outputs": [
        {
          "name": "stdout",
          "output_type": "stream",
          "text": [
            "['LinearRegression', 'SupportVectorRegression', 'DecisionTreeRegression', 'RandomForestRegression', 'XGB Regressor'],[289568966360.9288, 442888058480.77594, 245418994593.0005, 125603334640.35738, 119648706821.37245],[0.341188937181901, -0.007634057558088658, 0.4416364754293647, 0.7142343413804566, 0.7277819764444364],"
          ]
        }
      ],
      "source": [
        "for i in Algorithm, MSE_Score, R2_Score:\n",
        "    print(i,end=',')"
      ]
    },
    {
      "cell_type": "markdown",
      "id": "a71bc90f",
      "metadata": {
        "id": "a71bc90f"
      },
      "source": [
        "## You need to make the comparison list into a comparison dataframe "
      ]
    },
    {
      "cell_type": "code",
      "execution_count": 547,
      "id": "ff5159a7",
      "metadata": {
        "colab": {
          "base_uri": "https://localhost:8080/",
          "height": 206
        },
        "id": "ff5159a7",
        "outputId": "b4b199f2-1219-4aca-c7ad-a134db4704cf"
      },
      "outputs": [
        {
          "data": {
            "text/html": [
              "<div>\n",
              "<style scoped>\n",
              "    .dataframe tbody tr th:only-of-type {\n",
              "        vertical-align: middle;\n",
              "    }\n",
              "\n",
              "    .dataframe tbody tr th {\n",
              "        vertical-align: top;\n",
              "    }\n",
              "\n",
              "    .dataframe thead th {\n",
              "        text-align: right;\n",
              "    }\n",
              "</style>\n",
              "<table border=\"1\" class=\"dataframe\">\n",
              "  <thead>\n",
              "    <tr style=\"text-align: right;\">\n",
              "      <th></th>\n",
              "      <th>Model</th>\n",
              "      <th>MSE</th>\n",
              "      <th>R2</th>\n",
              "    </tr>\n",
              "  </thead>\n",
              "  <tbody>\n",
              "    <tr>\n",
              "      <th>0</th>\n",
              "      <td>LinearRegression</td>\n",
              "      <td>289568966360.928772</td>\n",
              "      <td>0.341189</td>\n",
              "    </tr>\n",
              "    <tr>\n",
              "      <th>1</th>\n",
              "      <td>SupportVectorRegression</td>\n",
              "      <td>442888058480.77594</td>\n",
              "      <td>-0.007634</td>\n",
              "    </tr>\n",
              "    <tr>\n",
              "      <th>2</th>\n",
              "      <td>DecisionTreeRegression</td>\n",
              "      <td>245418994593.000488</td>\n",
              "      <td>0.441636</td>\n",
              "    </tr>\n",
              "    <tr>\n",
              "      <th>3</th>\n",
              "      <td>RandomForestRegression</td>\n",
              "      <td>125603334640.357376</td>\n",
              "      <td>0.714234</td>\n",
              "    </tr>\n",
              "    <tr>\n",
              "      <th>4</th>\n",
              "      <td>XGB Regressor</td>\n",
              "      <td>119648706821.372452</td>\n",
              "      <td>0.727782</td>\n",
              "    </tr>\n",
              "  </tbody>\n",
              "</table>\n",
              "</div>"
            ],
            "text/plain": [
              "                     Model                  MSE        R2\n",
              "0         LinearRegression  289568966360.928772  0.341189\n",
              "1  SupportVectorRegression   442888058480.77594 -0.007634\n",
              "2   DecisionTreeRegression  245418994593.000488  0.441636\n",
              "3   RandomForestRegression  125603334640.357376  0.714234\n",
              "4            XGB Regressor  119648706821.372452  0.727782"
            ]
          },
          "execution_count": 547,
          "metadata": {},
          "output_type": "execute_result"
        }
      ],
      "source": [
        "temp_df=pd.DataFrame([Algorithm, MSE_Score, R2_Score])\n",
        "comparison_table=temp_df.T\n",
        "comparison_table.rename(columns={0: 'Model', 1: 'MSE', 2: 'R2'})"
      ]
    },
    {
      "cell_type": "markdown",
      "id": "62e61c60",
      "metadata": {
        "id": "62e61c60"
      },
      "source": [
        "## Now from the Comparison table, you need to choose the best fit model\n",
        "\n",
        "- Step 1 - Fit X_train and y_train inside the model \n",
        "- Step 2 - Predict the X_test dataset\n",
        "- Step 3 - Predict the X_val dataset\n",
        "\n",
        "\n",
        "- Note - No need to change the code"
      ]
    },
    {
      "cell_type": "code",
      "execution_count": 548,
      "id": "3e07c258",
      "metadata": {
        "id": "3e07c258"
      },
      "outputs": [],
      "source": [
        "regressorfinal = xgb.XGBRegressor()\n",
        "regressorfinal.fit(X_train, y_train)\n",
        "predictedfinal = regressorfinal.predict(X_test)\n",
        "predict_testfinal = regressorfinal.predict(X_val)"
      ]
    },
    {
      "cell_type": "markdown",
      "id": "8e4df6c4",
      "metadata": {
        "id": "8e4df6c4"
      },
      "source": [
        "### Calculate the Mean Square Error for test dataset\n",
        "\n",
        "- Note - No need to change the code"
      ]
    },
    {
      "cell_type": "code",
      "execution_count": 549,
      "id": "5fb466d0",
      "metadata": {
        "colab": {
          "base_uri": "https://localhost:8080/"
        },
        "id": "5fb466d0",
        "outputId": "8716df20-7ee7-4d72-feb5-360a24064c5c"
      },
      "outputs": [
        {
          "data": {
            "text/plain": [
              "119648706821.37245"
            ]
          },
          "execution_count": 549,
          "metadata": {},
          "output_type": "execute_result"
        }
      ],
      "source": [
        "mean_squared_error(y_test,predictedfinal)"
      ]
    },
    {
      "cell_type": "markdown",
      "id": "ce27f87f",
      "metadata": {
        "id": "ce27f87f"
      },
      "source": [
        "### Calculate the mean Square Error for validation dataset"
      ]
    },
    {
      "cell_type": "code",
      "execution_count": 550,
      "id": "b47978ea",
      "metadata": {
        "colab": {
          "base_uri": "https://localhost:8080/"
        },
        "id": "b47978ea",
        "outputId": "b311129e-5294-415f-900a-cc10b9b0abf8"
      },
      "outputs": [
        {
          "data": {
            "text/plain": [
              "771156714895.1577"
            ]
          },
          "execution_count": 550,
          "metadata": {},
          "output_type": "execute_result"
        }
      ],
      "source": [
        "mean_squared_error(y_val,predictedfinal)"
      ]
    },
    {
      "cell_type": "markdown",
      "id": "30014dbd",
      "metadata": {
        "id": "30014dbd"
      },
      "source": [
        "### Calculate the R2 score for test"
      ]
    },
    {
      "cell_type": "code",
      "execution_count": 551,
      "id": "8a162737",
      "metadata": {
        "colab": {
          "base_uri": "https://localhost:8080/"
        },
        "id": "8a162737",
        "outputId": "935dde7b-53d4-489d-d450-227fdff85c12"
      },
      "outputs": [
        {
          "data": {
            "text/plain": [
              "0.7277819764444364"
            ]
          },
          "execution_count": 551,
          "metadata": {},
          "output_type": "execute_result"
        }
      ],
      "source": [
        "r2_score(y_test, predictedfinal)"
      ]
    },
    {
      "cell_type": "markdown",
      "id": "1c9853b0",
      "metadata": {
        "id": "1c9853b0"
      },
      "source": [
        "### Calculate the R2 score for Validation"
      ]
    },
    {
      "cell_type": "code",
      "execution_count": 552,
      "id": "1a6dc77c",
      "metadata": {
        "colab": {
          "base_uri": "https://localhost:8080/"
        },
        "id": "1a6dc77c",
        "outputId": "323657c8-6db8-4196-9dfd-d24f1a97f44a"
      },
      "outputs": [
        {
          "data": {
            "text/plain": [
              "0.742726151919186"
            ]
          },
          "execution_count": 552,
          "metadata": {},
          "output_type": "execute_result"
        }
      ],
      "source": [
        "r2_score(y_val, predict_testfinal)"
      ]
    },
    {
      "cell_type": "markdown",
      "id": "499522d9",
      "metadata": {
        "id": "499522d9"
      },
      "source": [
        "### Calculate the Accuracy for train Dataset "
      ]
    },
    {
      "cell_type": "code",
      "execution_count": 553,
      "id": "7a4f1ce8",
      "metadata": {
        "colab": {
          "base_uri": "https://localhost:8080/"
        },
        "id": "7a4f1ce8",
        "outputId": "ce34b59d-56ee-4817-b623-8a80a389f855"
      },
      "outputs": [
        {
          "data": {
            "text/plain": [
              "0.9539744373401385"
            ]
          },
          "execution_count": 553,
          "metadata": {},
          "output_type": "execute_result"
        }
      ],
      "source": [
        "\n",
        "\n",
        "regressorfinal.score(X_train,y_train)"
      ]
    },
    {
      "cell_type": "markdown",
      "id": "12a1c921",
      "metadata": {
        "id": "12a1c921"
      },
      "source": [
        "### Calculate the accuracy for validation"
      ]
    },
    {
      "cell_type": "code",
      "execution_count": 554,
      "id": "d2579b4f",
      "metadata": {
        "colab": {
          "base_uri": "https://localhost:8080/"
        },
        "id": "d2579b4f",
        "outputId": "1266a483-2b35-4d72-eb2f-e38c971398f1"
      },
      "outputs": [
        {
          "data": {
            "text/plain": [
              "0.742726151919186"
            ]
          },
          "execution_count": 554,
          "metadata": {},
          "output_type": "execute_result"
        }
      ],
      "source": [
        "regressorfinal.score(X_val,y_val)"
      ]
    },
    {
      "cell_type": "markdown",
      "id": "79b82e84",
      "metadata": {
        "id": "79b82e84"
      },
      "source": [
        "### Calculate the accuracy for test"
      ]
    },
    {
      "cell_type": "code",
      "execution_count": 555,
      "id": "f09e6431",
      "metadata": {
        "colab": {
          "base_uri": "https://localhost:8080/"
        },
        "id": "f09e6431",
        "outputId": "b017ceb9-fa60-44c1-97df-4b19d948a6db"
      },
      "outputs": [
        {
          "data": {
            "text/plain": [
              "0.7277819764444364"
            ]
          },
          "execution_count": 555,
          "metadata": {},
          "output_type": "execute_result"
        }
      ],
      "source": [
        "regressorfinal.score(X_test,y_test)"
      ]
    },
    {
      "cell_type": "markdown",
      "id": "9488a5d9",
      "metadata": {
        "id": "9488a5d9"
      },
      "source": [
        "## Specify the reason behind choosing your machine learning model \n",
        "\n",
        "- As the MSE XGB Regressor is coming the least and R2 is coming the most, therefore we shall chose XGB Regressor as our model."
      ]
    },
    {
      "cell_type": "markdown",
      "id": "387a6519",
      "metadata": {
        "id": "387a6519"
      },
      "source": [
        "## Now you need to pass the Nulldata dataframe into this machine learning model\n",
        "\n",
        "#### In order to pass this Nulldata dataframe into the ML model, we need to perform the following\n",
        "\n",
        "- Step 1 : Label Encoding \n",
        "- Step 2 : Day, Month and Year extraction \n",
        "- Step 3 : Change all the column data type into int64 or float64\n",
        "- Step 4 : Need to drop the useless columns "
      ]
    },
    {
      "cell_type": "markdown",
      "id": "I7JuxAkdiAdI",
      "metadata": {
        "id": "I7JuxAkdiAdI"
      },
      "source": [
        "### Display the Nulldata "
      ]
    },
    {
      "cell_type": "code",
      "execution_count": 556,
      "id": "6d6a51d2",
      "metadata": {
        "colab": {
          "base_uri": "https://localhost:8080/",
          "height": 522
        },
        "id": "6d6a51d2",
        "outputId": "a07b81b7-0c66-4997-d881-99a943afb781"
      },
      "outputs": [
        {
          "data": {
            "text/html": [
              "<div>\n",
              "<style scoped>\n",
              "    .dataframe tbody tr th:only-of-type {\n",
              "        vertical-align: middle;\n",
              "    }\n",
              "\n",
              "    .dataframe tbody tr th {\n",
              "        vertical-align: top;\n",
              "    }\n",
              "\n",
              "    .dataframe thead th {\n",
              "        text-align: right;\n",
              "    }\n",
              "</style>\n",
              "<table border=\"1\" class=\"dataframe\">\n",
              "  <thead>\n",
              "    <tr style=\"text-align: right;\">\n",
              "      <th></th>\n",
              "      <th>business_code</th>\n",
              "      <th>cust_number</th>\n",
              "      <th>name_customer</th>\n",
              "      <th>clear_date</th>\n",
              "      <th>buisness_year</th>\n",
              "      <th>doc_id</th>\n",
              "      <th>posting_date</th>\n",
              "      <th>due_in_date</th>\n",
              "      <th>baseline_create_date</th>\n",
              "      <th>cust_payment_terms</th>\n",
              "      <th>converted_usd</th>\n",
              "    </tr>\n",
              "  </thead>\n",
              "  <tbody>\n",
              "    <tr>\n",
              "      <th>3</th>\n",
              "      <td>CA02</td>\n",
              "      <td>140105686</td>\n",
              "      <td>SYSC llc</td>\n",
              "      <td>NaT</td>\n",
              "      <td>2020</td>\n",
              "      <td>2960623488</td>\n",
              "      <td>2020-03-31</td>\n",
              "      <td>2020-04-10</td>\n",
              "      <td>2020-03-31</td>\n",
              "      <td>CA10</td>\n",
              "      <td>2309.790</td>\n",
              "    </tr>\n",
              "    <tr>\n",
              "      <th>7</th>\n",
              "      <td>U001</td>\n",
              "      <td>200744019</td>\n",
              "      <td>TARG us</td>\n",
              "      <td>NaT</td>\n",
              "      <td>2020</td>\n",
              "      <td>1930659387</td>\n",
              "      <td>2020-03-19</td>\n",
              "      <td>2020-04-03</td>\n",
              "      <td>2020-03-19</td>\n",
              "      <td>NAA8</td>\n",
              "      <td>11173.020</td>\n",
              "    </tr>\n",
              "    <tr>\n",
              "      <th>10</th>\n",
              "      <td>U001</td>\n",
              "      <td>200418007</td>\n",
              "      <td>AM</td>\n",
              "      <td>NaT</td>\n",
              "      <td>2020</td>\n",
              "      <td>1930610806</td>\n",
              "      <td>2020-03-11</td>\n",
              "      <td>2020-03-26</td>\n",
              "      <td>2020-03-11</td>\n",
              "      <td>NAA8</td>\n",
              "      <td>3525.590</td>\n",
              "    </tr>\n",
              "    <tr>\n",
              "      <th>14</th>\n",
              "      <td>U001</td>\n",
              "      <td>200739534</td>\n",
              "      <td>OK systems</td>\n",
              "      <td>NaT</td>\n",
              "      <td>2020</td>\n",
              "      <td>1930788296</td>\n",
              "      <td>2020-04-15</td>\n",
              "      <td>2020-04-30</td>\n",
              "      <td>2020-04-15</td>\n",
              "      <td>NAA8</td>\n",
              "      <td>121105.650</td>\n",
              "    </tr>\n",
              "    <tr>\n",
              "      <th>15</th>\n",
              "      <td>U001</td>\n",
              "      <td>200353024</td>\n",
              "      <td>DECA corporation</td>\n",
              "      <td>NaT</td>\n",
              "      <td>2020</td>\n",
              "      <td>1930817482</td>\n",
              "      <td>2020-04-16</td>\n",
              "      <td>2020-04-26</td>\n",
              "      <td>2020-04-16</td>\n",
              "      <td>NAM2</td>\n",
              "      <td>3726.060</td>\n",
              "    </tr>\n",
              "    <tr>\n",
              "      <th>...</th>\n",
              "      <td>...</td>\n",
              "      <td>...</td>\n",
              "      <td>...</td>\n",
              "      <td>...</td>\n",
              "      <td>...</td>\n",
              "      <td>...</td>\n",
              "      <td>...</td>\n",
              "      <td>...</td>\n",
              "      <td>...</td>\n",
              "      <td>...</td>\n",
              "      <td>...</td>\n",
              "    </tr>\n",
              "    <tr>\n",
              "      <th>50094</th>\n",
              "      <td>CA02</td>\n",
              "      <td>140106408</td>\n",
              "      <td>WAL-M corp</td>\n",
              "      <td>NaT</td>\n",
              "      <td>2020</td>\n",
              "      <td>2960618884</td>\n",
              "      <td>2020-03-06</td>\n",
              "      <td>2020-03-16</td>\n",
              "      <td>2020-03-06</td>\n",
              "      <td>CA10</td>\n",
              "      <td>64982.589</td>\n",
              "    </tr>\n",
              "    <tr>\n",
              "      <th>50095</th>\n",
              "      <td>CA02</td>\n",
              "      <td>140106408</td>\n",
              "      <td>WAL-M corp</td>\n",
              "      <td>NaT</td>\n",
              "      <td>2020</td>\n",
              "      <td>2960618885</td>\n",
              "      <td>2020-03-06</td>\n",
              "      <td>2020-03-16</td>\n",
              "      <td>2020-03-06</td>\n",
              "      <td>CA10</td>\n",
              "      <td>64982.589</td>\n",
              "    </tr>\n",
              "    <tr>\n",
              "      <th>50096</th>\n",
              "      <td>CA02</td>\n",
              "      <td>140106408</td>\n",
              "      <td>WAL-M corp</td>\n",
              "      <td>NaT</td>\n",
              "      <td>2020</td>\n",
              "      <td>2960618886</td>\n",
              "      <td>2020-03-06</td>\n",
              "      <td>2020-03-16</td>\n",
              "      <td>2020-03-06</td>\n",
              "      <td>CA10</td>\n",
              "      <td>64982.589</td>\n",
              "    </tr>\n",
              "    <tr>\n",
              "      <th>50097</th>\n",
              "      <td>CA02</td>\n",
              "      <td>140106408</td>\n",
              "      <td>WAL-M corp</td>\n",
              "      <td>NaT</td>\n",
              "      <td>2020</td>\n",
              "      <td>2960618887</td>\n",
              "      <td>2020-03-06</td>\n",
              "      <td>2020-03-16</td>\n",
              "      <td>2020-03-06</td>\n",
              "      <td>CA10</td>\n",
              "      <td>64982.589</td>\n",
              "    </tr>\n",
              "    <tr>\n",
              "      <th>50098</th>\n",
              "      <td>CA02</td>\n",
              "      <td>140106408</td>\n",
              "      <td>WAL-M corp</td>\n",
              "      <td>NaT</td>\n",
              "      <td>2020</td>\n",
              "      <td>2960618888</td>\n",
              "      <td>2020-03-06</td>\n",
              "      <td>2020-03-16</td>\n",
              "      <td>2020-03-06</td>\n",
              "      <td>CA10</td>\n",
              "      <td>64982.589</td>\n",
              "    </tr>\n",
              "  </tbody>\n",
              "</table>\n",
              "<p>9779 rows × 11 columns</p>\n",
              "</div>"
            ],
            "text/plain": [
              "      business_code cust_number     name_customer clear_date  buisness_year  \\\n",
              "3              CA02   140105686          SYSC llc        NaT           2020   \n",
              "7              U001   200744019           TARG us        NaT           2020   \n",
              "10             U001   200418007               AM         NaT           2020   \n",
              "14             U001   200739534        OK systems        NaT           2020   \n",
              "15             U001   200353024  DECA corporation        NaT           2020   \n",
              "...             ...         ...               ...        ...            ...   \n",
              "50094          CA02   140106408        WAL-M corp        NaT           2020   \n",
              "50095          CA02   140106408        WAL-M corp        NaT           2020   \n",
              "50096          CA02   140106408        WAL-M corp        NaT           2020   \n",
              "50097          CA02   140106408        WAL-M corp        NaT           2020   \n",
              "50098          CA02   140106408        WAL-M corp        NaT           2020   \n",
              "\n",
              "           doc_id posting_date due_in_date baseline_create_date  \\\n",
              "3      2960623488   2020-03-31  2020-04-10           2020-03-31   \n",
              "7      1930659387   2020-03-19  2020-04-03           2020-03-19   \n",
              "10     1930610806   2020-03-11  2020-03-26           2020-03-11   \n",
              "14     1930788296   2020-04-15  2020-04-30           2020-04-15   \n",
              "15     1930817482   2020-04-16  2020-04-26           2020-04-16   \n",
              "...           ...          ...         ...                  ...   \n",
              "50094  2960618884   2020-03-06  2020-03-16           2020-03-06   \n",
              "50095  2960618885   2020-03-06  2020-03-16           2020-03-06   \n",
              "50096  2960618886   2020-03-06  2020-03-16           2020-03-06   \n",
              "50097  2960618887   2020-03-06  2020-03-16           2020-03-06   \n",
              "50098  2960618888   2020-03-06  2020-03-16           2020-03-06   \n",
              "\n",
              "      cust_payment_terms  converted_usd  \n",
              "3                   CA10       2309.790  \n",
              "7                   NAA8      11173.020  \n",
              "10                  NAA8       3525.590  \n",
              "14                  NAA8     121105.650  \n",
              "15                  NAM2       3726.060  \n",
              "...                  ...            ...  \n",
              "50094               CA10      64982.589  \n",
              "50095               CA10      64982.589  \n",
              "50096               CA10      64982.589  \n",
              "50097               CA10      64982.589  \n",
              "50098               CA10      64982.589  \n",
              "\n",
              "[9779 rows x 11 columns]"
            ]
          },
          "execution_count": 556,
          "metadata": {},
          "output_type": "execute_result"
        }
      ],
      "source": [
        "nulldata"
      ]
    },
    {
      "cell_type": "markdown",
      "id": "Vamx5xqtiHCH",
      "metadata": {
        "id": "Vamx5xqtiHCH"
      },
      "source": [
        "### Check for the number of rows and columns in the nulldata"
      ]
    },
    {
      "cell_type": "code",
      "execution_count": 557,
      "id": "59de1092",
      "metadata": {
        "colab": {
          "base_uri": "https://localhost:8080/"
        },
        "id": "59de1092",
        "outputId": "11a6091a-2de3-438f-fbde-5dd0046b852a"
      },
      "outputs": [
        {
          "data": {
            "text/plain": [
              "(9779, 11)"
            ]
          },
          "execution_count": 557,
          "metadata": {},
          "output_type": "execute_result"
        }
      ],
      "source": [
        "nulldata.shape"
      ]
    },
    {
      "cell_type": "markdown",
      "id": "BxzHNbBjpqXL",
      "metadata": {
        "id": "BxzHNbBjpqXL"
      },
      "source": [
        "### Check the Description and Information of the nulldata "
      ]
    },
    {
      "cell_type": "code",
      "execution_count": 558,
      "id": "a6294d29",
      "metadata": {
        "colab": {
          "base_uri": "https://localhost:8080/",
          "height": 300
        },
        "id": "a6294d29",
        "outputId": "ff751309-3a86-488c-c8fd-0cfc1a127eb3"
      },
      "outputs": [
        {
          "data": {
            "text/html": [
              "<div>\n",
              "<style scoped>\n",
              "    .dataframe tbody tr th:only-of-type {\n",
              "        vertical-align: middle;\n",
              "    }\n",
              "\n",
              "    .dataframe tbody tr th {\n",
              "        vertical-align: top;\n",
              "    }\n",
              "\n",
              "    .dataframe thead th {\n",
              "        text-align: right;\n",
              "    }\n",
              "</style>\n",
              "<table border=\"1\" class=\"dataframe\">\n",
              "  <thead>\n",
              "    <tr style=\"text-align: right;\">\n",
              "      <th></th>\n",
              "      <th>buisness_year</th>\n",
              "      <th>doc_id</th>\n",
              "      <th>converted_usd</th>\n",
              "    </tr>\n",
              "  </thead>\n",
              "  <tbody>\n",
              "    <tr>\n",
              "      <th>count</th>\n",
              "      <td>9779.0</td>\n",
              "      <td>9.779000e+03</td>\n",
              "      <td>9779.000000</td>\n",
              "    </tr>\n",
              "    <tr>\n",
              "      <th>mean</th>\n",
              "      <td>2020.0</td>\n",
              "      <td>2.015730e+09</td>\n",
              "      <td>32395.557081</td>\n",
              "    </tr>\n",
              "    <tr>\n",
              "      <th>std</th>\n",
              "      <td>0.0</td>\n",
              "      <td>2.824983e+08</td>\n",
              "      <td>35393.870859</td>\n",
              "    </tr>\n",
              "    <tr>\n",
              "      <th>min</th>\n",
              "      <td>2020.0</td>\n",
              "      <td>1.930535e+09</td>\n",
              "      <td>0.720000</td>\n",
              "    </tr>\n",
              "    <tr>\n",
              "      <th>25%</th>\n",
              "      <td>2020.0</td>\n",
              "      <td>1.930660e+09</td>\n",
              "      <td>5731.950000</td>\n",
              "    </tr>\n",
              "    <tr>\n",
              "      <th>50%</th>\n",
              "      <td>2020.0</td>\n",
              "      <td>1.930732e+09</td>\n",
              "      <td>19403.930000</td>\n",
              "    </tr>\n",
              "    <tr>\n",
              "      <th>75%</th>\n",
              "      <td>2020.0</td>\n",
              "      <td>1.930821e+09</td>\n",
              "      <td>48806.640000</td>\n",
              "    </tr>\n",
              "    <tr>\n",
              "      <th>max</th>\n",
              "      <td>2020.0</td>\n",
              "      <td>2.960636e+09</td>\n",
              "      <td>653644.800000</td>\n",
              "    </tr>\n",
              "  </tbody>\n",
              "</table>\n",
              "</div>"
            ],
            "text/plain": [
              "       buisness_year        doc_id  converted_usd\n",
              "count         9779.0  9.779000e+03    9779.000000\n",
              "mean          2020.0  2.015730e+09   32395.557081\n",
              "std              0.0  2.824983e+08   35393.870859\n",
              "min           2020.0  1.930535e+09       0.720000\n",
              "25%           2020.0  1.930660e+09    5731.950000\n",
              "50%           2020.0  1.930732e+09   19403.930000\n",
              "75%           2020.0  1.930821e+09   48806.640000\n",
              "max           2020.0  2.960636e+09  653644.800000"
            ]
          },
          "execution_count": 558,
          "metadata": {},
          "output_type": "execute_result"
        }
      ],
      "source": [
        "nulldata.describe()"
      ]
    },
    {
      "cell_type": "markdown",
      "id": "fe860d94",
      "metadata": {
        "id": "fe860d94"
      },
      "source": [
        "### Storing the Nulldata into a different dataset \n",
        "# for BACKUP"
      ]
    },
    {
      "cell_type": "code",
      "execution_count": 559,
      "id": "16352034",
      "metadata": {
        "colab": {
          "base_uri": "https://localhost:8080/",
          "height": 522
        },
        "id": "16352034",
        "outputId": "d5581758-eb8b-431a-e44e-329b717674c0"
      },
      "outputs": [
        {
          "data": {
            "text/html": [
              "<div>\n",
              "<style scoped>\n",
              "    .dataframe tbody tr th:only-of-type {\n",
              "        vertical-align: middle;\n",
              "    }\n",
              "\n",
              "    .dataframe tbody tr th {\n",
              "        vertical-align: top;\n",
              "    }\n",
              "\n",
              "    .dataframe thead th {\n",
              "        text-align: right;\n",
              "    }\n",
              "</style>\n",
              "<table border=\"1\" class=\"dataframe\">\n",
              "  <thead>\n",
              "    <tr style=\"text-align: right;\">\n",
              "      <th></th>\n",
              "      <th>business_code</th>\n",
              "      <th>cust_number</th>\n",
              "      <th>name_customer</th>\n",
              "      <th>clear_date</th>\n",
              "      <th>buisness_year</th>\n",
              "      <th>doc_id</th>\n",
              "      <th>posting_date</th>\n",
              "      <th>due_in_date</th>\n",
              "      <th>baseline_create_date</th>\n",
              "      <th>cust_payment_terms</th>\n",
              "      <th>converted_usd</th>\n",
              "    </tr>\n",
              "  </thead>\n",
              "  <tbody>\n",
              "    <tr>\n",
              "      <th>3</th>\n",
              "      <td>CA02</td>\n",
              "      <td>140105686</td>\n",
              "      <td>SYSC llc</td>\n",
              "      <td>NaT</td>\n",
              "      <td>2020</td>\n",
              "      <td>2960623488</td>\n",
              "      <td>2020-03-31</td>\n",
              "      <td>2020-04-10</td>\n",
              "      <td>2020-03-31</td>\n",
              "      <td>CA10</td>\n",
              "      <td>2309.790</td>\n",
              "    </tr>\n",
              "    <tr>\n",
              "      <th>7</th>\n",
              "      <td>U001</td>\n",
              "      <td>200744019</td>\n",
              "      <td>TARG us</td>\n",
              "      <td>NaT</td>\n",
              "      <td>2020</td>\n",
              "      <td>1930659387</td>\n",
              "      <td>2020-03-19</td>\n",
              "      <td>2020-04-03</td>\n",
              "      <td>2020-03-19</td>\n",
              "      <td>NAA8</td>\n",
              "      <td>11173.020</td>\n",
              "    </tr>\n",
              "    <tr>\n",
              "      <th>10</th>\n",
              "      <td>U001</td>\n",
              "      <td>200418007</td>\n",
              "      <td>AM</td>\n",
              "      <td>NaT</td>\n",
              "      <td>2020</td>\n",
              "      <td>1930610806</td>\n",
              "      <td>2020-03-11</td>\n",
              "      <td>2020-03-26</td>\n",
              "      <td>2020-03-11</td>\n",
              "      <td>NAA8</td>\n",
              "      <td>3525.590</td>\n",
              "    </tr>\n",
              "    <tr>\n",
              "      <th>14</th>\n",
              "      <td>U001</td>\n",
              "      <td>200739534</td>\n",
              "      <td>OK systems</td>\n",
              "      <td>NaT</td>\n",
              "      <td>2020</td>\n",
              "      <td>1930788296</td>\n",
              "      <td>2020-04-15</td>\n",
              "      <td>2020-04-30</td>\n",
              "      <td>2020-04-15</td>\n",
              "      <td>NAA8</td>\n",
              "      <td>121105.650</td>\n",
              "    </tr>\n",
              "    <tr>\n",
              "      <th>15</th>\n",
              "      <td>U001</td>\n",
              "      <td>200353024</td>\n",
              "      <td>DECA corporation</td>\n",
              "      <td>NaT</td>\n",
              "      <td>2020</td>\n",
              "      <td>1930817482</td>\n",
              "      <td>2020-04-16</td>\n",
              "      <td>2020-04-26</td>\n",
              "      <td>2020-04-16</td>\n",
              "      <td>NAM2</td>\n",
              "      <td>3726.060</td>\n",
              "    </tr>\n",
              "    <tr>\n",
              "      <th>...</th>\n",
              "      <td>...</td>\n",
              "      <td>...</td>\n",
              "      <td>...</td>\n",
              "      <td>...</td>\n",
              "      <td>...</td>\n",
              "      <td>...</td>\n",
              "      <td>...</td>\n",
              "      <td>...</td>\n",
              "      <td>...</td>\n",
              "      <td>...</td>\n",
              "      <td>...</td>\n",
              "    </tr>\n",
              "    <tr>\n",
              "      <th>50094</th>\n",
              "      <td>CA02</td>\n",
              "      <td>140106408</td>\n",
              "      <td>WAL-M corp</td>\n",
              "      <td>NaT</td>\n",
              "      <td>2020</td>\n",
              "      <td>2960618884</td>\n",
              "      <td>2020-03-06</td>\n",
              "      <td>2020-03-16</td>\n",
              "      <td>2020-03-06</td>\n",
              "      <td>CA10</td>\n",
              "      <td>64982.589</td>\n",
              "    </tr>\n",
              "    <tr>\n",
              "      <th>50095</th>\n",
              "      <td>CA02</td>\n",
              "      <td>140106408</td>\n",
              "      <td>WAL-M corp</td>\n",
              "      <td>NaT</td>\n",
              "      <td>2020</td>\n",
              "      <td>2960618885</td>\n",
              "      <td>2020-03-06</td>\n",
              "      <td>2020-03-16</td>\n",
              "      <td>2020-03-06</td>\n",
              "      <td>CA10</td>\n",
              "      <td>64982.589</td>\n",
              "    </tr>\n",
              "    <tr>\n",
              "      <th>50096</th>\n",
              "      <td>CA02</td>\n",
              "      <td>140106408</td>\n",
              "      <td>WAL-M corp</td>\n",
              "      <td>NaT</td>\n",
              "      <td>2020</td>\n",
              "      <td>2960618886</td>\n",
              "      <td>2020-03-06</td>\n",
              "      <td>2020-03-16</td>\n",
              "      <td>2020-03-06</td>\n",
              "      <td>CA10</td>\n",
              "      <td>64982.589</td>\n",
              "    </tr>\n",
              "    <tr>\n",
              "      <th>50097</th>\n",
              "      <td>CA02</td>\n",
              "      <td>140106408</td>\n",
              "      <td>WAL-M corp</td>\n",
              "      <td>NaT</td>\n",
              "      <td>2020</td>\n",
              "      <td>2960618887</td>\n",
              "      <td>2020-03-06</td>\n",
              "      <td>2020-03-16</td>\n",
              "      <td>2020-03-06</td>\n",
              "      <td>CA10</td>\n",
              "      <td>64982.589</td>\n",
              "    </tr>\n",
              "    <tr>\n",
              "      <th>50098</th>\n",
              "      <td>CA02</td>\n",
              "      <td>140106408</td>\n",
              "      <td>WAL-M corp</td>\n",
              "      <td>NaT</td>\n",
              "      <td>2020</td>\n",
              "      <td>2960618888</td>\n",
              "      <td>2020-03-06</td>\n",
              "      <td>2020-03-16</td>\n",
              "      <td>2020-03-06</td>\n",
              "      <td>CA10</td>\n",
              "      <td>64982.589</td>\n",
              "    </tr>\n",
              "  </tbody>\n",
              "</table>\n",
              "<p>9779 rows × 11 columns</p>\n",
              "</div>"
            ],
            "text/plain": [
              "      business_code cust_number     name_customer clear_date  buisness_year  \\\n",
              "3              CA02   140105686          SYSC llc        NaT           2020   \n",
              "7              U001   200744019           TARG us        NaT           2020   \n",
              "10             U001   200418007               AM         NaT           2020   \n",
              "14             U001   200739534        OK systems        NaT           2020   \n",
              "15             U001   200353024  DECA corporation        NaT           2020   \n",
              "...             ...         ...               ...        ...            ...   \n",
              "50094          CA02   140106408        WAL-M corp        NaT           2020   \n",
              "50095          CA02   140106408        WAL-M corp        NaT           2020   \n",
              "50096          CA02   140106408        WAL-M corp        NaT           2020   \n",
              "50097          CA02   140106408        WAL-M corp        NaT           2020   \n",
              "50098          CA02   140106408        WAL-M corp        NaT           2020   \n",
              "\n",
              "           doc_id posting_date due_in_date baseline_create_date  \\\n",
              "3      2960623488   2020-03-31  2020-04-10           2020-03-31   \n",
              "7      1930659387   2020-03-19  2020-04-03           2020-03-19   \n",
              "10     1930610806   2020-03-11  2020-03-26           2020-03-11   \n",
              "14     1930788296   2020-04-15  2020-04-30           2020-04-15   \n",
              "15     1930817482   2020-04-16  2020-04-26           2020-04-16   \n",
              "...           ...          ...         ...                  ...   \n",
              "50094  2960618884   2020-03-06  2020-03-16           2020-03-06   \n",
              "50095  2960618885   2020-03-06  2020-03-16           2020-03-06   \n",
              "50096  2960618886   2020-03-06  2020-03-16           2020-03-06   \n",
              "50097  2960618887   2020-03-06  2020-03-16           2020-03-06   \n",
              "50098  2960618888   2020-03-06  2020-03-16           2020-03-06   \n",
              "\n",
              "      cust_payment_terms  converted_usd  \n",
              "3                   CA10       2309.790  \n",
              "7                   NAA8      11173.020  \n",
              "10                  NAA8       3525.590  \n",
              "14                  NAA8     121105.650  \n",
              "15                  NAM2       3726.060  \n",
              "...                  ...            ...  \n",
              "50094               CA10      64982.589  \n",
              "50095               CA10      64982.589  \n",
              "50096               CA10      64982.589  \n",
              "50097               CA10      64982.589  \n",
              "50098               CA10      64982.589  \n",
              "\n",
              "[9779 rows x 11 columns]"
            ]
          },
          "execution_count": 559,
          "metadata": {},
          "output_type": "execute_result"
        }
      ],
      "source": [
        "nulldata_backup = nulldata.copy()\n",
        "nulldata_backup"
      ]
    },
    {
      "cell_type": "markdown",
      "id": "00f35b8c",
      "metadata": {
        "id": "00f35b8c"
      },
      "source": [
        "### Call the Label Encoder for Nulldata\n",
        "\n",
        "- Note - you are expected to fit \"business_code\" as it is a categorical variable\n",
        "- Note - No need to change the code"
      ]
    },
    {
      "cell_type": "code",
      "execution_count": 560,
      "id": "baf04b17",
      "metadata": {
        "id": "baf04b17"
      },
      "outputs": [],
      "source": [
        "from sklearn.preprocessing import LabelEncoder\n",
        "business_codern = LabelEncoder()\n",
        "business_codern.fit(nulldata['business_code'])\n",
        "nulldata['business_code_enc'] = business_codern.transform(nulldata['business_code'])"
      ]
    },
    {
      "cell_type": "markdown",
      "id": "ZCPBK9karIR-",
      "metadata": {
        "id": "ZCPBK9karIR-"
      },
      "source": [
        "### Now you need to manually replacing str values with numbers\n",
        "- Note - No need to change the code"
      ]
    },
    {
      "cell_type": "code",
      "execution_count": 561,
      "id": "c64924be",
      "metadata": {
        "id": "c64924be"
      },
      "outputs": [],
      "source": [
        "nulldata['cust_number'] = nulldata['cust_number'].str.replace('CCCA',\"1\").str.replace('CCU',\"2\").str.replace('CC',\"3\").astype(int)"
      ]
    },
    {
      "cell_type": "markdown",
      "id": "9a55f5f6",
      "metadata": {
        "id": "9a55f5f6"
      },
      "source": [
        "## You need to extract day, month and year from the \"clear_date\", \"posting_date\", \"due_in_date\", \"baseline_create_date\" columns\n",
        "\n",
        "\n",
        "##### 1.   Extract day from \"clear_date\" column and store it into 'day_of_cleardate'\n",
        "##### 2.   Extract month from \"clear_date\" column and store it into 'month_of_cleardate'\n",
        "##### 3.   Extract year from \"clear_date\" column and store it into 'year_of_cleardate'\n",
        "\n",
        "\n",
        "\n",
        "##### 4.   Extract day from \"posting_date\" column and store it into 'day_of_postingdate'\n",
        "##### 5.   Extract month from \"posting_date\" column and store it into 'month_of_postingdate'\n",
        "##### 6.   Extract year from \"posting_date\" column and store it into 'year_of_postingdate'\n",
        "\n",
        "\n",
        "\n",
        "\n",
        "##### 7.   Extract day from \"due_in_date\" column and store it into 'day_of_due'\n",
        "##### 8.   Extract month from \"due_in_date\" column and store it into 'month_of_due'\n",
        "##### 9.   Extract year from \"due_in_date\" column and store it into 'year_of_due'\n",
        "\n",
        "\n",
        "\n",
        "\n",
        "##### 10.   Extract day from \"baseline_create_date\" column and store it into 'day_of_createdate'\n",
        "##### 11.   Extract month from \"baseline_create_date\" column and store it into 'month_of_createdate'\n",
        "##### 12.   Extract year from \"baseline_create_date\" column and store it into 'year_of_createdate'\n",
        "\n",
        "\n",
        "\n",
        "\n",
        "- Note - You are supposed To use - \n",
        "\n",
        "*   dt.day\n",
        "*   dt.month\n",
        "*   dt.year"
      ]
    },
    {
      "cell_type": "code",
      "execution_count": 562,
      "id": "4166fbe4",
      "metadata": {
        "id": "4166fbe4"
      },
      "outputs": [],
      "source": [
        "nulldata['day_of_cleardate'] = nulldata['clear_date'].dt.day\n",
        "nulldata['month_of_cleardate'] = nulldata['clear_date'].dt.month\n",
        "nulldata['year_of_cleardate'] = nulldata['clear_date'].dt.year\n",
        "\n",
        "nulldata['day_of_postingdate'] = nulldata['posting_date'].dt.day\n",
        "nulldata['month_of_postingdate'] = nulldata['posting_date'].dt.month\n",
        "nulldata['year_of_postingdate'] = nulldata['posting_date'].dt.year\n",
        "\n",
        "nulldata['day_of_due'] = nulldata['due_in_date'].dt.day\n",
        "nulldata['month_of_due'] = nulldata['due_in_date'].dt.month\n",
        "nulldata['year_of_due'] = nulldata['due_in_date'].dt.year\n",
        "\n",
        "nulldata['day_of_createdate'] = nulldata['baseline_create_date'].dt.day\n",
        "nulldata['month_of_createdate'] = nulldata['baseline_create_date'].dt.month\n",
        "nulldata['year_of_createdate'] = nulldata['baseline_create_date'].dt.year"
      ]
    },
    {
      "cell_type": "markdown",
      "id": "QeHWJYrAvOC6",
      "metadata": {
        "id": "QeHWJYrAvOC6"
      },
      "source": [
        "### Use Label Encoder1 of all the following columns - \n",
        "- 'cust_payment_terms' and store into 'cust_payment_terms_enc'\n",
        "- 'business_code' and store into 'business_code_enc'\n",
        "- 'name_customer' and store into 'name_customer_enc'\n",
        "\n",
        "Note - No need to change the code"
      ]
    },
    {
      "cell_type": "code",
      "execution_count": 563,
      "id": "bac330e2",
      "metadata": {
        "id": "bac330e2"
      },
      "outputs": [],
      "source": [
        "nulldata['cust_payment_terms_enc']=label_encoder1.transform(nulldata['cust_payment_terms'])\n",
        "nulldata['business_code_enc']=label_encoder1.transform(nulldata['business_code'])\n",
        "nulldata['name_customer_enc']=label_encoder.transform(nulldata['name_customer'])\n"
      ]
    },
    {
      "cell_type": "markdown",
      "id": "zD9I-XqQwC28",
      "metadata": {
        "id": "zD9I-XqQwC28"
      },
      "source": [
        "### Check for the datatypes of all the columns of Nulldata"
      ]
    },
    {
      "cell_type": "code",
      "execution_count": 564,
      "id": "d4f72517",
      "metadata": {
        "colab": {
          "base_uri": "https://localhost:8080/"
        },
        "id": "d4f72517",
        "outputId": "f965fba7-3051-4678-b7a8-b28d6103c6b8"
      },
      "outputs": [
        {
          "data": {
            "text/plain": [
              "business_code                     object\n",
              "cust_number                        int32\n",
              "name_customer                     object\n",
              "clear_date                datetime64[ns]\n",
              "buisness_year                      int64\n",
              "doc_id                             int64\n",
              "posting_date              datetime64[ns]\n",
              "due_in_date               datetime64[ns]\n",
              "baseline_create_date      datetime64[ns]\n",
              "cust_payment_terms                object\n",
              "converted_usd                    float64\n",
              "business_code_enc                  int32\n",
              "day_of_cleardate                 float64\n",
              "month_of_cleardate               float64\n",
              "year_of_cleardate                float64\n",
              "day_of_postingdate                 int64\n",
              "month_of_postingdate               int64\n",
              "year_of_postingdate                int64\n",
              "day_of_due                         int64\n",
              "month_of_due                       int64\n",
              "year_of_due                        int64\n",
              "day_of_createdate                  int64\n",
              "month_of_createdate                int64\n",
              "year_of_createdate                 int64\n",
              "cust_payment_terms_enc             int32\n",
              "name_customer_enc                  int32\n",
              "dtype: object"
            ]
          },
          "execution_count": 564,
          "metadata": {},
          "output_type": "execute_result"
        }
      ],
      "source": [
        "nulldata.dtypes"
      ]
    },
    {
      "cell_type": "markdown",
      "id": "17cd5452",
      "metadata": {
        "id": "17cd5452"
      },
      "source": [
        "### Now you need to drop all the unnecessary columns - \n",
        "\n",
        "- 'business_code'\n",
        "- \"baseline_create_date\"\n",
        "- \"due_in_date\"\n",
        "- \"posting_date\"\n",
        "- \"name_customer\"\n",
        "- \"clear_date\"\n",
        "- \"cust_payment_terms\"\n",
        "- 'day_of_cleardate'\n",
        "- \"month_of_cleardate\"\n",
        "- \"year_of_cleardate\""
      ]
    },
    {
      "cell_type": "code",
      "execution_count": 565,
      "id": "d7c82076",
      "metadata": {
        "colab": {
          "base_uri": "https://localhost:8080/"
        },
        "id": "d7c82076",
        "outputId": "22f416e8-249d-41f4-efc0-c22566de6d44"
      },
      "outputs": [
        {
          "data": {
            "text/plain": [
              "Index(['cust_number', 'buisness_year', 'doc_id', 'converted_usd',\n",
              "       'business_code_enc', 'day_of_postingdate', 'month_of_postingdate',\n",
              "       'year_of_postingdate', 'day_of_due', 'month_of_due', 'year_of_due',\n",
              "       'day_of_createdate', 'month_of_createdate', 'year_of_createdate',\n",
              "       'cust_payment_terms_enc', 'name_customer_enc'],\n",
              "      dtype='object')"
            ]
          },
          "execution_count": 565,
          "metadata": {},
          "output_type": "execute_result"
        }
      ],
      "source": [
        "nulldata.drop(columns=['business_code','baseline_create_date','due_in_date','posting_date','name_customer','clear_date','cust_payment_terms','day_of_cleardate','month_of_cleardate','year_of_cleardate'],inplace=True)\n",
        "nulldata.columns"
      ]
    },
    {
      "cell_type": "markdown",
      "id": "Q_NCr9IPweVq",
      "metadata": {
        "id": "Q_NCr9IPweVq"
      },
      "source": [
        "### Check the information of the \"nulldata\" dataframe"
      ]
    },
    {
      "cell_type": "code",
      "execution_count": 566,
      "id": "4e7ffee0",
      "metadata": {
        "colab": {
          "base_uri": "https://localhost:8080/"
        },
        "id": "4e7ffee0",
        "outputId": "3b46db29-8408-4c5a-e77b-092385618b7c"
      },
      "outputs": [
        {
          "name": "stdout",
          "output_type": "stream",
          "text": [
            "<class 'pandas.core.frame.DataFrame'>\n",
            "Int64Index: 9779 entries, 3 to 50098\n",
            "Data columns (total 16 columns):\n",
            " #   Column                  Non-Null Count  Dtype  \n",
            "---  ------                  --------------  -----  \n",
            " 0   cust_number             9779 non-null   int32  \n",
            " 1   buisness_year           9779 non-null   int64  \n",
            " 2   doc_id                  9779 non-null   int64  \n",
            " 3   converted_usd           9779 non-null   float64\n",
            " 4   business_code_enc       9779 non-null   int32  \n",
            " 5   day_of_postingdate      9779 non-null   int64  \n",
            " 6   month_of_postingdate    9779 non-null   int64  \n",
            " 7   year_of_postingdate     9779 non-null   int64  \n",
            " 8   day_of_due              9779 non-null   int64  \n",
            " 9   month_of_due            9779 non-null   int64  \n",
            " 10  year_of_due             9779 non-null   int64  \n",
            " 11  day_of_createdate       9779 non-null   int64  \n",
            " 12  month_of_createdate     9779 non-null   int64  \n",
            " 13  year_of_createdate      9779 non-null   int64  \n",
            " 14  cust_payment_terms_enc  9779 non-null   int32  \n",
            " 15  name_customer_enc       9779 non-null   int32  \n",
            "dtypes: float64(1), int32(4), int64(11)\n",
            "memory usage: 1.1 MB\n"
          ]
        }
      ],
      "source": [
        "nulldata.info()"
      ]
    },
    {
      "cell_type": "markdown",
      "id": "-XvjhWqmwi-C",
      "metadata": {
        "id": "-XvjhWqmwi-C"
      },
      "source": [
        "### Compare \"nulldata\" with the \"X_test\" dataframe \n",
        "\n",
        "- use info() method"
      ]
    },
    {
      "cell_type": "code",
      "execution_count": 567,
      "id": "02f4b62d",
      "metadata": {
        "colab": {
          "base_uri": "https://localhost:8080/"
        },
        "id": "02f4b62d",
        "outputId": "6d0f85c8-cc8f-48a9-f645-2b969105feb3"
      },
      "outputs": [
        {
          "name": "stdout",
          "output_type": "stream",
          "text": [
            "<class 'pandas.core.frame.DataFrame'>\n",
            "Int64Index: 7832 entries, 46656 to 33318\n",
            "Data columns (total 16 columns):\n",
            " #   Column                  Non-Null Count  Dtype  \n",
            "---  ------                  --------------  -----  \n",
            " 0   cust_number             7832 non-null   int32  \n",
            " 1   buisness_year           7832 non-null   int64  \n",
            " 2   doc_id                  7832 non-null   int64  \n",
            " 3   converted_usd           7832 non-null   float64\n",
            " 4   business_code_enc       7832 non-null   int32  \n",
            " 5   name_customer_enc       7832 non-null   int32  \n",
            " 6   cust_payment_terms_enc  7832 non-null   int32  \n",
            " 7   day_of_postingdate      7832 non-null   int64  \n",
            " 8   month_of_postingdate    7832 non-null   int64  \n",
            " 9   year_of_postingdate     7832 non-null   int64  \n",
            " 10  day_of_createdate       7832 non-null   int64  \n",
            " 11  month_of_createdate     7832 non-null   int64  \n",
            " 12  year_of_createdate      7832 non-null   int64  \n",
            " 13  day_of_due              7832 non-null   int64  \n",
            " 14  month_of_due            7832 non-null   int64  \n",
            " 15  year_of_due             7832 non-null   int64  \n",
            "dtypes: float64(1), int32(4), int64(11)\n",
            "memory usage: 917.8 KB\n",
            "None \n",
            "\n",
            "\n",
            "<class 'pandas.core.frame.DataFrame'>\n",
            "Int64Index: 9779 entries, 3 to 50098\n",
            "Data columns (total 16 columns):\n",
            " #   Column                  Non-Null Count  Dtype  \n",
            "---  ------                  --------------  -----  \n",
            " 0   cust_number             9779 non-null   int32  \n",
            " 1   buisness_year           9779 non-null   int64  \n",
            " 2   doc_id                  9779 non-null   int64  \n",
            " 3   converted_usd           9779 non-null   float64\n",
            " 4   business_code_enc       9779 non-null   int32  \n",
            " 5   day_of_postingdate      9779 non-null   int64  \n",
            " 6   month_of_postingdate    9779 non-null   int64  \n",
            " 7   year_of_postingdate     9779 non-null   int64  \n",
            " 8   day_of_due              9779 non-null   int64  \n",
            " 9   month_of_due            9779 non-null   int64  \n",
            " 10  year_of_due             9779 non-null   int64  \n",
            " 11  day_of_createdate       9779 non-null   int64  \n",
            " 12  month_of_createdate     9779 non-null   int64  \n",
            " 13  year_of_createdate      9779 non-null   int64  \n",
            " 14  cust_payment_terms_enc  9779 non-null   int32  \n",
            " 15  name_customer_enc       9779 non-null   int32  \n",
            "dtypes: float64(1), int32(4), int64(11)\n",
            "memory usage: 1.1 MB\n",
            "None\n"
          ]
        }
      ],
      "source": [
        "print(X_test.info(),\"\\n\\n\")\n",
        "print(nulldata.info())"
      ]
    },
    {
      "cell_type": "markdown",
      "id": "Us3ey-9zwqjq",
      "metadata": {
        "id": "Us3ey-9zwqjq"
      },
      "source": [
        "### You must have noticed that there is a mismatch in the column sequence while compairing the dataframes\n",
        "\n",
        "- Note - In order to fed into the machine learning model, you need to edit the sequence of \"nulldata\", similar to the \"X_test\" dataframe"
      ]
    },
    {
      "cell_type": "markdown",
      "id": "vduVNt1kxPW-",
      "metadata": {
        "id": "vduVNt1kxPW-"
      },
      "source": [
        "- Display all the columns of the X_test dataframe \n",
        "- Display all the columns of the Nulldata dataframe \n",
        "- Store the Nulldata with new sequence into a new dataframe \n",
        "\n",
        "\n",
        "- Note - The code is given below, no need to change "
      ]
    },
    {
      "cell_type": "code",
      "execution_count": 568,
      "id": "6729353e",
      "metadata": {
        "colab": {
          "base_uri": "https://localhost:8080/"
        },
        "id": "6729353e",
        "outputId": "ab64d939-c6c9-47de-e797-76cad38d628b"
      },
      "outputs": [
        {
          "data": {
            "text/plain": [
              "Index(['cust_number', 'buisness_year', 'doc_id', 'converted_usd',\n",
              "       'business_code_enc', 'name_customer_enc', 'cust_payment_terms_enc',\n",
              "       'day_of_postingdate', 'month_of_postingdate', 'year_of_postingdate',\n",
              "       'day_of_createdate', 'month_of_createdate', 'year_of_createdate',\n",
              "       'day_of_due', 'month_of_due', 'year_of_due'],\n",
              "      dtype='object')"
            ]
          },
          "execution_count": 568,
          "metadata": {},
          "output_type": "execute_result"
        }
      ],
      "source": [
        "X_test.columns"
      ]
    },
    {
      "cell_type": "code",
      "execution_count": 569,
      "id": "47bd9c5e",
      "metadata": {
        "colab": {
          "base_uri": "https://localhost:8080/"
        },
        "id": "47bd9c5e",
        "outputId": "afe93d91-1059-4f81-8f63-6f0d8b0eee17"
      },
      "outputs": [
        {
          "data": {
            "text/plain": [
              "Index(['cust_number', 'buisness_year', 'doc_id', 'converted_usd',\n",
              "       'business_code_enc', 'day_of_postingdate', 'month_of_postingdate',\n",
              "       'year_of_postingdate', 'day_of_due', 'month_of_due', 'year_of_due',\n",
              "       'day_of_createdate', 'month_of_createdate', 'year_of_createdate',\n",
              "       'cust_payment_terms_enc', 'name_customer_enc'],\n",
              "      dtype='object')"
            ]
          },
          "execution_count": 569,
          "metadata": {},
          "output_type": "execute_result"
        }
      ],
      "source": [
        "nulldata.columns"
      ]
    },
    {
      "cell_type": "code",
      "execution_count": 570,
      "id": "aa5a2103",
      "metadata": {
        "id": "aa5a2103"
      },
      "outputs": [],
      "source": [
        "nulldata2=nulldata[['cust_number', 'buisness_year', 'doc_id', 'converted_usd',\n",
        "       'business_code_enc', 'name_customer_enc', 'cust_payment_terms_enc',\n",
        "       'day_of_postingdate', 'month_of_postingdate', 'year_of_postingdate',\n",
        "       'day_of_createdate', 'month_of_createdate', 'year_of_createdate',\n",
        "       'day_of_due', 'month_of_due', 'year_of_due']]"
      ]
    },
    {
      "cell_type": "markdown",
      "id": "1dc8b021",
      "metadata": {
        "id": "1dc8b021"
      },
      "source": [
        "### Display the Final Dataset"
      ]
    },
    {
      "cell_type": "code",
      "execution_count": 571,
      "id": "rXTmtugVAVqA",
      "metadata": {
        "colab": {
          "base_uri": "https://localhost:8080/",
          "height": 487
        },
        "id": "rXTmtugVAVqA",
        "outputId": "fb25c46c-7e59-4918-8421-df7c6d65f457"
      },
      "outputs": [
        {
          "data": {
            "text/html": [
              "<div>\n",
              "<style scoped>\n",
              "    .dataframe tbody tr th:only-of-type {\n",
              "        vertical-align: middle;\n",
              "    }\n",
              "\n",
              "    .dataframe tbody tr th {\n",
              "        vertical-align: top;\n",
              "    }\n",
              "\n",
              "    .dataframe thead th {\n",
              "        text-align: right;\n",
              "    }\n",
              "</style>\n",
              "<table border=\"1\" class=\"dataframe\">\n",
              "  <thead>\n",
              "    <tr style=\"text-align: right;\">\n",
              "      <th></th>\n",
              "      <th>cust_number</th>\n",
              "      <th>buisness_year</th>\n",
              "      <th>doc_id</th>\n",
              "      <th>converted_usd</th>\n",
              "      <th>business_code_enc</th>\n",
              "      <th>name_customer_enc</th>\n",
              "      <th>cust_payment_terms_enc</th>\n",
              "      <th>day_of_postingdate</th>\n",
              "      <th>month_of_postingdate</th>\n",
              "      <th>year_of_postingdate</th>\n",
              "      <th>day_of_createdate</th>\n",
              "      <th>month_of_createdate</th>\n",
              "      <th>year_of_createdate</th>\n",
              "      <th>day_of_due</th>\n",
              "      <th>month_of_due</th>\n",
              "      <th>year_of_due</th>\n",
              "    </tr>\n",
              "  </thead>\n",
              "  <tbody>\n",
              "    <tr>\n",
              "      <th>3</th>\n",
              "      <td>140105686</td>\n",
              "      <td>2020</td>\n",
              "      <td>2960623488</td>\n",
              "      <td>2309.790</td>\n",
              "      <td>66</td>\n",
              "      <td>2686</td>\n",
              "      <td>5</td>\n",
              "      <td>31</td>\n",
              "      <td>3</td>\n",
              "      <td>2020</td>\n",
              "      <td>31</td>\n",
              "      <td>3</td>\n",
              "      <td>2020</td>\n",
              "      <td>10</td>\n",
              "      <td>4</td>\n",
              "      <td>2020</td>\n",
              "    </tr>\n",
              "    <tr>\n",
              "      <th>7</th>\n",
              "      <td>200744019</td>\n",
              "      <td>2020</td>\n",
              "      <td>1930659387</td>\n",
              "      <td>11173.020</td>\n",
              "      <td>66</td>\n",
              "      <td>2774</td>\n",
              "      <td>20</td>\n",
              "      <td>19</td>\n",
              "      <td>3</td>\n",
              "      <td>2020</td>\n",
              "      <td>19</td>\n",
              "      <td>3</td>\n",
              "      <td>2020</td>\n",
              "      <td>3</td>\n",
              "      <td>4</td>\n",
              "      <td>2020</td>\n",
              "    </tr>\n",
              "    <tr>\n",
              "      <th>10</th>\n",
              "      <td>200418007</td>\n",
              "      <td>2020</td>\n",
              "      <td>1930610806</td>\n",
              "      <td>3525.590</td>\n",
              "      <td>66</td>\n",
              "      <td>89</td>\n",
              "      <td>20</td>\n",
              "      <td>11</td>\n",
              "      <td>3</td>\n",
              "      <td>2020</td>\n",
              "      <td>11</td>\n",
              "      <td>3</td>\n",
              "      <td>2020</td>\n",
              "      <td>26</td>\n",
              "      <td>3</td>\n",
              "      <td>2020</td>\n",
              "    </tr>\n",
              "    <tr>\n",
              "      <th>14</th>\n",
              "      <td>200739534</td>\n",
              "      <td>2020</td>\n",
              "      <td>1930788296</td>\n",
              "      <td>121105.650</td>\n",
              "      <td>66</td>\n",
              "      <td>2018</td>\n",
              "      <td>20</td>\n",
              "      <td>15</td>\n",
              "      <td>4</td>\n",
              "      <td>2020</td>\n",
              "      <td>15</td>\n",
              "      <td>4</td>\n",
              "      <td>2020</td>\n",
              "      <td>30</td>\n",
              "      <td>4</td>\n",
              "      <td>2020</td>\n",
              "    </tr>\n",
              "    <tr>\n",
              "      <th>15</th>\n",
              "      <td>200353024</td>\n",
              "      <td>2020</td>\n",
              "      <td>1930817482</td>\n",
              "      <td>3726.060</td>\n",
              "      <td>66</td>\n",
              "      <td>719</td>\n",
              "      <td>35</td>\n",
              "      <td>16</td>\n",
              "      <td>4</td>\n",
              "      <td>2020</td>\n",
              "      <td>16</td>\n",
              "      <td>4</td>\n",
              "      <td>2020</td>\n",
              "      <td>26</td>\n",
              "      <td>4</td>\n",
              "      <td>2020</td>\n",
              "    </tr>\n",
              "    <tr>\n",
              "      <th>...</th>\n",
              "      <td>...</td>\n",
              "      <td>...</td>\n",
              "      <td>...</td>\n",
              "      <td>...</td>\n",
              "      <td>...</td>\n",
              "      <td>...</td>\n",
              "      <td>...</td>\n",
              "      <td>...</td>\n",
              "      <td>...</td>\n",
              "      <td>...</td>\n",
              "      <td>...</td>\n",
              "      <td>...</td>\n",
              "      <td>...</td>\n",
              "      <td>...</td>\n",
              "      <td>...</td>\n",
              "      <td>...</td>\n",
              "    </tr>\n",
              "    <tr>\n",
              "      <th>50094</th>\n",
              "      <td>140106408</td>\n",
              "      <td>2020</td>\n",
              "      <td>2960618884</td>\n",
              "      <td>64982.589</td>\n",
              "      <td>66</td>\n",
              "      <td>2954</td>\n",
              "      <td>5</td>\n",
              "      <td>6</td>\n",
              "      <td>3</td>\n",
              "      <td>2020</td>\n",
              "      <td>6</td>\n",
              "      <td>3</td>\n",
              "      <td>2020</td>\n",
              "      <td>16</td>\n",
              "      <td>3</td>\n",
              "      <td>2020</td>\n",
              "    </tr>\n",
              "    <tr>\n",
              "      <th>50095</th>\n",
              "      <td>140106408</td>\n",
              "      <td>2020</td>\n",
              "      <td>2960618885</td>\n",
              "      <td>64982.589</td>\n",
              "      <td>66</td>\n",
              "      <td>2954</td>\n",
              "      <td>5</td>\n",
              "      <td>6</td>\n",
              "      <td>3</td>\n",
              "      <td>2020</td>\n",
              "      <td>6</td>\n",
              "      <td>3</td>\n",
              "      <td>2020</td>\n",
              "      <td>16</td>\n",
              "      <td>3</td>\n",
              "      <td>2020</td>\n",
              "    </tr>\n",
              "    <tr>\n",
              "      <th>50096</th>\n",
              "      <td>140106408</td>\n",
              "      <td>2020</td>\n",
              "      <td>2960618886</td>\n",
              "      <td>64982.589</td>\n",
              "      <td>66</td>\n",
              "      <td>2954</td>\n",
              "      <td>5</td>\n",
              "      <td>6</td>\n",
              "      <td>3</td>\n",
              "      <td>2020</td>\n",
              "      <td>6</td>\n",
              "      <td>3</td>\n",
              "      <td>2020</td>\n",
              "      <td>16</td>\n",
              "      <td>3</td>\n",
              "      <td>2020</td>\n",
              "    </tr>\n",
              "    <tr>\n",
              "      <th>50097</th>\n",
              "      <td>140106408</td>\n",
              "      <td>2020</td>\n",
              "      <td>2960618887</td>\n",
              "      <td>64982.589</td>\n",
              "      <td>66</td>\n",
              "      <td>2954</td>\n",
              "      <td>5</td>\n",
              "      <td>6</td>\n",
              "      <td>3</td>\n",
              "      <td>2020</td>\n",
              "      <td>6</td>\n",
              "      <td>3</td>\n",
              "      <td>2020</td>\n",
              "      <td>16</td>\n",
              "      <td>3</td>\n",
              "      <td>2020</td>\n",
              "    </tr>\n",
              "    <tr>\n",
              "      <th>50098</th>\n",
              "      <td>140106408</td>\n",
              "      <td>2020</td>\n",
              "      <td>2960618888</td>\n",
              "      <td>64982.589</td>\n",
              "      <td>66</td>\n",
              "      <td>2954</td>\n",
              "      <td>5</td>\n",
              "      <td>6</td>\n",
              "      <td>3</td>\n",
              "      <td>2020</td>\n",
              "      <td>6</td>\n",
              "      <td>3</td>\n",
              "      <td>2020</td>\n",
              "      <td>16</td>\n",
              "      <td>3</td>\n",
              "      <td>2020</td>\n",
              "    </tr>\n",
              "  </tbody>\n",
              "</table>\n",
              "<p>9779 rows × 16 columns</p>\n",
              "</div>"
            ],
            "text/plain": [
              "       cust_number  buisness_year      doc_id  converted_usd  \\\n",
              "3        140105686           2020  2960623488       2309.790   \n",
              "7        200744019           2020  1930659387      11173.020   \n",
              "10       200418007           2020  1930610806       3525.590   \n",
              "14       200739534           2020  1930788296     121105.650   \n",
              "15       200353024           2020  1930817482       3726.060   \n",
              "...            ...            ...         ...            ...   \n",
              "50094    140106408           2020  2960618884      64982.589   \n",
              "50095    140106408           2020  2960618885      64982.589   \n",
              "50096    140106408           2020  2960618886      64982.589   \n",
              "50097    140106408           2020  2960618887      64982.589   \n",
              "50098    140106408           2020  2960618888      64982.589   \n",
              "\n",
              "       business_code_enc  name_customer_enc  cust_payment_terms_enc  \\\n",
              "3                     66               2686                       5   \n",
              "7                     66               2774                      20   \n",
              "10                    66                 89                      20   \n",
              "14                    66               2018                      20   \n",
              "15                    66                719                      35   \n",
              "...                  ...                ...                     ...   \n",
              "50094                 66               2954                       5   \n",
              "50095                 66               2954                       5   \n",
              "50096                 66               2954                       5   \n",
              "50097                 66               2954                       5   \n",
              "50098                 66               2954                       5   \n",
              "\n",
              "       day_of_postingdate  month_of_postingdate  year_of_postingdate  \\\n",
              "3                      31                     3                 2020   \n",
              "7                      19                     3                 2020   \n",
              "10                     11                     3                 2020   \n",
              "14                     15                     4                 2020   \n",
              "15                     16                     4                 2020   \n",
              "...                   ...                   ...                  ...   \n",
              "50094                   6                     3                 2020   \n",
              "50095                   6                     3                 2020   \n",
              "50096                   6                     3                 2020   \n",
              "50097                   6                     3                 2020   \n",
              "50098                   6                     3                 2020   \n",
              "\n",
              "       day_of_createdate  month_of_createdate  year_of_createdate  day_of_due  \\\n",
              "3                     31                    3                2020          10   \n",
              "7                     19                    3                2020           3   \n",
              "10                    11                    3                2020          26   \n",
              "14                    15                    4                2020          30   \n",
              "15                    16                    4                2020          26   \n",
              "...                  ...                  ...                 ...         ...   \n",
              "50094                  6                    3                2020          16   \n",
              "50095                  6                    3                2020          16   \n",
              "50096                  6                    3                2020          16   \n",
              "50097                  6                    3                2020          16   \n",
              "50098                  6                    3                2020          16   \n",
              "\n",
              "       month_of_due  year_of_due  \n",
              "3                 4         2020  \n",
              "7                 4         2020  \n",
              "10                3         2020  \n",
              "14                4         2020  \n",
              "15                4         2020  \n",
              "...             ...          ...  \n",
              "50094             3         2020  \n",
              "50095             3         2020  \n",
              "50096             3         2020  \n",
              "50097             3         2020  \n",
              "50098             3         2020  \n",
              "\n",
              "[9779 rows x 16 columns]"
            ]
          },
          "execution_count": 571,
          "metadata": {},
          "output_type": "execute_result"
        }
      ],
      "source": [
        "nulldata2"
      ]
    },
    {
      "cell_type": "markdown",
      "id": "27b88c5a",
      "metadata": {
        "id": "27b88c5a"
      },
      "source": [
        "### Now you can pass this dataset into you final model and store it into \"final_result\""
      ]
    },
    {
      "cell_type": "code",
      "execution_count": 572,
      "id": "9e0b6388",
      "metadata": {
        "id": "9e0b6388"
      },
      "outputs": [],
      "source": [
        "final_result=regressorfinal.predict(nulldata2)"
      ]
    },
    {
      "cell_type": "markdown",
      "id": "9653d3c6",
      "metadata": {
        "id": "9653d3c6"
      },
      "source": [
        "### you need to make the final_result as dataframe, with a column name \"avg_delay\"\n",
        "\n",
        "- Note - No need to change the code"
      ]
    },
    {
      "cell_type": "code",
      "execution_count": 573,
      "id": "7a2f175f",
      "metadata": {
        "id": "7a2f175f"
      },
      "outputs": [],
      "source": [
        "final_result = pd.DataFrame(final_result,columns=['avg_delay'])"
      ]
    },
    {
      "cell_type": "markdown",
      "id": "C86staIhyf2C",
      "metadata": {
        "id": "C86staIhyf2C"
      },
      "source": [
        "### Display the \"avg_delay\" column"
      ]
    },
    {
      "cell_type": "code",
      "execution_count": 574,
      "id": "4fd46406",
      "metadata": {
        "id": "4fd46406",
        "outputId": "36d4dbe2-9b8d-4b3f-ef51-782ac04e2445"
      },
      "outputs": [
        {
          "name": "stdout",
          "output_type": "stream",
          "text": [
            "<class 'pandas.core.frame.DataFrame'>\n",
            "RangeIndex: 9779 entries, 0 to 9778\n",
            "Data columns (total 1 columns):\n",
            " #   Column     Non-Null Count  Dtype  \n",
            "---  ------     --------------  -----  \n",
            " 0   avg_delay  9779 non-null   float32\n",
            "dtypes: float32(1)\n",
            "memory usage: 38.3 KB\n"
          ]
        }
      ],
      "source": [
        "final_result.info()"
      ]
    },
    {
      "cell_type": "markdown",
      "id": "44f71a7e",
      "metadata": {
        "id": "44f71a7e"
      },
      "source": [
        "### Now you need to merge this final_result dataframe with the BACKUP of \"nulldata\" Dataframe which we have created in earlier steps"
      ]
    },
    {
      "cell_type": "code",
      "execution_count": 575,
      "id": "e8f0969d",
      "metadata": {
        "id": "e8f0969d"
      },
      "outputs": [],
      "source": [
        "nulldata_backup.reset_index(drop=True,inplace=True)\n",
        "Final = nulldata_backup.merge(final_result , on = nulldata.index )"
      ]
    },
    {
      "cell_type": "markdown",
      "id": "G-hLtxXgy4GZ",
      "metadata": {
        "id": "G-hLtxXgy4GZ"
      },
      "source": [
        "### Display the \"Final\" dataframe "
      ]
    },
    {
      "cell_type": "code",
      "execution_count": 576,
      "id": "71fb4dc0",
      "metadata": {
        "id": "71fb4dc0",
        "outputId": "cb6279f9-1d63-478f-b9d1-dcc122d6bdee"
      },
      "outputs": [
        {
          "data": {
            "text/html": [
              "<div>\n",
              "<style scoped>\n",
              "    .dataframe tbody tr th:only-of-type {\n",
              "        vertical-align: middle;\n",
              "    }\n",
              "\n",
              "    .dataframe tbody tr th {\n",
              "        vertical-align: top;\n",
              "    }\n",
              "\n",
              "    .dataframe thead th {\n",
              "        text-align: right;\n",
              "    }\n",
              "</style>\n",
              "<table border=\"1\" class=\"dataframe\">\n",
              "  <thead>\n",
              "    <tr style=\"text-align: right;\">\n",
              "      <th></th>\n",
              "      <th>key_0</th>\n",
              "      <th>business_code</th>\n",
              "      <th>cust_number</th>\n",
              "      <th>name_customer</th>\n",
              "      <th>clear_date</th>\n",
              "      <th>buisness_year</th>\n",
              "      <th>doc_id</th>\n",
              "      <th>posting_date</th>\n",
              "      <th>due_in_date</th>\n",
              "      <th>baseline_create_date</th>\n",
              "      <th>cust_payment_terms</th>\n",
              "      <th>converted_usd</th>\n",
              "      <th>avg_delay</th>\n",
              "    </tr>\n",
              "  </thead>\n",
              "  <tbody>\n",
              "    <tr>\n",
              "      <th>0</th>\n",
              "      <td>3</td>\n",
              "      <td>CA02</td>\n",
              "      <td>140105686</td>\n",
              "      <td>SYSC llc</td>\n",
              "      <td>NaT</td>\n",
              "      <td>2020</td>\n",
              "      <td>2960623488</td>\n",
              "      <td>2020-03-31</td>\n",
              "      <td>2020-04-10</td>\n",
              "      <td>2020-03-31</td>\n",
              "      <td>CA10</td>\n",
              "      <td>2309.790</td>\n",
              "      <td>4.855942e+05</td>\n",
              "    </tr>\n",
              "    <tr>\n",
              "      <th>1</th>\n",
              "      <td>7</td>\n",
              "      <td>U001</td>\n",
              "      <td>200744019</td>\n",
              "      <td>TARG us</td>\n",
              "      <td>NaT</td>\n",
              "      <td>2020</td>\n",
              "      <td>1930659387</td>\n",
              "      <td>2020-03-19</td>\n",
              "      <td>2020-04-03</td>\n",
              "      <td>2020-03-19</td>\n",
              "      <td>NAA8</td>\n",
              "      <td>11173.020</td>\n",
              "      <td>1.893316e+05</td>\n",
              "    </tr>\n",
              "    <tr>\n",
              "      <th>2</th>\n",
              "      <td>10</td>\n",
              "      <td>U001</td>\n",
              "      <td>200418007</td>\n",
              "      <td>AM</td>\n",
              "      <td>NaT</td>\n",
              "      <td>2020</td>\n",
              "      <td>1930610806</td>\n",
              "      <td>2020-03-11</td>\n",
              "      <td>2020-03-26</td>\n",
              "      <td>2020-03-11</td>\n",
              "      <td>NAA8</td>\n",
              "      <td>3525.590</td>\n",
              "      <td>2.721548e+06</td>\n",
              "    </tr>\n",
              "    <tr>\n",
              "      <th>3</th>\n",
              "      <td>14</td>\n",
              "      <td>U001</td>\n",
              "      <td>200739534</td>\n",
              "      <td>OK systems</td>\n",
              "      <td>NaT</td>\n",
              "      <td>2020</td>\n",
              "      <td>1930788296</td>\n",
              "      <td>2020-04-15</td>\n",
              "      <td>2020-04-30</td>\n",
              "      <td>2020-04-15</td>\n",
              "      <td>NAA8</td>\n",
              "      <td>121105.650</td>\n",
              "      <td>-1.391319e+04</td>\n",
              "    </tr>\n",
              "    <tr>\n",
              "      <th>4</th>\n",
              "      <td>15</td>\n",
              "      <td>U001</td>\n",
              "      <td>200353024</td>\n",
              "      <td>DECA corporation</td>\n",
              "      <td>NaT</td>\n",
              "      <td>2020</td>\n",
              "      <td>1930817482</td>\n",
              "      <td>2020-04-16</td>\n",
              "      <td>2020-04-26</td>\n",
              "      <td>2020-04-16</td>\n",
              "      <td>NAM2</td>\n",
              "      <td>3726.060</td>\n",
              "      <td>-2.679835e+05</td>\n",
              "    </tr>\n",
              "    <tr>\n",
              "      <th>...</th>\n",
              "      <td>...</td>\n",
              "      <td>...</td>\n",
              "      <td>...</td>\n",
              "      <td>...</td>\n",
              "      <td>...</td>\n",
              "      <td>...</td>\n",
              "      <td>...</td>\n",
              "      <td>...</td>\n",
              "      <td>...</td>\n",
              "      <td>...</td>\n",
              "      <td>...</td>\n",
              "      <td>...</td>\n",
              "      <td>...</td>\n",
              "    </tr>\n",
              "    <tr>\n",
              "      <th>9774</th>\n",
              "      <td>50094</td>\n",
              "      <td>CA02</td>\n",
              "      <td>140106408</td>\n",
              "      <td>WAL-M corp</td>\n",
              "      <td>NaT</td>\n",
              "      <td>2020</td>\n",
              "      <td>2960618884</td>\n",
              "      <td>2020-03-06</td>\n",
              "      <td>2020-03-16</td>\n",
              "      <td>2020-03-06</td>\n",
              "      <td>CA10</td>\n",
              "      <td>64982.589</td>\n",
              "      <td>7.478704e+05</td>\n",
              "    </tr>\n",
              "    <tr>\n",
              "      <th>9775</th>\n",
              "      <td>50095</td>\n",
              "      <td>CA02</td>\n",
              "      <td>140106408</td>\n",
              "      <td>WAL-M corp</td>\n",
              "      <td>NaT</td>\n",
              "      <td>2020</td>\n",
              "      <td>2960618885</td>\n",
              "      <td>2020-03-06</td>\n",
              "      <td>2020-03-16</td>\n",
              "      <td>2020-03-06</td>\n",
              "      <td>CA10</td>\n",
              "      <td>64982.589</td>\n",
              "      <td>7.478704e+05</td>\n",
              "    </tr>\n",
              "    <tr>\n",
              "      <th>9776</th>\n",
              "      <td>50096</td>\n",
              "      <td>CA02</td>\n",
              "      <td>140106408</td>\n",
              "      <td>WAL-M corp</td>\n",
              "      <td>NaT</td>\n",
              "      <td>2020</td>\n",
              "      <td>2960618886</td>\n",
              "      <td>2020-03-06</td>\n",
              "      <td>2020-03-16</td>\n",
              "      <td>2020-03-06</td>\n",
              "      <td>CA10</td>\n",
              "      <td>64982.589</td>\n",
              "      <td>7.478704e+05</td>\n",
              "    </tr>\n",
              "    <tr>\n",
              "      <th>9777</th>\n",
              "      <td>50097</td>\n",
              "      <td>CA02</td>\n",
              "      <td>140106408</td>\n",
              "      <td>WAL-M corp</td>\n",
              "      <td>NaT</td>\n",
              "      <td>2020</td>\n",
              "      <td>2960618887</td>\n",
              "      <td>2020-03-06</td>\n",
              "      <td>2020-03-16</td>\n",
              "      <td>2020-03-06</td>\n",
              "      <td>CA10</td>\n",
              "      <td>64982.589</td>\n",
              "      <td>7.478704e+05</td>\n",
              "    </tr>\n",
              "    <tr>\n",
              "      <th>9778</th>\n",
              "      <td>50098</td>\n",
              "      <td>CA02</td>\n",
              "      <td>140106408</td>\n",
              "      <td>WAL-M corp</td>\n",
              "      <td>NaT</td>\n",
              "      <td>2020</td>\n",
              "      <td>2960618888</td>\n",
              "      <td>2020-03-06</td>\n",
              "      <td>2020-03-16</td>\n",
              "      <td>2020-03-06</td>\n",
              "      <td>CA10</td>\n",
              "      <td>64982.589</td>\n",
              "      <td>7.478704e+05</td>\n",
              "    </tr>\n",
              "  </tbody>\n",
              "</table>\n",
              "<p>9779 rows × 13 columns</p>\n",
              "</div>"
            ],
            "text/plain": [
              "      key_0 business_code cust_number     name_customer clear_date  \\\n",
              "0         3          CA02   140105686          SYSC llc        NaT   \n",
              "1         7          U001   200744019           TARG us        NaT   \n",
              "2        10          U001   200418007               AM         NaT   \n",
              "3        14          U001   200739534        OK systems        NaT   \n",
              "4        15          U001   200353024  DECA corporation        NaT   \n",
              "...     ...           ...         ...               ...        ...   \n",
              "9774  50094          CA02   140106408        WAL-M corp        NaT   \n",
              "9775  50095          CA02   140106408        WAL-M corp        NaT   \n",
              "9776  50096          CA02   140106408        WAL-M corp        NaT   \n",
              "9777  50097          CA02   140106408        WAL-M corp        NaT   \n",
              "9778  50098          CA02   140106408        WAL-M corp        NaT   \n",
              "\n",
              "      buisness_year      doc_id posting_date due_in_date baseline_create_date  \\\n",
              "0              2020  2960623488   2020-03-31  2020-04-10           2020-03-31   \n",
              "1              2020  1930659387   2020-03-19  2020-04-03           2020-03-19   \n",
              "2              2020  1930610806   2020-03-11  2020-03-26           2020-03-11   \n",
              "3              2020  1930788296   2020-04-15  2020-04-30           2020-04-15   \n",
              "4              2020  1930817482   2020-04-16  2020-04-26           2020-04-16   \n",
              "...             ...         ...          ...         ...                  ...   \n",
              "9774           2020  2960618884   2020-03-06  2020-03-16           2020-03-06   \n",
              "9775           2020  2960618885   2020-03-06  2020-03-16           2020-03-06   \n",
              "9776           2020  2960618886   2020-03-06  2020-03-16           2020-03-06   \n",
              "9777           2020  2960618887   2020-03-06  2020-03-16           2020-03-06   \n",
              "9778           2020  2960618888   2020-03-06  2020-03-16           2020-03-06   \n",
              "\n",
              "     cust_payment_terms  converted_usd     avg_delay  \n",
              "0                  CA10       2309.790  4.855942e+05  \n",
              "1                  NAA8      11173.020  1.893316e+05  \n",
              "2                  NAA8       3525.590  2.721548e+06  \n",
              "3                  NAA8     121105.650 -1.391319e+04  \n",
              "4                  NAM2       3726.060 -2.679835e+05  \n",
              "...                 ...            ...           ...  \n",
              "9774               CA10      64982.589  7.478704e+05  \n",
              "9775               CA10      64982.589  7.478704e+05  \n",
              "9776               CA10      64982.589  7.478704e+05  \n",
              "9777               CA10      64982.589  7.478704e+05  \n",
              "9778               CA10      64982.589  7.478704e+05  \n",
              "\n",
              "[9779 rows x 13 columns]"
            ]
          },
          "execution_count": 576,
          "metadata": {},
          "output_type": "execute_result"
        }
      ],
      "source": [
        "Final"
      ]
    },
    {
      "cell_type": "markdown",
      "id": "4sc27Uz-y-0O",
      "metadata": {
        "id": "4sc27Uz-y-0O"
      },
      "source": [
        "### Check for the Number of Rows and Columns in your \"Final\" dataframe "
      ]
    },
    {
      "cell_type": "code",
      "execution_count": 577,
      "id": "5iUXOIhzy_HR",
      "metadata": {
        "id": "5iUXOIhzy_HR",
        "outputId": "709c0853-ccb7-41aa-9533-fed857765a97"
      },
      "outputs": [
        {
          "data": {
            "text/plain": [
              "(9779, 13)"
            ]
          },
          "execution_count": 577,
          "metadata": {},
          "output_type": "execute_result"
        }
      ],
      "source": [
        "Final.shape"
      ]
    },
    {
      "cell_type": "markdown",
      "id": "48886d2c",
      "metadata": {
        "id": "48886d2c"
      },
      "source": [
        "### Now, you need to do convert the below fields back into date and time format \n",
        "\n",
        "- Convert \"due_in_date\" into datetime format\n",
        "- Convert \"avg_delay\" into datetime format\n",
        "- Create a new column \"clear_date\" and store the sum of \"due_in_date\" and \"avg_delay\"\n",
        "- display the new \"clear_date\" column\n",
        "- Note - Code is given below, no need to change "
      ]
    },
    {
      "cell_type": "code",
      "execution_count": 578,
      "id": "243abc2d",
      "metadata": {
        "id": "243abc2d"
      },
      "outputs": [],
      "source": [
        "Final['clear_date'] = pd.to_datetime(Final['due_in_date']) + pd.to_timedelta(Final['avg_delay'], unit='s')"
      ]
    },
    {
      "cell_type": "markdown",
      "id": "9QcX_fAjIkYR",
      "metadata": {
        "id": "9QcX_fAjIkYR"
      },
      "source": [
        "### Display the \"clear_date\" column"
      ]
    },
    {
      "cell_type": "code",
      "execution_count": 579,
      "id": "740e1486",
      "metadata": {
        "id": "740e1486",
        "outputId": "c48b39b0-e0b6-445b-8b29-67db4adc471c"
      },
      "outputs": [
        {
          "data": {
            "text/plain": [
              "0      2020-04-15 14:53:14.250000\n",
              "1      2020-04-05 04:35:31.609375\n",
              "2      2020-04-26 11:59:08.000000\n",
              "3      2020-04-29 20:08:06.812500\n",
              "4      2020-04-22 21:33:36.531250\n",
              "                  ...            \n",
              "9774   2020-03-24 15:44:30.375000\n",
              "9775   2020-03-24 15:44:30.375000\n",
              "9776   2020-03-24 15:44:30.375000\n",
              "9777   2020-03-24 15:44:30.375000\n",
              "9778   2020-03-24 15:44:30.375000\n",
              "Name: clear_date, Length: 9779, dtype: datetime64[ns]"
            ]
          },
          "execution_count": 579,
          "metadata": {},
          "output_type": "execute_result"
        }
      ],
      "source": [
        "Final['clear_date']"
      ]
    },
    {
      "cell_type": "markdown",
      "id": "MSkNLq6-z7rZ",
      "metadata": {
        "id": "MSkNLq6-z7rZ"
      },
      "source": [
        "### Convert the average delay into number of days format \n",
        "\n",
        "- Note - Formula = avg_delay//(24 * 3600)\n",
        "- Note - full code is given for this, no need to change "
      ]
    },
    {
      "cell_type": "code",
      "execution_count": 580,
      "id": "ce6b618a",
      "metadata": {
        "id": "ce6b618a"
      },
      "outputs": [],
      "source": [
        "Final['avg_delay'] = Final.apply(lambda row: row.avg_delay//(24 * 3600), axis = 1)"
      ]
    },
    {
      "cell_type": "markdown",
      "id": "wbBBZPjP0W7o",
      "metadata": {
        "id": "wbBBZPjP0W7o"
      },
      "source": [
        "### Display the \"avg_delay\" column "
      ]
    },
    {
      "cell_type": "code",
      "execution_count": 581,
      "id": "a494982f",
      "metadata": {
        "id": "a494982f",
        "outputId": "abed0192-2d28-4f9d-d8c8-6bc2125fe496",
        "scrolled": true
      },
      "outputs": [
        {
          "data": {
            "text/plain": [
              "0        5.0\n",
              "1        2.0\n",
              "2       31.0\n",
              "3       -1.0\n",
              "4       -4.0\n",
              "        ... \n",
              "9774     8.0\n",
              "9775     8.0\n",
              "9776     8.0\n",
              "9777     8.0\n",
              "9778     8.0\n",
              "Name: avg_delay, Length: 9779, dtype: float64"
            ]
          },
          "execution_count": 581,
          "metadata": {},
          "output_type": "execute_result"
        }
      ],
      "source": [
        "Final['avg_delay']"
      ]
    },
    {
      "cell_type": "markdown",
      "id": "815d8811",
      "metadata": {
        "id": "815d8811"
      },
      "source": [
        "### Now you need to convert average delay column into bucket\n",
        "\n",
        "- Need to perform binning \n",
        "- create a list of bins i.e. bins= [0,15,30,45,60,100]\n",
        "- create a list of labels i.e. labels = ['0-15','16-30','31-45','46-60','Greatar than 60']\n",
        "- perform binning by using cut() function from \"Final\" dataframe\n",
        "\n",
        "\n",
        "- Please fill up the first two rows of the code"
      ]
    },
    {
      "cell_type": "code",
      "execution_count": 582,
      "id": "c797e4b5",
      "metadata": {
        "id": "c797e4b5"
      },
      "outputs": [],
      "source": [
        "\n",
        "bins=  [0,15,30,45,60,100]\n",
        "labels =['0-15','16-30','31-45','46-60','Greatar than 60']\n",
        "Final['Aging Bucket'] = pd.cut(Final['avg_delay'], bins=bins, labels=labels, right=False)"
      ]
    },
    {
      "cell_type": "markdown",
      "id": "1c35725f",
      "metadata": {
        "id": "1c35725f"
      },
      "source": [
        "### Now you need to drop \"key_0\" and \"avg_delay\" columns from the \"Final\" Dataframe"
      ]
    },
    {
      "cell_type": "code",
      "execution_count": 583,
      "id": "b31bc6a3",
      "metadata": {
        "id": "b31bc6a3"
      },
      "outputs": [],
      "source": [
        "Final.drop(columns=['key_0','avg_delay'],inplace=True)"
      ]
    },
    {
      "cell_type": "markdown",
      "id": "Ui-tyIvU0-5u",
      "metadata": {
        "id": "Ui-tyIvU0-5u"
      },
      "source": [
        "### Display the count of each categoty of new \"Aging Bucket\" column "
      ]
    },
    {
      "cell_type": "code",
      "execution_count": 584,
      "id": "a6e16218",
      "metadata": {
        "id": "a6e16218",
        "outputId": "4ceac31f-bd01-4550-d8f2-cb1c02427f75"
      },
      "outputs": [
        {
          "data": {
            "text/plain": [
              "0-15               4989\n",
              "31-45               354\n",
              "16-30                57\n",
              "Greatar than 60       7\n",
              "46-60                 5\n",
              "Name: Aging Bucket, dtype: int64"
            ]
          },
          "execution_count": 584,
          "metadata": {},
          "output_type": "execute_result"
        }
      ],
      "source": [
        "Final['Aging Bucket'].value_counts()"
      ]
    },
    {
      "cell_type": "markdown",
      "id": "kgYegy551GKJ",
      "metadata": {
        "id": "kgYegy551GKJ"
      },
      "source": [
        "### Display your final dataset with aging buckets "
      ]
    },
    {
      "cell_type": "code",
      "execution_count": 585,
      "id": "c4bc87ec",
      "metadata": {
        "id": "c4bc87ec",
        "outputId": "fee4c6b4-f5ec-4425-b069-b374817bbfa5"
      },
      "outputs": [
        {
          "data": {
            "text/html": [
              "<div>\n",
              "<style scoped>\n",
              "    .dataframe tbody tr th:only-of-type {\n",
              "        vertical-align: middle;\n",
              "    }\n",
              "\n",
              "    .dataframe tbody tr th {\n",
              "        vertical-align: top;\n",
              "    }\n",
              "\n",
              "    .dataframe thead th {\n",
              "        text-align: right;\n",
              "    }\n",
              "</style>\n",
              "<table border=\"1\" class=\"dataframe\">\n",
              "  <thead>\n",
              "    <tr style=\"text-align: right;\">\n",
              "      <th></th>\n",
              "      <th>business_code</th>\n",
              "      <th>cust_number</th>\n",
              "      <th>name_customer</th>\n",
              "      <th>clear_date</th>\n",
              "      <th>buisness_year</th>\n",
              "      <th>doc_id</th>\n",
              "      <th>posting_date</th>\n",
              "      <th>due_in_date</th>\n",
              "      <th>baseline_create_date</th>\n",
              "      <th>cust_payment_terms</th>\n",
              "      <th>converted_usd</th>\n",
              "      <th>Aging Bucket</th>\n",
              "    </tr>\n",
              "  </thead>\n",
              "  <tbody>\n",
              "    <tr>\n",
              "      <th>0</th>\n",
              "      <td>CA02</td>\n",
              "      <td>140105686</td>\n",
              "      <td>SYSC llc</td>\n",
              "      <td>2020-04-15 14:53:14.250000</td>\n",
              "      <td>2020</td>\n",
              "      <td>2960623488</td>\n",
              "      <td>2020-03-31</td>\n",
              "      <td>2020-04-10</td>\n",
              "      <td>2020-03-31</td>\n",
              "      <td>CA10</td>\n",
              "      <td>2309.790</td>\n",
              "      <td>0-15</td>\n",
              "    </tr>\n",
              "    <tr>\n",
              "      <th>1</th>\n",
              "      <td>U001</td>\n",
              "      <td>200744019</td>\n",
              "      <td>TARG us</td>\n",
              "      <td>2020-04-05 04:35:31.609375</td>\n",
              "      <td>2020</td>\n",
              "      <td>1930659387</td>\n",
              "      <td>2020-03-19</td>\n",
              "      <td>2020-04-03</td>\n",
              "      <td>2020-03-19</td>\n",
              "      <td>NAA8</td>\n",
              "      <td>11173.020</td>\n",
              "      <td>0-15</td>\n",
              "    </tr>\n",
              "    <tr>\n",
              "      <th>2</th>\n",
              "      <td>U001</td>\n",
              "      <td>200418007</td>\n",
              "      <td>AM</td>\n",
              "      <td>2020-04-26 11:59:08.000000</td>\n",
              "      <td>2020</td>\n",
              "      <td>1930610806</td>\n",
              "      <td>2020-03-11</td>\n",
              "      <td>2020-03-26</td>\n",
              "      <td>2020-03-11</td>\n",
              "      <td>NAA8</td>\n",
              "      <td>3525.590</td>\n",
              "      <td>31-45</td>\n",
              "    </tr>\n",
              "    <tr>\n",
              "      <th>3</th>\n",
              "      <td>U001</td>\n",
              "      <td>200739534</td>\n",
              "      <td>OK systems</td>\n",
              "      <td>2020-04-29 20:08:06.812500</td>\n",
              "      <td>2020</td>\n",
              "      <td>1930788296</td>\n",
              "      <td>2020-04-15</td>\n",
              "      <td>2020-04-30</td>\n",
              "      <td>2020-04-15</td>\n",
              "      <td>NAA8</td>\n",
              "      <td>121105.650</td>\n",
              "      <td>NaN</td>\n",
              "    </tr>\n",
              "    <tr>\n",
              "      <th>4</th>\n",
              "      <td>U001</td>\n",
              "      <td>200353024</td>\n",
              "      <td>DECA corporation</td>\n",
              "      <td>2020-04-22 21:33:36.531250</td>\n",
              "      <td>2020</td>\n",
              "      <td>1930817482</td>\n",
              "      <td>2020-04-16</td>\n",
              "      <td>2020-04-26</td>\n",
              "      <td>2020-04-16</td>\n",
              "      <td>NAM2</td>\n",
              "      <td>3726.060</td>\n",
              "      <td>NaN</td>\n",
              "    </tr>\n",
              "    <tr>\n",
              "      <th>...</th>\n",
              "      <td>...</td>\n",
              "      <td>...</td>\n",
              "      <td>...</td>\n",
              "      <td>...</td>\n",
              "      <td>...</td>\n",
              "      <td>...</td>\n",
              "      <td>...</td>\n",
              "      <td>...</td>\n",
              "      <td>...</td>\n",
              "      <td>...</td>\n",
              "      <td>...</td>\n",
              "      <td>...</td>\n",
              "    </tr>\n",
              "    <tr>\n",
              "      <th>9774</th>\n",
              "      <td>CA02</td>\n",
              "      <td>140106408</td>\n",
              "      <td>WAL-M corp</td>\n",
              "      <td>2020-03-24 15:44:30.375000</td>\n",
              "      <td>2020</td>\n",
              "      <td>2960618884</td>\n",
              "      <td>2020-03-06</td>\n",
              "      <td>2020-03-16</td>\n",
              "      <td>2020-03-06</td>\n",
              "      <td>CA10</td>\n",
              "      <td>64982.589</td>\n",
              "      <td>0-15</td>\n",
              "    </tr>\n",
              "    <tr>\n",
              "      <th>9775</th>\n",
              "      <td>CA02</td>\n",
              "      <td>140106408</td>\n",
              "      <td>WAL-M corp</td>\n",
              "      <td>2020-03-24 15:44:30.375000</td>\n",
              "      <td>2020</td>\n",
              "      <td>2960618885</td>\n",
              "      <td>2020-03-06</td>\n",
              "      <td>2020-03-16</td>\n",
              "      <td>2020-03-06</td>\n",
              "      <td>CA10</td>\n",
              "      <td>64982.589</td>\n",
              "      <td>0-15</td>\n",
              "    </tr>\n",
              "    <tr>\n",
              "      <th>9776</th>\n",
              "      <td>CA02</td>\n",
              "      <td>140106408</td>\n",
              "      <td>WAL-M corp</td>\n",
              "      <td>2020-03-24 15:44:30.375000</td>\n",
              "      <td>2020</td>\n",
              "      <td>2960618886</td>\n",
              "      <td>2020-03-06</td>\n",
              "      <td>2020-03-16</td>\n",
              "      <td>2020-03-06</td>\n",
              "      <td>CA10</td>\n",
              "      <td>64982.589</td>\n",
              "      <td>0-15</td>\n",
              "    </tr>\n",
              "    <tr>\n",
              "      <th>9777</th>\n",
              "      <td>CA02</td>\n",
              "      <td>140106408</td>\n",
              "      <td>WAL-M corp</td>\n",
              "      <td>2020-03-24 15:44:30.375000</td>\n",
              "      <td>2020</td>\n",
              "      <td>2960618887</td>\n",
              "      <td>2020-03-06</td>\n",
              "      <td>2020-03-16</td>\n",
              "      <td>2020-03-06</td>\n",
              "      <td>CA10</td>\n",
              "      <td>64982.589</td>\n",
              "      <td>0-15</td>\n",
              "    </tr>\n",
              "    <tr>\n",
              "      <th>9778</th>\n",
              "      <td>CA02</td>\n",
              "      <td>140106408</td>\n",
              "      <td>WAL-M corp</td>\n",
              "      <td>2020-03-24 15:44:30.375000</td>\n",
              "      <td>2020</td>\n",
              "      <td>2960618888</td>\n",
              "      <td>2020-03-06</td>\n",
              "      <td>2020-03-16</td>\n",
              "      <td>2020-03-06</td>\n",
              "      <td>CA10</td>\n",
              "      <td>64982.589</td>\n",
              "      <td>0-15</td>\n",
              "    </tr>\n",
              "  </tbody>\n",
              "</table>\n",
              "<p>9779 rows × 12 columns</p>\n",
              "</div>"
            ],
            "text/plain": [
              "     business_code cust_number     name_customer                 clear_date  \\\n",
              "0             CA02   140105686          SYSC llc 2020-04-15 14:53:14.250000   \n",
              "1             U001   200744019           TARG us 2020-04-05 04:35:31.609375   \n",
              "2             U001   200418007               AM  2020-04-26 11:59:08.000000   \n",
              "3             U001   200739534        OK systems 2020-04-29 20:08:06.812500   \n",
              "4             U001   200353024  DECA corporation 2020-04-22 21:33:36.531250   \n",
              "...            ...         ...               ...                        ...   \n",
              "9774          CA02   140106408        WAL-M corp 2020-03-24 15:44:30.375000   \n",
              "9775          CA02   140106408        WAL-M corp 2020-03-24 15:44:30.375000   \n",
              "9776          CA02   140106408        WAL-M corp 2020-03-24 15:44:30.375000   \n",
              "9777          CA02   140106408        WAL-M corp 2020-03-24 15:44:30.375000   \n",
              "9778          CA02   140106408        WAL-M corp 2020-03-24 15:44:30.375000   \n",
              "\n",
              "      buisness_year      doc_id posting_date due_in_date baseline_create_date  \\\n",
              "0              2020  2960623488   2020-03-31  2020-04-10           2020-03-31   \n",
              "1              2020  1930659387   2020-03-19  2020-04-03           2020-03-19   \n",
              "2              2020  1930610806   2020-03-11  2020-03-26           2020-03-11   \n",
              "3              2020  1930788296   2020-04-15  2020-04-30           2020-04-15   \n",
              "4              2020  1930817482   2020-04-16  2020-04-26           2020-04-16   \n",
              "...             ...         ...          ...         ...                  ...   \n",
              "9774           2020  2960618884   2020-03-06  2020-03-16           2020-03-06   \n",
              "9775           2020  2960618885   2020-03-06  2020-03-16           2020-03-06   \n",
              "9776           2020  2960618886   2020-03-06  2020-03-16           2020-03-06   \n",
              "9777           2020  2960618887   2020-03-06  2020-03-16           2020-03-06   \n",
              "9778           2020  2960618888   2020-03-06  2020-03-16           2020-03-06   \n",
              "\n",
              "     cust_payment_terms  converted_usd Aging Bucket  \n",
              "0                  CA10       2309.790         0-15  \n",
              "1                  NAA8      11173.020         0-15  \n",
              "2                  NAA8       3525.590        31-45  \n",
              "3                  NAA8     121105.650          NaN  \n",
              "4                  NAM2       3726.060          NaN  \n",
              "...                 ...            ...          ...  \n",
              "9774               CA10      64982.589         0-15  \n",
              "9775               CA10      64982.589         0-15  \n",
              "9776               CA10      64982.589         0-15  \n",
              "9777               CA10      64982.589         0-15  \n",
              "9778               CA10      64982.589         0-15  \n",
              "\n",
              "[9779 rows x 12 columns]"
            ]
          },
          "execution_count": 585,
          "metadata": {},
          "output_type": "execute_result"
        }
      ],
      "source": [
        "Final"
      ]
    },
    {
      "cell_type": "markdown",
      "id": "Ji7AoDCB1L_x",
      "metadata": {
        "id": "Ji7AoDCB1L_x"
      },
      "source": [
        "### Store this dataframe into the .csv format"
      ]
    },
    {
      "cell_type": "code",
      "execution_count": 586,
      "id": "727d0b8d",
      "metadata": {
        "id": "727d0b8d"
      },
      "outputs": [],
      "source": [
        "Final.to_csv('HRC61009WK_ABHIRAJ_CHATTERJEE.csv')\n",
        "pickle.dump(regressorfinal, open('./model.sav', 'wb'))"
      ]
    },
    {
      "cell_type": "markdown",
      "id": "FK0fabl61SkC",
      "metadata": {
        "id": "FK0fabl61SkC"
      },
      "source": [
        "# END OF THE PROJECT"
      ]
    }
  ],
  "metadata": {
    "colab": {
      "collapsed_sections": [
        "62633a84"
      ],
      "name": "HRC61009WK_ABHIRAJ_CHATTERJEE_prediction.ipynb",
      "provenance": []
    },
    "kernelspec": {
      "display_name": "Python 3",
      "language": "python",
      "name": "python3"
    },
    "language_info": {
      "codemirror_mode": {
        "name": "ipython",
        "version": 3
      },
      "file_extension": ".py",
      "mimetype": "text/x-python",
      "name": "python",
      "nbconvert_exporter": "python",
      "pygments_lexer": "ipython3",
      "version": "3.10.1"
    }
  },
  "nbformat": 4,
  "nbformat_minor": 5
}
