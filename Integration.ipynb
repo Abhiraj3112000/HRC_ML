{
 "cells": [
  {
   "cell_type": "code",
   "execution_count": 1,
   "id": "8933d4f8",
   "metadata": {},
   "outputs": [
    {
     "name": "stdout",
     "output_type": "stream",
     "text": [
      " * Serving Flask app '__main__' (lazy loading)\n",
      " * Environment: production\n",
      "\u001b[31m   WARNING: This is a development server. Do not use it in a production deployment.\u001b[0m\n",
      "\u001b[2m   Use a production WSGI server instead.\u001b[0m\n",
      " * Debug mode: off\n"
     ]
    },
    {
     "name": "stderr",
     "output_type": "stream",
     "text": [
      " * Running on http://127.0.0.1:5000 (Press CTRL+C to quit)\n",
      "127.0.0.1 - - [13/Apr/2022 21:34:31] \"OPTIONS /get_prediction HTTP/1.1\" 200 -\n"
     ]
    },
    {
     "name": "stdout",
     "output_type": "stream",
     "text": [
      "[2960623488, 1930659387]\n",
      " Predict\n"
     ]
    },
    {
     "name": "stderr",
     "output_type": "stream",
     "text": [
      "127.0.0.1 - - [13/Apr/2022 21:34:32] \"POST /get_prediction HTTP/1.1\" 200 -\n",
      "127.0.0.1 - - [13/Apr/2022 21:36:26] \"OPTIONS /get_prediction HTTP/1.1\" 200 -\n"
     ]
    },
    {
     "name": "stdout",
     "output_type": "stream",
     "text": [
      "[1930438491]\n",
      " Predict\n"
     ]
    },
    {
     "name": "stderr",
     "output_type": "stream",
     "text": [
      "127.0.0.1 - - [13/Apr/2022 21:36:30] \"POST /get_prediction HTTP/1.1\" 200 -\n",
      "127.0.0.1 - - [13/Apr/2022 21:37:12] \"OPTIONS /get_prediction HTTP/1.1\" 200 -\n"
     ]
    },
    {
     "name": "stdout",
     "output_type": "stream",
     "text": [
      "[1930438491, 2960623488, 2960581231, 1930659387]\n",
      " Predict\n"
     ]
    },
    {
     "name": "stderr",
     "output_type": "stream",
     "text": [
      "127.0.0.1 - - [13/Apr/2022 21:37:13] \"POST /get_prediction HTTP/1.1\" 200 -\n",
      "127.0.0.1 - - [13/Apr/2022 21:37:56] \"OPTIONS /get_prediction HTTP/1.1\" 200 -\n"
     ]
    },
    {
     "name": "stdout",
     "output_type": "stream",
     "text": [
      "[1930659387, 1930610806]\n",
      " Predict\n"
     ]
    },
    {
     "name": "stderr",
     "output_type": "stream",
     "text": [
      "127.0.0.1 - - [13/Apr/2022 21:37:57] \"POST /get_prediction HTTP/1.1\" 200 -\n",
      "127.0.0.1 - - [13/Apr/2022 21:38:54] \"OPTIONS /get_prediction HTTP/1.1\" 200 -\n"
     ]
    },
    {
     "name": "stdout",
     "output_type": "stream",
     "text": [
      "[2960623488, 1930659387, 1930610806, 1930788296, 1930817482, 1930676042]\n",
      " Predict\n"
     ]
    },
    {
     "name": "stderr",
     "output_type": "stream",
     "text": [
      "127.0.0.1 - - [13/Apr/2022 21:38:55] \"POST /get_prediction HTTP/1.1\" 200 -\n",
      "127.0.0.1 - - [13/Apr/2022 22:30:00] \"OPTIONS /get_prediction HTTP/1.1\" 200 -\n"
     ]
    },
    {
     "name": "stdout",
     "output_type": "stream",
     "text": [
      "[1930438491]\n",
      " Predict\n"
     ]
    },
    {
     "name": "stderr",
     "output_type": "stream",
     "text": [
      "127.0.0.1 - - [13/Apr/2022 22:30:02] \"POST /get_prediction HTTP/1.1\" 200 -\n"
     ]
    },
    {
     "name": "stdout",
     "output_type": "stream",
     "text": [
      "[1930438491]\n",
      " Predict\n"
     ]
    },
    {
     "name": "stderr",
     "output_type": "stream",
     "text": [
      "127.0.0.1 - - [13/Apr/2022 22:30:03] \"POST /get_prediction HTTP/1.1\" 200 -\n",
      "127.0.0.1 - - [14/Apr/2022 05:19:22] \"OPTIONS /get_prediction HTTP/1.1\" 200 -\n"
     ]
    },
    {
     "name": "stdout",
     "output_type": "stream",
     "text": [
      "[2960618790]\n",
      " Predict\n"
     ]
    },
    {
     "name": "stderr",
     "output_type": "stream",
     "text": [
      "127.0.0.1 - - [14/Apr/2022 05:19:24] \"POST /get_prediction HTTP/1.1\" 200 -\n",
      "127.0.0.1 - - [14/Apr/2022 05:19:35] \"OPTIONS /get_prediction HTTP/1.1\" 200 -\n"
     ]
    },
    {
     "name": "stdout",
     "output_type": "stream",
     "text": [
      "[1930803605]\n",
      " Predict\n"
     ]
    },
    {
     "name": "stderr",
     "output_type": "stream",
     "text": [
      "127.0.0.1 - - [14/Apr/2022 05:19:36] \"POST /get_prediction HTTP/1.1\" 200 -\n",
      "127.0.0.1 - - [14/Apr/2022 05:40:49] \"OPTIONS /get_prediction HTTP/1.1\" 200 -\n"
     ]
    },
    {
     "name": "stdout",
     "output_type": "stream",
     "text": [
      "[1930438491, 1929646410, 1929873765]\n",
      " Predict\n"
     ]
    },
    {
     "name": "stderr",
     "output_type": "stream",
     "text": [
      "127.0.0.1 - - [14/Apr/2022 05:40:50] \"POST /get_prediction HTTP/1.1\" 200 -\n"
     ]
    },
    {
     "name": "stdout",
     "output_type": "stream",
     "text": [
      "[1930438491, 1929646410, 1929873765]\n",
      " Predict\n"
     ]
    },
    {
     "name": "stderr",
     "output_type": "stream",
     "text": [
      "127.0.0.1 - - [14/Apr/2022 05:40:52] \"POST /get_prediction HTTP/1.1\" 200 -\n",
      "127.0.0.1 - - [14/Apr/2022 05:41:21] \"OPTIONS /get_prediction HTTP/1.1\" 200 -\n"
     ]
    },
    {
     "name": "stdout",
     "output_type": "stream",
     "text": [
      "[1930647189, 1930635649]\n",
      " Predict\n"
     ]
    },
    {
     "name": "stderr",
     "output_type": "stream",
     "text": [
      "127.0.0.1 - - [14/Apr/2022 05:41:22] \"POST /get_prediction HTTP/1.1\" 200 -\n",
      "127.0.0.1 - - [14/Apr/2022 06:21:33] \"OPTIONS /get_prediction HTTP/1.1\" 200 -\n"
     ]
    },
    {
     "name": "stdout",
     "output_type": "stream",
     "text": [
      "[1929873765]\n",
      " Predict\n"
     ]
    },
    {
     "name": "stderr",
     "output_type": "stream",
     "text": [
      "127.0.0.1 - - [14/Apr/2022 06:21:34] \"POST /get_prediction HTTP/1.1\" 200 -\n"
     ]
    },
    {
     "name": "stdout",
     "output_type": "stream",
     "text": [
      "[1929873765]\n",
      " Predict\n"
     ]
    },
    {
     "name": "stderr",
     "output_type": "stream",
     "text": [
      "127.0.0.1 - - [14/Apr/2022 06:21:36] \"POST /get_prediction HTTP/1.1\" 200 -\n",
      "127.0.0.1 - - [14/Apr/2022 06:22:27] \"OPTIONS /get_prediction HTTP/1.1\" 200 -\n"
     ]
    },
    {
     "name": "stdout",
     "output_type": "stream",
     "text": [
      "[1929873765]\n",
      " Predict\n"
     ]
    },
    {
     "name": "stderr",
     "output_type": "stream",
     "text": [
      "127.0.0.1 - - [14/Apr/2022 06:22:28] \"POST /get_prediction HTTP/1.1\" 200 -\n"
     ]
    }
   ],
   "source": [
    "from flask import Flask, redirect, url_for, render_template, request,jsonify, make_response\n",
    "import New_Bucket\n",
    "import pandas as pd\n",
    "from flask_cors import CORS\n",
    "\n",
    "data = pd.DataFrame()\n",
    "app = Flask(__name__)\n",
    "CORS(app)\n",
    "\n",
    "@app.route(\"/\",methods=[\"POST\", \"GET\"])\n",
    "def home():\n",
    "    \n",
    "    if request.method == \"POST\":\n",
    "        print(request.json)\n",
    "        business_code = request.json[\"business_code\"]\n",
    "        cust_number = request.json['cust_number']\n",
    "        name_customer = request.json['name_customer']\n",
    "        clear_date = request.json['clear_date']\n",
    "        buisness_year = int(request.json['buisness_year'])\n",
    "        doc_id = int(request.json['doc_id'])\n",
    "        posting_date = request.json['posting_date']\n",
    "        due_in_date = request.json['due_in_date']\n",
    "        baseline_create_date = request.json['baseline_create_date']\n",
    "        cust_payment_terms = request.json['cust_payment_terms']\n",
    "        converted_usd = float(request.json['converted_usd'])\n",
    " \n",
    "        data['business_code'] = [business_code]\n",
    "        data['cust_number'] = [cust_number]\n",
    "        data['name_customer'] = [name_customer]\n",
    "        data['clear_date'] = [clear_date]\n",
    "        data['buisness_year'] = [buisness_year]\n",
    "        data['doc_id'] = [doc_id]\n",
    "        data['posting_date'] =[posting_date]\n",
    "        data['due_in_date'] = [due_in_date]\n",
    "        data['baseline_create_date'] = [baseline_create_date]\n",
    "        data['cust_payment_terms'] = [cust_payment_terms]\n",
    "        data['converted_usd'] = [converted_usd]\n",
    "        \n",
    "        \n",
    "        print(request.json)\n",
    "        \n",
    "       \n",
    "        \n",
    "        response = make_response(jsonify(New_Bucket.predict(data)),200)\n",
    "        response.headers[\"Content-Type\"] = \"application/json\"\n",
    "        return response\n",
    "    else:\n",
    "        return render_template(\"index1.html\")\n",
    "        \n",
    "@app.route(\"/get_prediction\", methods=[\"GET\",'POST'])\n",
    "def get_prediction():    \n",
    "    if request.method == \"POST\":\n",
    "        doc_id_list = list(request.json[\"data\"])\n",
    "        print(doc_id_list)\n",
    "        response = make_response(jsonify(New_Bucket.doc_id_bucket(doc_id_list)),200)\n",
    "        response.headers[\"Access-Control-Allow-Origin\"]=\"*\"\n",
    "        response.headers[\"Content-Type\"] = \"application/json\"\n",
    "        return response\n",
    "    else:\n",
    "        return render_template(\"index2.html\")\n",
    "    \n",
    "\n",
    "@app.route(\"/all\", methods=[\"GET\",'POST'])\n",
    "def alll():    \n",
    "    if request.method == \"POST\":        \n",
    "        response = make_response(jsonify(New_Bucket.alll()),200)       \n",
    "        response.headers[\"Content-Type\"] = \"application/json\"\n",
    "        return response\n",
    "    else:\n",
    "        return render_template(\"index3.html\")    \n",
    "    \n",
    "@app.route(\"/login\", methods=[\"POST\", \"GET\"])\n",
    "def login():\n",
    "    if request.method == \"POST\":\n",
    "        user = request.form[\"nm\"]\n",
    "        return redirect(url_for(\"user\", usr=user))\n",
    "    else:\n",
    "        return render_template(\"login.html\")\n",
    "\n",
    "@app.route(\"/<usr>\")\n",
    "def user(usr):\n",
    "    return f\"<h1>{usr}</h1>\"\n",
    "\n",
    "if __name__ == \"__main__\":\n",
    "    app.run()"
   ]
  },
  {
   "cell_type": "code",
   "execution_count": 1,
   "id": "01d240e3",
   "metadata": {},
   "outputs": [
    {
     "name": "stdout",
     "output_type": "stream",
     "text": [
      "Requirement already satisfied: flask in c:\\python310\\lib\\site-packages (2.1.1)\n",
      "Requirement already satisfied: click>=8.0 in c:\\users\\kiit\\appdata\\roaming\\python\\python310\\site-packages (from flask) (8.0.3)\n",
      "Requirement already satisfied: itsdangerous>=2.0 in c:\\python310\\lib\\site-packages (from flask) (2.1.2)\n",
      "Requirement already satisfied: Werkzeug>=2.0 in c:\\python310\\lib\\site-packages (from flask) (2.1.1)\n",
      "Requirement already satisfied: Jinja2>=3.0 in c:\\python310\\lib\\site-packages (from flask) (3.1.1)\n",
      "Requirement already satisfied: colorama in c:\\python310\\lib\\site-packages (from click>=8.0->flask) (0.4.4)\n",
      "Requirement already satisfied: MarkupSafe>=2.0 in c:\\python310\\lib\\site-packages (from Jinja2>=3.0->flask) (2.1.1)\n"
     ]
    },
    {
     "name": "stderr",
     "output_type": "stream",
     "text": [
      "WARNING: Ignoring invalid distribution -ip (c:\\python310\\lib\\site-packages)\n",
      "WARNING: Ignoring invalid distribution -ip (c:\\python310\\lib\\site-packages)\n",
      "WARNING: Ignoring invalid distribution -ip (c:\\python310\\lib\\site-packages)\n",
      "WARNING: Ignoring invalid distribution -ip (c:\\python310\\lib\\site-packages)\n",
      "WARNING: Ignoring invalid distribution -ip (c:\\python310\\lib\\site-packages)\n",
      "WARNING: Ignoring invalid distribution -ip (c:\\python310\\lib\\site-packages)\n",
      "WARNING: You are using pip version 21.2.4; however, version 22.0.4 is available.\n",
      "You should consider upgrading via the 'C:\\Python310\\python.exe -m pip install --upgrade pip' command.\n"
     ]
    }
   ],
   "source": [
    "!pip install flask"
   ]
  },
  {
   "cell_type": "code",
   "execution_count": 3,
   "id": "287fe5bc",
   "metadata": {},
   "outputs": [
    {
     "name": "stdout",
     "output_type": "stream",
     "text": [
      "Collecting flask_cors"
     ]
    },
    {
     "name": "stderr",
     "output_type": "stream",
     "text": [
      "WARNING: Ignoring invalid distribution -ip (c:\\python310\\lib\\site-packages)\n",
      "WARNING: Ignoring invalid distribution -ip (c:\\python310\\lib\\site-packages)\n",
      "WARNING: Ignoring invalid distribution -ip (c:\\python310\\lib\\site-packages)\n",
      "WARNING: Ignoring invalid distribution -ip (c:\\python310\\lib\\site-packages)\n",
      "WARNING: Ignoring invalid distribution -ip (c:\\python310\\lib\\site-packages)\n",
      "WARNING: Ignoring invalid distribution -ip (c:\\python310\\lib\\site-packages)\n",
      "WARNING: Ignoring invalid distribution -ip (c:\\python310\\lib\\site-packages)\n",
      "WARNING: You are using pip version 21.2.4; however, version 22.0.4 is available.\n",
      "You should consider upgrading via the 'C:\\Python310\\python.exe -m pip install --upgrade pip' command.\n"
     ]
    },
    {
     "name": "stdout",
     "output_type": "stream",
     "text": [
      "\n",
      "  Downloading Flask_Cors-3.0.10-py2.py3-none-any.whl (14 kB)\n",
      "Requirement already satisfied: Flask>=0.9 in c:\\python310\\lib\\site-packages (from flask_cors) (2.1.1)\n",
      "Requirement already satisfied: Six in c:\\python310\\lib\\site-packages (from flask_cors) (1.16.0)\n",
      "Requirement already satisfied: Werkzeug>=2.0 in c:\\python310\\lib\\site-packages (from Flask>=0.9->flask_cors) (2.1.1)\n",
      "Requirement already satisfied: itsdangerous>=2.0 in c:\\python310\\lib\\site-packages (from Flask>=0.9->flask_cors) (2.1.2)\n",
      "Requirement already satisfied: Jinja2>=3.0 in c:\\python310\\lib\\site-packages (from Flask>=0.9->flask_cors) (3.1.1)\n",
      "Requirement already satisfied: click>=8.0 in c:\\users\\kiit\\appdata\\roaming\\python\\python310\\site-packages (from Flask>=0.9->flask_cors) (8.0.3)\n",
      "Requirement already satisfied: colorama in c:\\python310\\lib\\site-packages (from click>=8.0->Flask>=0.9->flask_cors) (0.4.4)\n",
      "Requirement already satisfied: MarkupSafe>=2.0 in c:\\python310\\lib\\site-packages (from Jinja2>=3.0->Flask>=0.9->flask_cors) (2.1.1)\n",
      "Installing collected packages: flask-cors\n",
      "Successfully installed flask-cors-3.0.10\n"
     ]
    }
   ],
   "source": [
    "!pip install flask_cors"
   ]
  },
  {
   "cell_type": "code",
   "execution_count": null,
   "id": "00d885e9",
   "metadata": {},
   "outputs": [],
   "source": []
  }
 ],
 "metadata": {
  "kernelspec": {
   "display_name": "Python 3",
   "language": "python",
   "name": "python3"
  },
  "language_info": {
   "codemirror_mode": {
    "name": "ipython",
    "version": 3
   },
   "file_extension": ".py",
   "mimetype": "text/x-python",
   "name": "python",
   "nbconvert_exporter": "python",
   "pygments_lexer": "ipython3",
   "version": "3.10.1"
  }
 },
 "nbformat": 4,
 "nbformat_minor": 5
}
